{
  "nbformat": 4,
  "nbformat_minor": 0,
  "metadata": {
    "colab": {
      "provenance": []
    },
    "kernelspec": {
      "name": "python3",
      "display_name": "Python 3"
    },
    "language_info": {
      "name": "python"
    }
  },
  "cells": [
    {
      "cell_type": "markdown",
      "source": [
        "# Предобработка данных. Скейлеры"
      ],
      "metadata": {
        "id": "hFCrj-L5OjGV"
      }
    },
    {
      "cell_type": "markdown",
      "source": [
        "## Исходные данные"
      ],
      "metadata": {
        "id": "esLONqoQJ-gU"
      }
    },
    {
      "cell_type": "code",
      "source": [
        "from sklearn.datasets import load_iris\n",
        "\n",
        "# загрузка датасета\n",
        "iris = load_iris()\n",
        "\n",
        "# получение части данных\n",
        "X_train = iris.data[:10]\n",
        "\n",
        "X_train, X_train.mean(), X_train.std(), X_train.min(), X_train.max()"
      ],
      "metadata": {
        "colab": {
          "base_uri": "https://localhost:8080/"
        },
        "id": "UEcuVwmmJ6C0",
        "outputId": "ac13fd15-595a-4f1c-cfbb-07a2d602fe9a"
      },
      "execution_count": 3,
      "outputs": [
        {
          "output_type": "execute_result",
          "data": {
            "text/plain": [
              "(array([[5.1, 3.5, 1.4, 0.2],\n",
              "        [4.9, 3. , 1.4, 0.2],\n",
              "        [4.7, 3.2, 1.3, 0.2],\n",
              "        [4.6, 3.1, 1.5, 0.2],\n",
              "        [5. , 3.6, 1.4, 0.2],\n",
              "        [5.4, 3.9, 1.7, 0.4],\n",
              "        [4.6, 3.4, 1.4, 0.3],\n",
              "        [5. , 3.4, 1.5, 0.2],\n",
              "        [4.4, 2.9, 1.4, 0.2],\n",
              "        [4.9, 3.1, 1.5, 0.1]]),\n",
              " 2.46,\n",
              " 1.781684596105607,\n",
              " 0.1,\n",
              " 5.4)"
            ]
          },
          "metadata": {},
          "execution_count": 3
        }
      ]
    },
    {
      "cell_type": "markdown",
      "source": [
        "## StandardScaler"
      ],
      "metadata": {
        "id": "jh0kNQl9JOci"
      }
    },
    {
      "cell_type": "code",
      "execution_count": 4,
      "metadata": {
        "colab": {
          "base_uri": "https://localhost:8080/"
        },
        "id": "06gRJIa2HLb-",
        "outputId": "e323c5d8-1d44-4687-ddc1-eb4f40179863"
      },
      "outputs": [
        {
          "output_type": "execute_result",
          "data": {
            "text/plain": [
              "(array([[ 0.86828953,  0.65207831, -0.48795004, -0.26726124],\n",
              "        [ 0.14471492, -1.06391725, -0.48795004, -0.26726124],\n",
              "        [-0.57885968, -0.37751902, -1.46385011, -0.26726124],\n",
              "        [-0.94064699, -0.72071813,  0.48795004, -0.26726124],\n",
              "        [ 0.50650222,  0.99527742, -0.48795004, -0.26726124],\n",
              "        [ 1.95365143,  2.02487476,  2.43975018,  2.40535118],\n",
              "        [-0.94064699,  0.3088792 , -0.48795004,  1.06904497],\n",
              "        [ 0.50650222,  0.3088792 ,  0.48795004, -0.26726124],\n",
              "        [-1.66422159, -1.40711636, -0.48795004, -0.26726124],\n",
              "        [ 0.14471492, -0.72071813,  0.48795004, -1.60356745]]),\n",
              " 8.437694987151189e-16,\n",
              " 1.0)"
            ]
          },
          "metadata": {},
          "execution_count": 4
        }
      ],
      "source": [
        "from sklearn.preprocessing import StandardScaler\n",
        "\n",
        "# создаем объект скейлера\n",
        "scaler = StandardScaler()\n",
        "\n",
        "# масштабируем данные\n",
        "X_train_scaled = scaler.fit_transform(X_train)\n",
        "\n",
        "X_train_scaled, X_train_scaled.mean(), X_train_scaled.std()"
      ]
    },
    {
      "cell_type": "markdown",
      "source": [
        "## MinMaxScaler"
      ],
      "metadata": {
        "id": "2th7wkgZJmXn"
      }
    },
    {
      "cell_type": "code",
      "source": [
        "from sklearn.preprocessing import MinMaxScaler\n",
        "\n",
        "# создаем объект скейлера\n",
        "scaler = MinMaxScaler()\n",
        "\n",
        "# масштабируем данные\n",
        "X_train_scaled = scaler.fit_transform(X_train)\n",
        "\n",
        "X_train_scaled, X_train_scaled.min(), X_train_scaled.max()"
      ],
      "metadata": {
        "colab": {
          "base_uri": "https://localhost:8080/"
        },
        "id": "WI0ljuoBJcUI",
        "outputId": "4696a628-7c53-446c-a683-24a6418d2629"
      },
      "execution_count": 5,
      "outputs": [
        {
          "output_type": "execute_result",
          "data": {
            "text/plain": [
              "(array([[0.7       , 0.6       , 0.25      , 0.33333333],\n",
              "        [0.5       , 0.1       , 0.25      , 0.33333333],\n",
              "        [0.3       , 0.3       , 0.        , 0.33333333],\n",
              "        [0.2       , 0.2       , 0.5       , 0.33333333],\n",
              "        [0.6       , 0.7       , 0.25      , 0.33333333],\n",
              "        [1.        , 1.        , 1.        , 1.        ],\n",
              "        [0.2       , 0.5       , 0.25      , 0.66666667],\n",
              "        [0.6       , 0.5       , 0.5       , 0.33333333],\n",
              "        [0.        , 0.        , 0.25      , 0.33333333],\n",
              "        [0.5       , 0.2       , 0.5       , 0.        ]]),\n",
              " 0.0,\n",
              " 1.0)"
            ]
          },
          "metadata": {},
          "execution_count": 5
        }
      ]
    },
    {
      "cell_type": "markdown",
      "source": [
        "## MaxAbsScaler"
      ],
      "metadata": {
        "id": "NKSujEDMJpvU"
      }
    },
    {
      "cell_type": "code",
      "source": [
        "from sklearn.preprocessing import MaxAbsScaler\n",
        "\n",
        "# создаем объект скейлера\n",
        "scaler = MaxAbsScaler()\n",
        "\n",
        "# масштабируем данные\n",
        "X_train_scaled = scaler.fit_transform(X_train)\n",
        "\n",
        "X_train_scaled, X_train_scaled.min(), X_train_scaled.max()"
      ],
      "metadata": {
        "colab": {
          "base_uri": "https://localhost:8080/"
        },
        "id": "nZgsOTPMJpfd",
        "outputId": "ca61d71c-d48a-48c2-cf08-f49dd0813a0d"
      },
      "execution_count": 6,
      "outputs": [
        {
          "output_type": "execute_result",
          "data": {
            "text/plain": [
              "(array([[0.94444444, 0.8974359 , 0.82352941, 0.5       ],\n",
              "        [0.90740741, 0.76923077, 0.82352941, 0.5       ],\n",
              "        [0.87037037, 0.82051282, 0.76470588, 0.5       ],\n",
              "        [0.85185185, 0.79487179, 0.88235294, 0.5       ],\n",
              "        [0.92592593, 0.92307692, 0.82352941, 0.5       ],\n",
              "        [1.        , 1.        , 1.        , 1.        ],\n",
              "        [0.85185185, 0.87179487, 0.82352941, 0.75      ],\n",
              "        [0.92592593, 0.87179487, 0.88235294, 0.5       ],\n",
              "        [0.81481481, 0.74358974, 0.82352941, 0.5       ],\n",
              "        [0.90740741, 0.79487179, 0.88235294, 0.25      ]]),\n",
              " 0.25,\n",
              " 1.0)"
            ]
          },
          "metadata": {},
          "execution_count": 6
        }
      ]
    },
    {
      "cell_type": "markdown",
      "source": [
        "## RobustScaler"
      ],
      "metadata": {
        "id": "ZgJtGKNnJlL6"
      }
    },
    {
      "cell_type": "code",
      "source": [
        "from sklearn.preprocessing import RobustScaler\n",
        "\n",
        "# создаем объект скейлера\n",
        "scaler = RobustScaler()\n",
        "\n",
        "# масштабируем данные\n",
        "X_train_scaled = scaler.fit_transform(X_train)\n",
        "\n",
        "X_train_scaled\n"
      ],
      "metadata": {
        "colab": {
          "base_uri": "https://localhost:8080/"
        },
        "id": "yS5-U3IoJk9t",
        "outputId": "b9714c3b-3cc2-4499-ec3c-a951a8b235f1"
      },
      "execution_count": 7,
      "outputs": [
        {
          "output_type": "execute_result",
          "data": {
            "text/plain": [
              "array([[ 0.53333333,  0.53333333,  0.        ,  0.        ],\n",
              "       [ 0.        , -0.8       ,  0.        ,  0.        ],\n",
              "       [-0.53333333, -0.26666667, -1.        ,  0.        ],\n",
              "       [-0.8       , -0.53333333,  1.        ,  0.        ],\n",
              "       [ 0.26666667,  0.8       ,  0.        ,  0.        ],\n",
              "       [ 1.33333333,  1.6       ,  3.        ,  0.2       ],\n",
              "       [-0.8       ,  0.26666667,  0.        ,  0.1       ],\n",
              "       [ 0.26666667,  0.26666667,  1.        ,  0.        ],\n",
              "       [-1.33333333, -1.06666667,  0.        ,  0.        ],\n",
              "       [ 0.        , -0.53333333,  1.        , -0.1       ]])"
            ]
          },
          "metadata": {},
          "execution_count": 7
        }
      ]
    },
    {
      "cell_type": "markdown",
      "source": [
        "# Прогнозирование данных"
      ],
      "metadata": {
        "id": "GTpmY0dXOsAu"
      }
    },
    {
      "cell_type": "markdown",
      "source": [
        "## Линейная регрессия"
      ],
      "metadata": {
        "id": "cp1E95t0O0pJ"
      }
    },
    {
      "cell_type": "code",
      "source": [
        "import numpy as np\n",
        "from sklearn.linear_model import LinearRegression\n",
        "\n",
        "# создаем набор данных\n",
        "X = np.array([1, 2, 3, 4, 5]).reshape((-1, 1))\n",
        "Y = np.array([2, 4, 5, 4, 5])\n",
        "\n",
        "# создаем объект LinearRegression\n",
        "model = LinearRegression()\n",
        "\n",
        "# обучаем модель на наборе данных\n",
        "model.fit(X, Y)\n",
        "\n",
        "# получаем прогноз значения для новых данных\n",
        "x_new = np.array([6]).reshape((-1, 1))\n",
        "y_new = model.predict(x_new)\n",
        "\n",
        "y_new"
      ],
      "metadata": {
        "colab": {
          "base_uri": "https://localhost:8080/"
        },
        "id": "n2cbook1O1d_",
        "outputId": "519df4cf-c584-4dfe-9ccb-ceb6643e4c08"
      },
      "execution_count": 8,
      "outputs": [
        {
          "output_type": "execute_result",
          "data": {
            "text/plain": [
              "array([5.8])"
            ]
          },
          "metadata": {},
          "execution_count": 8
        }
      ]
    },
    {
      "cell_type": "markdown",
      "source": [
        "# Кластеризация"
      ],
      "metadata": {
        "id": "R4Bj4SODVI9f"
      }
    },
    {
      "cell_type": "code",
      "source": [
        "from sklearn.datasets import make_blobs\n",
        "\n",
        "# инициализируем набор данных\n",
        "X, y = make_blobs(n_samples=200, centers=4, random_state=42)\n"
      ],
      "metadata": {
        "id": "3Y_eGtA4VWkC"
      },
      "execution_count": 9,
      "outputs": []
    },
    {
      "cell_type": "markdown",
      "source": [
        "## Кластеризация KMeans\n"
      ],
      "metadata": {
        "id": "N-G1eLM7THKp"
      }
    },
    {
      "cell_type": "code",
      "source": [
        "from sklearn.cluster import KMeans\n",
        "import matplotlib.pyplot as plt\n",
        "\n",
        "# инициализируем модель KMeans\n",
        "kmeans = KMeans(n_clusters=4)\n",
        "\n",
        "# обучаем модель\n",
        "kmeans.fit(X)\n",
        "\n",
        "# получаем метки кластеров\n",
        "y_kmeans = kmeans.predict(X)\n",
        "\n",
        "# визуализируем данные и кластеры\n",
        "plt.scatter(X[:, 0], X[:, 1], c=y_kmeans, s=50, cmap='viridis')\n",
        "centers = kmeans.cluster_centers_\n",
        "plt.scatter(centers[:, 0], centers[:, 1], c='black', s=200, alpha=0.5);"
      ],
      "metadata": {
        "colab": {
          "base_uri": "https://localhost:8080/",
          "height": 465
        },
        "id": "8aOLfBSJTG4N",
        "outputId": "75daa5e5-4966-4248-c853-0a63afe7e0ff"
      },
      "execution_count": 10,
      "outputs": [
        {
          "output_type": "stream",
          "name": "stderr",
          "text": [
            "/usr/local/lib/python3.10/dist-packages/sklearn/cluster/_kmeans.py:870: FutureWarning: The default value of `n_init` will change from 10 to 'auto' in 1.4. Set the value of `n_init` explicitly to suppress the warning\n",
            "  warnings.warn(\n"
          ]
        },
        {
          "output_type": "display_data",
          "data": {
            "text/plain": [
              "<Figure size 640x480 with 1 Axes>"
            ],
            "image/png": "[encoded data removed]"
          },
          "metadata": {}
        }
      ]
    },
    {
      "cell_type": "markdown",
      "source": [
        "## Кластеризация DBSCAN"
      ],
      "metadata": {
        "id": "C0oP3R2KYsvu"
      }
    },
    {
      "cell_type": "code",
      "source": [
        "from sklearn.cluster import DBSCAN\n",
        "\n",
        "# инициализируем модель DBSCAN\n",
        "dbscan = DBSCAN(eps=0.9, min_samples=5)\n",
        "\n",
        "# обучаем модели\n",
        "dbscan.fit(X)\n",
        "\n",
        "# получаем метки кластеров\n",
        "labels = dbscan.labels_\n",
        "\n",
        "#  визуализируем данные и кластеры\n",
        "unique_labels = np.unique(labels)\n",
        "colors = ['blue', 'green', 'red', 'cyan', 'magenta', 'yellow', 'black']\n",
        "\n",
        "for i, label in enumerate(unique_labels):\n",
        "    if label == -1:\n",
        "        color = 'gray'  # выбросы\n",
        "    else:\n",
        "        color = colors[i % len(colors)]  # остальные кластеры\n",
        "    class_member_mask = (labels == label)\n",
        "    xy = X[class_member_mask]\n",
        "    plt.scatter(xy[:, 0], xy[:, 1], c=color, edgecolor='black', s=50)\n"
      ],
      "metadata": {
        "colab": {
          "base_uri": "https://localhost:8080/",
          "height": 430
        },
        "id": "vO-bTZaOVb7Q",
        "outputId": "2afadf92-67f7-4804-eb3b-2cdd13b213fa"
      },
      "execution_count": 11,
      "outputs": [
        {
          "output_type": "display_data",
          "data": {
            "text/plain": [
              "<Figure size 640x480 with 1 Axes>"
            ],
            "image/png": "[encoded data removed]"
          },
          "metadata": {}
        }
      ]
    },
    {
      "cell_type": "markdown",
      "source": [
        "**Задание для самоконтроля:** попробуйте предобработать исходные данные с помощью скейлеров перед тем, как отправить их в модель кластеризации - изучите результаты"
      ],
      "metadata": {
        "id": "9ckFJrkuWYkc"
      }
    },
    {
      "cell_type": "markdown",
      "source": [
        "# Классификация"
      ],
      "metadata": {
        "id": "dYEL9vWGh_5p"
      }
    },
    {
      "cell_type": "code",
      "source": [
        "from sklearn.model_selection import train_test_split\n",
        "from sklearn.datasets import load_iris\n",
        "from sklearn.metrics import accuracy_score\n",
        "\n",
        "# загружаем данные\n",
        "data = load_iris()\n",
        "\n",
        "# определяем признаки (X) и метки классов (y)\n",
        "X = data.data\n",
        "y = data.target\n",
        "\n",
        "# разделяем на обучающий и тестовый наборы\n",
        "X_train, X_test, y_train, y_test = train_test_split(X, y, test_size=0.2, random_state=42)\n",
        "DATA = X_train, X_test, y_train, y_test\n",
        "\n",
        "def check_model(model, data=DATA):\n",
        "    X_train, X_test, y_train, y_test = data \n",
        "\n",
        "    # обучаем модель на наборе данных\n",
        "    model.fit(X_train, y_train)\n",
        "\n",
        "    # получаем прогноз значения для тестовых данных\n",
        "    y_pred = model.predict(X_test)\n",
        "\n",
        "    # вычисляем точность модели\n",
        "    print(model, \"Accuracy: \", accuracy_score(y_test, y_pred))"
      ],
      "metadata": {
        "id": "capDgF8DitDZ"
      },
      "execution_count": 56,
      "outputs": []
    },
    {
      "cell_type": "markdown",
      "source": [
        "## Логистическая регрессия"
      ],
      "metadata": {
        "id": "57YqnO5qQZ1H"
      }
    },
    {
      "cell_type": "code",
      "source": [
        "from sklearn.linear_model import LogisticRegression\n",
        "\n",
        "# создаем модель LogisticRegression\n",
        "model = LogisticRegression()\n",
        "\n",
        "check_model(model)"
      ],
      "metadata": {
        "colab": {
          "base_uri": "https://localhost:8080/"
        },
        "id": "G5BWi84EQZXq",
        "outputId": "d07d1d48-e4ed-432c-9481-4003632d5d37"
      },
      "execution_count": 57,
      "outputs": [
        {
          "output_type": "stream",
          "name": "stdout",
          "text": [
            "LogisticRegression() Accuracy:  1.0\n"
          ]
        },
        {
          "output_type": "stream",
          "name": "stderr",
          "text": [
            "/usr/local/lib/python3.10/dist-packages/sklearn/linear_model/_logistic.py:458: ConvergenceWarning: lbfgs failed to converge (status=1):\n",
            "STOP: TOTAL NO. of ITERATIONS REACHED LIMIT.\n",
            "\n",
            "Increase the number of iterations (max_iter) or scale the data as shown in:\n",
            "    https://scikit-learn.org/stable/modules/preprocessing.html\n",
            "Please also refer to the documentation for alternative solver options:\n",
            "    https://scikit-learn.org/stable/modules/linear_model.html#logistic-regression\n",
            "  n_iter_i = _check_optimize_result(\n"
          ]
        }
      ]
    },
    {
      "cell_type": "markdown",
      "source": [
        "## Гауссовый Наивный Байес"
      ],
      "metadata": {
        "id": "H31tLZzqiWdW"
      }
    },
    {
      "cell_type": "code",
      "source": [
        "from sklearn.naive_bayes import GaussianNB\n",
        "\n",
        "# создаем модель Gaussian Naive Bayes\n",
        "model = GaussianNB()\n",
        "\n",
        "check_model(model)"
      ],
      "metadata": {
        "colab": {
          "base_uri": "https://localhost:8080/"
        },
        "id": "pv-Hjs0bi4U7",
        "outputId": "f47de323-9bb6-4a7c-f705-8d3834003eaf"
      },
      "execution_count": 58,
      "outputs": [
        {
          "output_type": "stream",
          "name": "stdout",
          "text": [
            "GaussianNB() Accuracy:  1.0\n"
          ]
        }
      ]
    },
    {
      "cell_type": "markdown",
      "source": [
        "## Полиномиальный Наивный Байес"
      ],
      "metadata": {
        "id": "RuSIB-m9ifFk"
      }
    },
    {
      "cell_type": "code",
      "source": [
        "from sklearn.datasets import fetch_20newsgroups\n",
        "from sklearn.feature_extraction.text import CountVectorizer\n",
        "from sklearn.naive_bayes import MultinomialNB\n",
        "from sklearn.metrics import accuracy_score\n",
        "from sklearn.model_selection import train_test_split\n",
        "\n",
        "# создаем модель Multinomial Naive Bayes\n",
        "model = MultinomialNB()\n",
        "\n",
        "check_model(model)"
      ],
      "metadata": {
        "colab": {
          "base_uri": "https://localhost:8080/"
        },
        "id": "P57excPAjxzh",
        "outputId": "f9a9cd91-1ed2-439d-fedb-d5729fa9867e"
      },
      "execution_count": 59,
      "outputs": [
        {
          "output_type": "stream",
          "name": "stdout",
          "text": [
            "MultinomialNB() Accuracy:  0.9\n"
          ]
        }
      ]
    },
    {
      "cell_type": "markdown",
      "source": [
        "## Категориальный Наивный Байес"
      ],
      "metadata": {
        "id": "bKpBZljIkfHZ"
      }
    },
    {
      "cell_type": "code",
      "source": [
        "from sklearn.naive_bayes import CategoricalNB   \n",
        "\n",
        "# создаем модель Categorical Naive Bayes\n",
        "model = CategoricalNB()\n",
        "\n",
        "check_model(model)"
      ],
      "metadata": {
        "colab": {
          "base_uri": "https://localhost:8080/"
        },
        "id": "6K-h-LR1keMW",
        "outputId": "f0d31d4e-5c9d-4dd6-e5ea-e470446c7c9b"
      },
      "execution_count": 60,
      "outputs": [
        {
          "output_type": "stream",
          "name": "stdout",
          "text": [
            "CategoricalNB() Accuracy:  0.9666666666666667\n"
          ]
        }
      ]
    },
    {
      "cell_type": "markdown",
      "source": [
        "## Наивный Байес Бернулли"
      ],
      "metadata": {
        "id": "cJdvIliDifPH"
      }
    },
    {
      "cell_type": "code",
      "source": [
        "from sklearn.naive_bayes import BernoulliNB  \n",
        "from sklearn.datasets import load_digits\n",
        "\n",
        "# создаем модель Bernoulli Naive Bayes\n",
        "model = BernoulliNB()\n",
        "\n",
        "print('Результат на неподходящих данных: ', end=\"\")\n",
        "check_model(model)\n",
        "\n",
        "digits = load_digits()\n",
        "X = digits.data\n",
        "y = digits.target\n",
        "\n",
        "other_data = train_test_split(X, y, random_state=42, test_size=0.3)\n",
        "\n",
        "print('Результат на подходящих данных: ', end=\"\")\n",
        "check_model(model, other_data)"
      ],
      "metadata": {
        "colab": {
          "base_uri": "https://localhost:8080/"
        },
        "id": "h5yuzetRiGl3",
        "outputId": "3cea2232-c818-491f-dcba-13dcdb0506d8"
      },
      "execution_count": 61,
      "outputs": [
        {
          "output_type": "stream",
          "name": "stdout",
          "text": [
            "Результат на неподходящих данных: BernoulliNB() Accuracy:  0.3\n",
            "Результат на подходящих данных: BernoulliNB() Accuracy:  0.8592592592592593\n"
          ]
        }
      ]
    },
    {
      "cell_type": "markdown",
      "source": [
        "## Решающие деревья"
      ],
      "metadata": {
        "id": "BIcnThf_n28d"
      }
    },
    {
      "cell_type": "code",
      "source": [
        "from sklearn.tree import DecisionTreeClassifier\n",
        "\n",
        "# создаем модель DecisionTreeClassifier\n",
        "model = DecisionTreeClassifier()\n",
        "\n",
        "check_model(model)"
      ],
      "metadata": {
        "colab": {
          "base_uri": "https://localhost:8080/"
        },
        "id": "SL-UObplnqKz",
        "outputId": "d0e83c8c-84c6-43f7-d4de-586ea32b8edc"
      },
      "execution_count": 63,
      "outputs": [
        {
          "output_type": "stream",
          "name": "stdout",
          "text": [
            "DecisionTreeClassifier() Accuracy:  1.0\n"
          ]
        }
      ]
    },
    {
      "cell_type": "markdown",
      "source": [
        "**Задание для самоконтроля:** попробуйте использовать другие наборы данных для классификаторов"
      ],
      "metadata": {
        "id": "SQxMRBxRnRny"
      }
    }
  ]
}