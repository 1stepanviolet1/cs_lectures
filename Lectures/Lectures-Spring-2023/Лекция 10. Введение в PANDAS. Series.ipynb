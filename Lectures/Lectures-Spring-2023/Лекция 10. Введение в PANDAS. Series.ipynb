{
 "cells": [
  {
   "cell_type": "code",
   "execution_count": 3,
   "id": "7b3783b7",
   "metadata": {},
   "outputs": [],
   "source": [
    "import pandas as pd\n",
    "import numpy as np"
   ]
  },
  {
   "cell_type": "code",
   "execution_count": 4,
   "id": "a28ce4a9",
   "metadata": {},
   "outputs": [
    {
     "data": {
      "text/plain": [
       "0    1\n",
       "1    2\n",
       "2    3\n",
       "3    4\n",
       "dtype: int64"
      ]
     },
     "execution_count": 4,
     "metadata": {},
     "output_type": "execute_result"
    }
   ],
   "source": [
    "pd.Series([1, 2, 3, 4])"
   ]
  },
  {
   "cell_type": "code",
   "execution_count": 5,
   "id": "b2563dd5",
   "metadata": {},
   "outputs": [
    {
     "data": {
      "text/plain": [
       "a    1\n",
       "b    2\n",
       "c    3\n",
       "d    4\n",
       "dtype: int64"
      ]
     },
     "execution_count": 5,
     "metadata": {},
     "output_type": "execute_result"
    }
   ],
   "source": [
    "pd.Series([1, 2, 3, 4], index=['a', 'b', 'c', 'd'])"
   ]
  },
  {
   "cell_type": "code",
   "execution_count": 7,
   "id": "e3f5781c",
   "metadata": {},
   "outputs": [
    {
     "data": {
      "text/plain": [
       "a    1\n",
       "b    2\n",
       "c    3\n",
       "Name: my_series, dtype: int64"
      ]
     },
     "execution_count": 7,
     "metadata": {},
     "output_type": "execute_result"
    }
   ],
   "source": [
    "pd.Series({'a': 1, 'b':2, 'c':3}, name='my_series')"
   ]
  },
  {
   "cell_type": "code",
   "execution_count": 8,
   "id": "8387d77d",
   "metadata": {},
   "outputs": [
    {
     "data": {
      "text/plain": [
       "0    10\n",
       "dtype: int64"
      ]
     },
     "execution_count": 8,
     "metadata": {},
     "output_type": "execute_result"
    }
   ],
   "source": [
    "pd.Series(10)"
   ]
  },
  {
   "cell_type": "code",
   "execution_count": 9,
   "id": "f6b3de92",
   "metadata": {},
   "outputs": [
    {
     "data": {
      "text/plain": [
       "0     0.00\n",
       "1     0.01\n",
       "2     0.02\n",
       "3     0.03\n",
       "4     0.04\n",
       "      ... \n",
       "95    0.95\n",
       "96    0.96\n",
       "97    0.97\n",
       "98    0.98\n",
       "99    0.99\n",
       "Length: 100, dtype: float64"
      ]
     },
     "execution_count": 9,
     "metadata": {},
     "output_type": "execute_result"
    }
   ],
   "source": [
    "pd.Series(np.arange(0, 1, 0.01))"
   ]
  },
  {
   "cell_type": "code",
   "execution_count": 10,
   "id": "db74ff82",
   "metadata": {},
   "outputs": [
    {
     "data": {
      "text/plain": [
       "my_index\n",
       "0    0\n",
       "1    1\n",
       "2    2\n",
       "3    3\n",
       "dtype: int64"
      ]
     },
     "execution_count": 10,
     "metadata": {},
     "output_type": "execute_result"
    }
   ],
   "source": [
    "series = pd.Series([0, 1, 2, 3])\n",
    "series.index.name = 'my_index'\n",
    "series"
   ]
  },
  {
   "cell_type": "code",
   "execution_count": 11,
   "id": "f8bfd6a0",
   "metadata": {},
   "outputs": [
    {
     "data": {
      "text/plain": [
       "RangeIndex(start=0, stop=4, step=1, name='my_index')"
      ]
     },
     "execution_count": 11,
     "metadata": {},
     "output_type": "execute_result"
    }
   ],
   "source": [
    "series.index"
   ]
  },
  {
   "cell_type": "code",
   "execution_count": 12,
   "id": "fe4dc465",
   "metadata": {},
   "outputs": [
    {
     "data": {
      "text/plain": [
       "array([0, 1, 2, 3])"
      ]
     },
     "execution_count": 12,
     "metadata": {},
     "output_type": "execute_result"
    }
   ],
   "source": [
    "series.values"
   ]
  },
  {
   "cell_type": "code",
   "execution_count": 13,
   "id": "cd7d10a4",
   "metadata": {},
   "outputs": [
    {
     "data": {
      "text/plain": [
       "4"
      ]
     },
     "execution_count": 13,
     "metadata": {},
     "output_type": "execute_result"
    }
   ],
   "source": [
    "len(series)"
   ]
  },
  {
   "cell_type": "code",
   "execution_count": 14,
   "id": "aeeafe05",
   "metadata": {},
   "outputs": [
    {
     "data": {
      "text/plain": [
       "4"
      ]
     },
     "execution_count": 14,
     "metadata": {},
     "output_type": "execute_result"
    }
   ],
   "source": [
    "series.size"
   ]
  },
  {
   "cell_type": "code",
   "execution_count": 15,
   "id": "8e1afd83",
   "metadata": {},
   "outputs": [
    {
     "data": {
      "text/plain": [
       "(4,)"
      ]
     },
     "execution_count": 15,
     "metadata": {},
     "output_type": "execute_result"
    }
   ],
   "source": [
    "series.shape"
   ]
  },
  {
   "cell_type": "code",
   "execution_count": 16,
   "id": "a573f3ae",
   "metadata": {},
   "outputs": [
    {
     "data": {
      "text/plain": [
       "dtype('int64')"
      ]
     },
     "execution_count": 16,
     "metadata": {},
     "output_type": "execute_result"
    }
   ],
   "source": [
    "series.dtype"
   ]
  },
  {
   "cell_type": "code",
   "execution_count": 17,
   "id": "1741f6a9",
   "metadata": {},
   "outputs": [
    {
     "data": {
      "text/plain": [
       "0    a\n",
       "1    b\n",
       "2    c\n",
       "dtype: object"
      ]
     },
     "execution_count": 17,
     "metadata": {},
     "output_type": "execute_result"
    }
   ],
   "source": [
    "pd.Series(list('abc'))"
   ]
  },
  {
   "cell_type": "code",
   "execution_count": 18,
   "id": "1b56b248",
   "metadata": {},
   "outputs": [
    {
     "data": {
      "text/plain": [
       "0    a\n",
       "1    b\n",
       "2    c\n",
       "dtype: string"
      ]
     },
     "execution_count": 18,
     "metadata": {},
     "output_type": "execute_result"
    }
   ],
   "source": [
    "pd.Series(list('abc'), dtype='string')"
   ]
  },
  {
   "cell_type": "code",
   "execution_count": 19,
   "id": "086a7da3",
   "metadata": {},
   "outputs": [
    {
     "data": {
      "text/plain": [
       "0     0.00\n",
       "1     0.01\n",
       "2     0.02\n",
       "3     0.03\n",
       "4     0.04\n",
       "      ... \n",
       "95    0.95\n",
       "96    0.96\n",
       "97    0.97\n",
       "98    0.98\n",
       "99    0.99\n",
       "Length: 100, dtype: float64"
      ]
     },
     "execution_count": 19,
     "metadata": {},
     "output_type": "execute_result"
    }
   ],
   "source": [
    "series = pd.Series(np.arange(0, 1, 0.01))\n",
    "series"
   ]
  },
  {
   "cell_type": "code",
   "execution_count": 20,
   "id": "ffe16c07",
   "metadata": {},
   "outputs": [
    {
     "data": {
      "text/plain": [
       "0    0.00\n",
       "1    0.01\n",
       "2    0.02\n",
       "3    0.03\n",
       "4    0.04\n",
       "dtype: float64"
      ]
     },
     "execution_count": 20,
     "metadata": {},
     "output_type": "execute_result"
    }
   ],
   "source": [
    "series.head()"
   ]
  },
  {
   "cell_type": "code",
   "execution_count": 21,
   "id": "0901e65d",
   "metadata": {},
   "outputs": [
    {
     "data": {
      "text/plain": [
       "0    0.00\n",
       "1    0.01\n",
       "2    0.02\n",
       "3    0.03\n",
       "4    0.04\n",
       "5    0.05\n",
       "6    0.06\n",
       "7    0.07\n",
       "8    0.08\n",
       "9    0.09\n",
       "dtype: float64"
      ]
     },
     "execution_count": 21,
     "metadata": {},
     "output_type": "execute_result"
    }
   ],
   "source": [
    "series.head(10)"
   ]
  },
  {
   "cell_type": "code",
   "execution_count": 22,
   "id": "bb3ee5d1",
   "metadata": {},
   "outputs": [
    {
     "data": {
      "text/plain": [
       "95    0.95\n",
       "96    0.96\n",
       "97    0.97\n",
       "98    0.98\n",
       "99    0.99\n",
       "dtype: float64"
      ]
     },
     "execution_count": 22,
     "metadata": {},
     "output_type": "execute_result"
    }
   ],
   "source": [
    "series.tail()"
   ]
  },
  {
   "cell_type": "code",
   "execution_count": 23,
   "id": "db28924f",
   "metadata": {},
   "outputs": [
    {
     "data": {
      "text/plain": [
       "90    0.90\n",
       "91    0.91\n",
       "92    0.92\n",
       "93    0.93\n",
       "94    0.94\n",
       "95    0.95\n",
       "96    0.96\n",
       "97    0.97\n",
       "98    0.98\n",
       "99    0.99\n",
       "dtype: float64"
      ]
     },
     "execution_count": 23,
     "metadata": {},
     "output_type": "execute_result"
    }
   ],
   "source": [
    "series.tail(10)"
   ]
  },
  {
   "cell_type": "code",
   "execution_count": 25,
   "id": "c38c7f50",
   "metadata": {},
   "outputs": [
    {
     "data": {
      "text/plain": [
       "0     0.0\n",
       "10    0.1\n",
       "20    0.2\n",
       "30    0.3\n",
       "40    0.4\n",
       "50    0.5\n",
       "60    0.6\n",
       "70    0.7\n",
       "80    0.8\n",
       "90    0.9\n",
       "dtype: float64"
      ]
     },
     "execution_count": 25,
     "metadata": {},
     "output_type": "execute_result"
    }
   ],
   "source": [
    "series.take(([i * 10 for i in range(0, 10)]))"
   ]
  },
  {
   "cell_type": "code",
   "execution_count": 28,
   "id": "9e711508",
   "metadata": {},
   "outputs": [
    {
     "data": {
      "text/plain": [
       "one  foo    1\n",
       "     bar    2\n",
       "two  foo    3\n",
       "     bar    4\n",
       "dtype: int64"
      ]
     },
     "execution_count": 28,
     "metadata": {},
     "output_type": "execute_result"
    }
   ],
   "source": [
    "tuples = [\n",
    "    ('one', 'foo'),\n",
    "    ('one', 'bar'),\n",
    "    ('two', 'foo'),\n",
    "    ('two', 'bar')\n",
    "]\n",
    "index = pd.MultiIndex.from_tuples(tuples)\n",
    "series = pd.Series([1, 2, 3, 4], index = index)\n",
    "series"
   ]
  },
  {
   "cell_type": "code",
   "execution_count": 33,
   "id": "109566b6",
   "metadata": {},
   "outputs": [
    {
     "data": {
      "text/plain": [
       "Index(['bar', 'foo'], dtype='object')"
      ]
     },
     "execution_count": 33,
     "metadata": {},
     "output_type": "execute_result"
    }
   ],
   "source": [
    "series.index.levels[1]"
   ]
  },
  {
   "cell_type": "code",
   "execution_count": 36,
   "id": "23317804",
   "metadata": {},
   "outputs": [],
   "source": [
    "array_ = [['one', 'two'],['foo', 'bar']]"
   ]
  },
  {
   "cell_type": "code",
   "execution_count": 39,
   "id": "886eb94c",
   "metadata": {},
   "outputs": [],
   "source": [
    "index = pd.MultiIndex.from_product(array_)"
   ]
  },
  {
   "cell_type": "code",
   "execution_count": 40,
   "id": "8323a746",
   "metadata": {},
   "outputs": [
    {
     "data": {
      "text/plain": [
       "one  foo    1\n",
       "     bar    2\n",
       "two  foo    3\n",
       "     bar    4\n",
       "dtype: int64"
      ]
     },
     "execution_count": 40,
     "metadata": {},
     "output_type": "execute_result"
    }
   ],
   "source": [
    "series = pd.Series([1, 2, 3, 4], index = index)\n",
    "series"
   ]
  },
  {
   "cell_type": "code",
   "execution_count": 41,
   "id": "093545a8",
   "metadata": {},
   "outputs": [
    {
     "data": {
      "text/plain": [
       "a    1\n",
       "b    2\n",
       "c    3\n",
       "d    4\n",
       "dtype: int64"
      ]
     },
     "execution_count": 41,
     "metadata": {},
     "output_type": "execute_result"
    }
   ],
   "source": [
    "series = pd.Series([1, 2, 3, 4])\n",
    "series.index = list('abcd')\n",
    "series"
   ]
  },
  {
   "cell_type": "code",
   "execution_count": 42,
   "id": "a512e40e",
   "metadata": {},
   "outputs": [
    {
     "data": {
      "text/plain": [
       "d    4\n",
       "c    3\n",
       "b    2\n",
       "a    1\n",
       "dtype: int64"
      ]
     },
     "execution_count": 42,
     "metadata": {},
     "output_type": "execute_result"
    }
   ],
   "source": [
    "series = series.reindex(list('dcba'))"
   ]
  },
  {
   "cell_type": "code",
   "execution_count": 43,
   "id": "ab6de0d8",
   "metadata": {},
   "outputs": [
    {
     "data": {
      "text/plain": [
       "d    4.0\n",
       "c    3.0\n",
       "b    2.0\n",
       "A    NaN\n",
       "dtype: float64"
      ]
     },
     "execution_count": 43,
     "metadata": {},
     "output_type": "execute_result"
    }
   ],
   "source": [
    "series.reindex(list('dcbA'))"
   ]
  },
  {
   "cell_type": "code",
   "execution_count": 44,
   "id": "148c7b62",
   "metadata": {},
   "outputs": [
    {
     "data": {
      "text/plain": [
       "nan"
      ]
     },
     "execution_count": 44,
     "metadata": {},
     "output_type": "execute_result"
    }
   ],
   "source": [
    "np.nan"
   ]
  },
  {
   "cell_type": "code",
   "execution_count": 45,
   "id": "4b1ea93c",
   "metadata": {
    "scrolled": true
   },
   "outputs": [
    {
     "data": {
      "text/plain": [
       "d    4\n",
       "c    3\n",
       "b    2\n",
       "S   -1\n",
       "dtype: int64"
      ]
     },
     "execution_count": 45,
     "metadata": {},
     "output_type": "execute_result"
    }
   ],
   "source": [
    "series.reindex(list('dcbS'), fill_value=-1)"
   ]
  },
  {
   "cell_type": "code",
   "execution_count": 46,
   "id": "43367bba",
   "metadata": {},
   "outputs": [
    {
     "data": {
      "text/plain": [
       "0    False\n",
       "1    False\n",
       "2     True\n",
       "dtype: bool"
      ]
     },
     "execution_count": 46,
     "metadata": {},
     "output_type": "execute_result"
    }
   ],
   "source": [
    "series = pd.Series([-1, 0, 1])\n",
    "series > 0"
   ]
  },
  {
   "cell_type": "code",
   "execution_count": 48,
   "id": "1aa6c569",
   "metadata": {},
   "outputs": [
    {
     "data": {
      "text/plain": [
       "'d'"
      ]
     },
     "execution_count": 48,
     "metadata": {},
     "output_type": "execute_result"
    }
   ],
   "source": [
    "series = pd.Series([3, 2, 1, 0, 1, 2, 3], index=list('abcdefg'))\n",
    "series.idxmin()"
   ]
  },
  {
   "cell_type": "code",
   "execution_count": 49,
   "id": "d6340e49",
   "metadata": {},
   "outputs": [
    {
     "data": {
      "text/plain": [
       "a    3\n",
       "b    2\n",
       "c    1\n",
       "d    0\n",
       "e    1\n",
       "f    2\n",
       "g    3\n",
       "dtype: int64"
      ]
     },
     "execution_count": 49,
     "metadata": {},
     "output_type": "execute_result"
    }
   ],
   "source": [
    "series"
   ]
  },
  {
   "cell_type": "code",
   "execution_count": 58,
   "id": "7032e6da",
   "metadata": {},
   "outputs": [
    {
     "data": {
      "text/plain": [
       "2"
      ]
     },
     "execution_count": 58,
     "metadata": {},
     "output_type": "execute_result"
    }
   ],
   "source": [
    "series = pd.Series([3, 2, 1, 0, 1, 2, 3], index=list('abcdefg'))\n",
    "series.iloc[1]"
   ]
  },
  {
   "cell_type": "code",
   "execution_count": 51,
   "id": "47ec2147",
   "metadata": {},
   "outputs": [
    {
     "data": {
      "text/plain": [
       "2"
      ]
     },
     "execution_count": 51,
     "metadata": {},
     "output_type": "execute_result"
    }
   ],
   "source": [
    "series[1]"
   ]
  },
  {
   "cell_type": "code",
   "execution_count": 59,
   "id": "adcd28a3",
   "metadata": {},
   "outputs": [
    {
     "data": {
      "text/plain": [
       "2"
      ]
     },
     "execution_count": 59,
     "metadata": {},
     "output_type": "execute_result"
    }
   ],
   "source": [
    "series['b']"
   ]
  },
  {
   "cell_type": "code",
   "execution_count": 52,
   "id": "799d0b48",
   "metadata": {},
   "outputs": [
    {
     "data": {
      "text/plain": [
       "0"
      ]
     },
     "execution_count": 52,
     "metadata": {},
     "output_type": "execute_result"
    }
   ],
   "source": [
    "series.loc['d']"
   ]
  },
  {
   "cell_type": "code",
   "execution_count": 53,
   "id": "d904fb93",
   "metadata": {},
   "outputs": [
    {
     "data": {
      "text/plain": [
       "d    0\n",
       "e    1\n",
       "f    2\n",
       "dtype: int64"
      ]
     },
     "execution_count": 53,
     "metadata": {},
     "output_type": "execute_result"
    }
   ],
   "source": [
    "series.loc[['d', 'e', 'f']]"
   ]
  },
  {
   "cell_type": "code",
   "execution_count": 54,
   "id": "c1966c70",
   "metadata": {},
   "outputs": [
    {
     "data": {
      "text/plain": [
       "a    3\n",
       "b    2\n",
       "c    1\n",
       "dtype: int64"
      ]
     },
     "execution_count": 54,
     "metadata": {},
     "output_type": "execute_result"
    }
   ],
   "source": [
    "series.iloc[[0, 1, 2]]"
   ]
  },
  {
   "cell_type": "code",
   "execution_count": null,
   "id": "0f5f4c96",
   "metadata": {},
   "outputs": [],
   "source": [
    "series[]"
   ]
  },
  {
   "cell_type": "code",
   "execution_count": 60,
   "id": "b9eb2acd",
   "metadata": {},
   "outputs": [
    {
     "data": {
      "text/plain": [
       "3"
      ]
     },
     "execution_count": 60,
     "metadata": {},
     "output_type": "execute_result"
    }
   ],
   "source": [
    "series = pd.Series([3, 2, 1, 0, 1, 2, 3], index=[10, 20, 30, 40, 50, 60, 70])\n",
    "series[10]"
   ]
  },
  {
   "cell_type": "code",
   "execution_count": 62,
   "id": "11e711da",
   "metadata": {},
   "outputs": [
    {
     "data": {
      "text/plain": [
       "a    3\n",
       "b    5\n",
       "c    1\n",
       "d    0\n",
       "e    1\n",
       "f    2\n",
       "g    3\n",
       "dtype: int64"
      ]
     },
     "execution_count": 62,
     "metadata": {},
     "output_type": "execute_result"
    }
   ],
   "source": [
    "series = pd.Series([3, 2, 1, 0, 1, 2, 3], index=list('abcdefg'))\n",
    "series['b'] = 5\n",
    "series"
   ]
  },
  {
   "cell_type": "code",
   "execution_count": 63,
   "id": "918bec08",
   "metadata": {},
   "outputs": [
    {
     "data": {
      "text/plain": [
       "a    5\n",
       "b    2\n",
       "c    1\n",
       "a    5\n",
       "b    1\n",
       "c    2\n",
       "a    5\n",
       "dtype: int64"
      ]
     },
     "execution_count": 63,
     "metadata": {},
     "output_type": "execute_result"
    }
   ],
   "source": [
    "series = pd.Series([3, 2, 1, 0, 1, 2, 3], index=list('abcabca'))\n",
    "series['a'] = 5\n",
    "series"
   ]
  },
  {
   "cell_type": "code",
   "execution_count": 64,
   "id": "75583d83",
   "metadata": {},
   "outputs": [
    {
     "data": {
      "text/plain": [
       "a    3\n",
       "b    2\n",
       "c    1\n",
       "d   -2\n",
       "e   -2\n",
       "f   -2\n",
       "g    3\n",
       "dtype: int64"
      ]
     },
     "execution_count": 64,
     "metadata": {},
     "output_type": "execute_result"
    }
   ],
   "source": [
    "series = pd.Series([3, 2, 1, 0, 1, 2, 3], index=list('abcdefg'))\n",
    "series.loc[['d', 'e', 'f']] = -2\n",
    "series"
   ]
  },
  {
   "cell_type": "code",
   "execution_count": 72,
   "id": "0dd99662",
   "metadata": {},
   "outputs": [
    {
     "data": {
      "text/plain": [
       "a    1\n",
       "c    3\n",
       "e    5\n",
       "g    7\n",
       "dtype: int64"
      ]
     },
     "execution_count": 72,
     "metadata": {},
     "output_type": "execute_result"
    }
   ],
   "source": [
    "series = pd.Series([1, 2, 3, 4, 5, 6, 7], index=list('abcdefg'))\n",
    "series.iloc[::2]"
   ]
  },
  {
   "cell_type": "code",
   "execution_count": 74,
   "id": "41c1aad8",
   "metadata": {},
   "outputs": [
    {
     "data": {
      "text/plain": [
       "b    2\n",
       "d    4\n",
       "dtype: int64"
      ]
     },
     "execution_count": 74,
     "metadata": {},
     "output_type": "execute_result"
    }
   ],
   "source": [
    "series.loc['b':'e':2]"
   ]
  },
  {
   "cell_type": "code",
   "execution_count": 75,
   "id": "ed8209ea",
   "metadata": {},
   "outputs": [],
   "source": [
    "series = pd.Series([-3, -2, -1, 0, 1, 2, 3], index=list('abcdefg'))"
   ]
  },
  {
   "cell_type": "code",
   "execution_count": 76,
   "id": "52c90e05",
   "metadata": {},
   "outputs": [
    {
     "data": {
      "text/plain": [
       "a    False\n",
       "b    False\n",
       "c    False\n",
       "d    False\n",
       "e     True\n",
       "f     True\n",
       "g     True\n",
       "dtype: bool"
      ]
     },
     "execution_count": 76,
     "metadata": {},
     "output_type": "execute_result"
    }
   ],
   "source": [
    "series > 0"
   ]
  },
  {
   "cell_type": "code",
   "execution_count": 77,
   "id": "184ad174",
   "metadata": {},
   "outputs": [
    {
     "data": {
      "text/plain": [
       "e    1\n",
       "f    2\n",
       "g    3\n",
       "dtype: int64"
      ]
     },
     "execution_count": 77,
     "metadata": {},
     "output_type": "execute_result"
    }
   ],
   "source": [
    "series[series > 0]"
   ]
  },
  {
   "cell_type": "code",
   "execution_count": 80,
   "id": "57991011",
   "metadata": {},
   "outputs": [
    {
     "data": {
      "text/plain": [
       "c   -1\n",
       "dtype: int64"
      ]
     },
     "execution_count": 80,
     "metadata": {},
     "output_type": "execute_result"
    }
   ],
   "source": [
    "series[(series > -2) & (series < series.mean())]"
   ]
  },
  {
   "cell_type": "code",
   "execution_count": 81,
   "id": "e5fd0f2e",
   "metadata": {},
   "outputs": [
    {
     "data": {
      "text/plain": [
       "a   -6\n",
       "b   -4\n",
       "c   -2\n",
       "d    0\n",
       "e    2\n",
       "f    4\n",
       "g    6\n",
       "dtype: int64"
      ]
     },
     "execution_count": 81,
     "metadata": {},
     "output_type": "execute_result"
    }
   ],
   "source": [
    "series = pd.Series([-3, -2, -1, 0, 1, 2, 3], index=list('abcdefg'))\n",
    "series * 2"
   ]
  },
  {
   "cell_type": "code",
   "execution_count": 82,
   "id": "cf9b0e99",
   "metadata": {},
   "outputs": [
    {
     "data": {
      "text/plain": [
       "a   -1.5\n",
       "b   -1.0\n",
       "c   -0.5\n",
       "d    0.0\n",
       "e    0.5\n",
       "f    1.0\n",
       "g    1.5\n",
       "dtype: float64"
      ]
     },
     "execution_count": 82,
     "metadata": {},
     "output_type": "execute_result"
    }
   ],
   "source": [
    "series / 2"
   ]
  },
  {
   "cell_type": "code",
   "execution_count": 83,
   "id": "7e7af49b",
   "metadata": {},
   "outputs": [
    {
     "data": {
      "text/plain": [
       "a    9\n",
       "b    4\n",
       "c    1\n",
       "d    0\n",
       "e    1\n",
       "f    4\n",
       "g    9\n",
       "dtype: int64"
      ]
     },
     "execution_count": 83,
     "metadata": {},
     "output_type": "execute_result"
    }
   ],
   "source": [
    "series ** 2"
   ]
  },
  {
   "cell_type": "code",
   "execution_count": 85,
   "id": "d3cd0979",
   "metadata": {},
   "outputs": [
    {
     "data": {
      "text/plain": [
       "0    a\n",
       "1    b\n",
       "2    c\n",
       "3    d\n",
       "4    e\n",
       "5    f\n",
       "6    g\n",
       "dtype: object"
      ]
     },
     "execution_count": 85,
     "metadata": {},
     "output_type": "execute_result"
    }
   ],
   "source": [
    "series = pd.Series(list('abcdefg'))\n",
    "series"
   ]
  },
  {
   "cell_type": "code",
   "execution_count": 86,
   "id": "a53bfab2",
   "metadata": {},
   "outputs": [
    {
     "data": {
      "text/plain": [
       "0    aaaaaaaaaa\n",
       "1    bbbbbbbbbb\n",
       "2    cccccccccc\n",
       "3    dddddddddd\n",
       "4    eeeeeeeeee\n",
       "5    ffffffffff\n",
       "6    gggggggggg\n",
       "dtype: object"
      ]
     },
     "execution_count": 86,
     "metadata": {},
     "output_type": "execute_result"
    }
   ],
   "source": [
    "series * 10"
   ]
  },
  {
   "cell_type": "code",
   "execution_count": 88,
   "id": "5596e370",
   "metadata": {},
   "outputs": [],
   "source": [
    "#series / 10 TypeError"
   ]
  },
  {
   "cell_type": "code",
   "execution_count": 89,
   "id": "5883765c",
   "metadata": {},
   "outputs": [
    {
     "data": {
      "text/plain": [
       "0    aaa\n",
       "1     bb\n",
       "2      c\n",
       "3       \n",
       "4      e\n",
       "5     ff\n",
       "6    ggg\n",
       "dtype: object"
      ]
     },
     "execution_count": 89,
     "metadata": {},
     "output_type": "execute_result"
    }
   ],
   "source": [
    "series1 = pd.Series(list('abcdefg'))\n",
    "series2 = pd.Series([3, 2, 1, 0, 1, 2, 3])\n",
    "series1 * series2"
   ]
  },
  {
   "cell_type": "code",
   "execution_count": 91,
   "id": "5f1f9358",
   "metadata": {},
   "outputs": [
    {
     "data": {
      "text/plain": [
       "a    9.0\n",
       "b    4.0\n",
       "c    1.0\n",
       "d    0.0\n",
       "e    1.0\n",
       "f    4.0\n",
       "g    NaN\n",
       "k    NaN\n",
       "dtype: float64"
      ]
     },
     "execution_count": 91,
     "metadata": {},
     "output_type": "execute_result"
    }
   ],
   "source": [
    "series1 = pd.Series([3, 2, 1, 0, 1, 2, 3], index=list('abcdefg'))\n",
    "series2 = pd.Series([3, 2, 1, 0, 1, 2, 3], index=list('abcdefk'))\n",
    "series1 * series2"
   ]
  },
  {
   "cell_type": "code",
   "execution_count": 92,
   "id": "f784f6ac",
   "metadata": {},
   "outputs": [
    {
     "data": {
      "text/plain": [
       "a     9.0\n",
       "b     4.0\n",
       "c     1.0\n",
       "d     0.0\n",
       "e     1.0\n",
       "f     4.0\n",
       "g    30.0\n",
       "k    30.0\n",
       "dtype: float64"
      ]
     },
     "execution_count": 92,
     "metadata": {},
     "output_type": "execute_result"
    }
   ],
   "source": [
    "series1.mul(series2, fill_value=10)"
   ]
  },
  {
   "cell_type": "code",
   "execution_count": 93,
   "id": "fde30414",
   "metadata": {},
   "outputs": [
    {
     "data": {
      "text/plain": [
       "3    A\n",
       "0    B\n",
       "2    C\n",
       "5    C\n",
       "1    a\n",
       "4    b\n",
       "dtype: object"
      ]
     },
     "execution_count": 93,
     "metadata": {},
     "output_type": "execute_result"
    }
   ],
   "source": [
    "series = pd.Series(list('BaCAbC'))\n",
    "series.sort_values()"
   ]
  },
  {
   "cell_type": "code",
   "execution_count": 94,
   "id": "7eb11119",
   "metadata": {},
   "outputs": [
    {
     "data": {
      "text/plain": [
       "4    b\n",
       "1    a\n",
       "2    C\n",
       "5    C\n",
       "0    B\n",
       "3    A\n",
       "dtype: object"
      ]
     },
     "execution_count": 94,
     "metadata": {},
     "output_type": "execute_result"
    }
   ],
   "source": [
    "series.sort_values(ascending=False)"
   ]
  },
  {
   "cell_type": "code",
   "execution_count": 95,
   "id": "828ff4fe",
   "metadata": {},
   "outputs": [
    {
     "data": {
      "text/plain": [
       "0    b\n",
       "1    a\n",
       "2    C\n",
       "3    C\n",
       "4    B\n",
       "5    A\n",
       "dtype: object"
      ]
     },
     "execution_count": 95,
     "metadata": {},
     "output_type": "execute_result"
    }
   ],
   "source": [
    "series.sort_values(ignore_index=True, ascending=False)"
   ]
  },
  {
   "cell_type": "code",
   "execution_count": 96,
   "id": "959148dc",
   "metadata": {},
   "outputs": [
    {
     "data": {
      "text/plain": [
       "0    a\n",
       "1    A\n",
       "2    B\n",
       "3    b\n",
       "4    C\n",
       "5    C\n",
       "dtype: object"
      ]
     },
     "execution_count": 96,
     "metadata": {},
     "output_type": "execute_result"
    }
   ],
   "source": [
    "series.sort_values(\n",
    "    ignore_index=True, \n",
    "    key = lambda x: x.str.lower()\n",
    ")"
   ]
  },
  {
   "cell_type": "code",
   "execution_count": 98,
   "id": "2bad5191",
   "metadata": {},
   "outputs": [
    {
     "data": {
      "text/plain": [
       "a    3\n",
       "b    1\n",
       "c    3\n",
       "d    2\n",
       "e    0\n",
       "f    2\n",
       "g    1\n",
       "dtype: int64"
      ]
     },
     "execution_count": 98,
     "metadata": {},
     "output_type": "execute_result"
    }
   ],
   "source": [
    "series = pd.Series([3, 2, 1, 0, 1, 2, 3], index=list('cdgebfa'))\n",
    "series.sort_index()"
   ]
  },
  {
   "cell_type": "code",
   "execution_count": 100,
   "id": "1140e3c4",
   "metadata": {},
   "outputs": [
    {
     "data": {
      "text/plain": [
       "one  foo    1\n",
       "     bar    2\n",
       "two  foo    3\n",
       "     bar    4\n",
       "dtype: int64"
      ]
     },
     "execution_count": 100,
     "metadata": {},
     "output_type": "execute_result"
    }
   ],
   "source": [
    "index = pd.MultiIndex.from_tuples(tuples)\n",
    "series = pd.Series([1, 2, 3, 4], index = index)\n",
    "series"
   ]
  },
  {
   "cell_type": "code",
   "execution_count": 102,
   "id": "b6af39d5",
   "metadata": {},
   "outputs": [
    {
     "data": {
      "text/plain": [
       "one  bar    2\n",
       "     foo    1\n",
       "two  bar    4\n",
       "     foo    3\n",
       "dtype: int64"
      ]
     },
     "execution_count": 102,
     "metadata": {},
     "output_type": "execute_result"
    }
   ],
   "source": [
    "series.sort_index(level=0)"
   ]
  },
  {
   "cell_type": "code",
   "execution_count": 104,
   "id": "022d76de",
   "metadata": {},
   "outputs": [
    {
     "data": {
      "text/plain": [
       "0    a\n",
       "1    a\n",
       "2    a\n",
       "3    b\n",
       "4    b\n",
       "5    b\n",
       "6    c\n",
       "dtype: object"
      ]
     },
     "execution_count": 104,
     "metadata": {},
     "output_type": "execute_result"
    }
   ],
   "source": [
    "series = pd.Series(list('aaabbbc'))\n",
    "series"
   ]
  },
  {
   "cell_type": "code",
   "execution_count": 105,
   "id": "00cd5364",
   "metadata": {},
   "outputs": [
    {
     "data": {
      "text/plain": [
       "0      A\n",
       "1      A\n",
       "2      A\n",
       "3      B\n",
       "4      B\n",
       "5      B\n",
       "6    NaN\n",
       "dtype: object"
      ]
     },
     "execution_count": 105,
     "metadata": {},
     "output_type": "execute_result"
    }
   ],
   "source": [
    "series.map({'a': 'A', 'b': 'B'})"
   ]
  },
  {
   "cell_type": "code",
   "execution_count": 120,
   "id": "88e410c8",
   "metadata": {},
   "outputs": [
    {
     "data": {
      "text/plain": [
       "0    aaaa\n",
       "1    aaaa\n",
       "2    aaaa\n",
       "3    bbbb\n",
       "4    bbbb\n",
       "5    bbbb\n",
       "6    cccc\n",
       "dtype: object"
      ]
     },
     "execution_count": 120,
     "metadata": {},
     "output_type": "execute_result"
    }
   ],
   "source": [
    "def mul_2(value):\n",
    "    return value * 2\n",
    "\n",
    "\n",
    "series = pd.Series(list('aaabbbc'))\n",
    "series.map(lambda x: x * 4)"
   ]
  },
  {
   "cell_type": "code",
   "execution_count": 109,
   "id": "7de21f76",
   "metadata": {},
   "outputs": [
    {
     "data": {
      "text/plain": [
       "0    Hello a\n",
       "1    Hello a\n",
       "2    Hello a\n",
       "3    Hello b\n",
       "4    Hello b\n",
       "5    Hello b\n",
       "6    Hello c\n",
       "dtype: object"
      ]
     },
     "execution_count": 109,
     "metadata": {},
     "output_type": "execute_result"
    }
   ],
   "source": [
    "\"Hello {}\".format('world')\n",
    "series.map(\"Hello {}\".format)"
   ]
  },
  {
   "cell_type": "code",
   "execution_count": 112,
   "id": "61016974",
   "metadata": {},
   "outputs": [
    {
     "data": {
      "text/plain": [
       "0    -3\n",
       "1     0\n",
       "2     3\n",
       "3     6\n",
       "4     9\n",
       "5    12\n",
       "dtype: int64"
      ]
     },
     "execution_count": 112,
     "metadata": {},
     "output_type": "execute_result"
    }
   ],
   "source": [
    "def func(value, **kwargs):\n",
    "    value = value * kwargs['a']\n",
    "    value = value + kwargs['b']\n",
    "    value = value - kwargs['c']\n",
    "    return value\n",
    "\n",
    "series = pd.Series([1, 2, 3, 4, 5, 6])\n",
    "series.apply(func, a=3, b=4, c=10)"
   ]
  },
  {
   "cell_type": "code",
   "execution_count": 122,
   "id": "c680172a",
   "metadata": {
    "scrolled": false
   },
   "outputs": [
    {
     "data": {
      "text/plain": [
       "0    aaaaaaaaaa\n",
       "1    aaaaaaaaaa\n",
       "2    aaaaaaaaaa\n",
       "3    bbbbbbbbbb\n",
       "4    bbbbbbbbbb\n",
       "5    bbbbbbbbbb\n",
       "6    cccccccccc\n",
       "dtype: object"
      ]
     },
     "execution_count": 122,
     "metadata": {},
     "output_type": "execute_result"
    }
   ],
   "source": [
    "def mul_n(value, n):\n",
    "    return value * n\n",
    "\n",
    "series = pd.Series(list('aaabbbc'))\n",
    "series.apply(mul_n, args=(10,))"
   ]
  },
  {
   "cell_type": "code",
   "execution_count": 113,
   "id": "19226dea",
   "metadata": {},
   "outputs": [
    {
     "data": {
      "text/plain": [
       "0    0.000000\n",
       "1    0.693147\n",
       "2    1.098612\n",
       "3    1.386294\n",
       "4    1.609438\n",
       "5    1.791759\n",
       "dtype: float64"
      ]
     },
     "execution_count": 113,
     "metadata": {},
     "output_type": "execute_result"
    }
   ],
   "source": [
    "series.apply(np.log)"
   ]
  },
  {
   "cell_type": "code",
   "execution_count": 114,
   "id": "def644bc",
   "metadata": {},
   "outputs": [
    {
     "data": {
      "text/plain": [
       "0    1.000000\n",
       "1    1.414214\n",
       "2    1.732051\n",
       "3    2.000000\n",
       "4    2.236068\n",
       "5    2.449490\n",
       "dtype: float64"
      ]
     },
     "execution_count": 114,
     "metadata": {},
     "output_type": "execute_result"
    }
   ],
   "source": [
    "series.apply(np.sqrt)"
   ]
  },
  {
   "cell_type": "code",
   "execution_count": 117,
   "id": "a935fd9c",
   "metadata": {},
   "outputs": [],
   "source": []
  },
  {
   "cell_type": "code",
   "execution_count": 119,
   "id": "d6afbe0a",
   "metadata": {},
   "outputs": [
    {
     "name": "stdout",
     "output_type": "stream",
     "text": [
      "3\n",
      "3\n",
      "3\n",
      "3\n",
      "3\n",
      "3\n",
      "3\n"
     ]
    },
    {
     "data": {
      "text/plain": [
       "0    aa\n",
       "1    aa\n",
       "2    aa\n",
       "3    bb\n",
       "4    bb\n",
       "5    bb\n",
       "6    cc\n",
       "dtype: object"
      ]
     },
     "execution_count": 119,
     "metadata": {},
     "output_type": "execute_result"
    }
   ],
   "source": [
    "def mul_n(value, pair):\n",
    "    print(pair[1])\n",
    "    return value * pair[0]\n",
    "\n",
    "series = pd.Series(list('aaabbbc'))\n",
    "series.apply(mul_n, args=((2, 3),))"
   ]
  },
  {
   "cell_type": "code",
   "execution_count": 123,
   "id": "8e46478d",
   "metadata": {},
   "outputs": [],
   "source": [
    "# series.apply(np.multiply, (,)) разобраться"
   ]
  },
  {
   "cell_type": "code",
   "execution_count": null,
   "id": "1d76db4d",
   "metadata": {},
   "outputs": [],
   "source": []
  }
 ],
 "metadata": {
  "kernelspec": {
   "display_name": "Python 3 (ipykernel)",
   "language": "python",
   "name": "python3"
  },
  "language_info": {
   "codemirror_mode": {
    "name": "ipython",
    "version": 3
   },
   "file_extension": ".py",
   "mimetype": "text/x-python",
   "name": "python",
   "nbconvert_exporter": "python",
   "pygments_lexer": "ipython3",
   "version": "3.10.6"
  }
 },
 "nbformat": 4,
 "nbformat_minor": 5
}
