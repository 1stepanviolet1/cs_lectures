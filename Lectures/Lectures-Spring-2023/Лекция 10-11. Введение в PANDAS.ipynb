{
 "cells": [
  {
   "attachments": {},
   "cell_type": "markdown",
   "id": "03dbcd8f",
   "metadata": {},
   "source": [
    "# Импортирование библиотек"
   ]
  },
  {
   "cell_type": "code",
   "execution_count": 2,
   "id": "5fd47195",
   "metadata": {},
   "outputs": [],
   "source": [
    "import pandas as pd\n",
    "import numpy as np"
   ]
  },
  {
   "attachments": {},
   "cell_type": "markdown",
   "id": "869f413c",
   "metadata": {},
   "source": [
    "# Структура данных Series"
   ]
  },
  {
   "attachments": {},
   "cell_type": "markdown",
   "id": "0f1c0179",
   "metadata": {},
   "source": [
    "### Создание Series"
   ]
  },
  {
   "cell_type": "code",
   "execution_count": 2,
   "id": "e108486b",
   "metadata": {},
   "outputs": [
    {
     "data": {
      "text/plain": [
       "one      1\n",
       "two      2\n",
       "three    3\n",
       "four     4\n",
       "dtype: int64"
      ]
     },
     "execution_count": 2,
     "metadata": {},
     "output_type": "execute_result"
    }
   ],
   "source": [
    "# Из списка\n",
    "pd.Series([1, 2, 3, 4], index=\"one, two, three, four\".split(', '))"
   ]
  },
  {
   "cell_type": "code",
   "execution_count": 3,
   "id": "e8a6a998",
   "metadata": {},
   "outputs": [
    {
     "data": {
      "text/plain": [
       "1      one\n",
       "2      two\n",
       "3    three\n",
       "4     four\n",
       "Name: my_series, dtype: object"
      ]
     },
     "execution_count": 3,
     "metadata": {},
     "output_type": "execute_result"
    }
   ],
   "source": [
    "# Из словаря с заданием имени\n",
    "pd.Series({1: 'one', 2: 'two', 3: 'three', 4: 'four'}, name='my_series')"
   ]
  },
  {
   "cell_type": "code",
   "execution_count": 4,
   "id": "0040c538",
   "metadata": {},
   "outputs": [
    {
     "data": {
      "text/plain": [
       "a    10\n",
       "dtype: int64"
      ]
     },
     "execution_count": 4,
     "metadata": {},
     "output_type": "execute_result"
    }
   ],
   "source": [
    "# Из скаляра\n",
    "pd.Series(10, index=['a'])"
   ]
  },
  {
   "cell_type": "code",
   "execution_count": 5,
   "id": "ba195738",
   "metadata": {},
   "outputs": [
    {
     "data": {
      "text/plain": [
       "0    0.0\n",
       "1    0.1\n",
       "2    0.2\n",
       "3    0.3\n",
       "4    0.4\n",
       "5    0.5\n",
       "6    0.6\n",
       "7    0.7\n",
       "8    0.8\n",
       "9    0.9\n",
       "dtype: float64"
      ]
     },
     "execution_count": 5,
     "metadata": {},
     "output_type": "execute_result"
    }
   ],
   "source": [
    "# Из numpy-array\n",
    "arr = np.arange(0, 1, 0.1)\n",
    "pd.Series(arr)"
   ]
  },
  {
   "cell_type": "code",
   "execution_count": 59,
   "id": "7bb6173d",
   "metadata": {},
   "outputs": [],
   "source": [
    "# Задание индекса\n",
    "series = pd.Series([1, 2, 3, 4], index=\"one, two, three, four\".split(', '))"
   ]
  },
  {
   "attachments": {},
   "cell_type": "markdown",
   "id": "0be6f187",
   "metadata": {},
   "source": [
    "### Основные свойства Series\n"
   ]
  },
  {
   "cell_type": "code",
   "execution_count": 6,
   "id": "bdf95525",
   "metadata": {},
   "outputs": [
    {
     "data": {
      "text/plain": [
       "Index(['one', 'two', 'three', 'four'], dtype='object')"
      ]
     },
     "execution_count": 6,
     "metadata": {},
     "output_type": "execute_result"
    }
   ],
   "source": [
    "# .index (возвращает индекс структуры)\n",
    "series = pd.Series([1, 2, 3, 4], index=\"one, two, three, four\".split(', '))\n",
    "series.index"
   ]
  },
  {
   "cell_type": "code",
   "execution_count": 7,
   "id": "7224e393",
   "metadata": {},
   "outputs": [
    {
     "data": {
      "text/plain": [
       "array([1, 2, 3, 4])"
      ]
     },
     "execution_count": 7,
     "metadata": {},
     "output_type": "execute_result"
    }
   ],
   "source": [
    "# .values (возвращает массив NumPy со всеми значениями структуры)\n",
    "series = pd.Series([1, 2, 3, 4], index=\"one, two, three, four\".split(', '))\n",
    "series.values"
   ]
  },
  {
   "cell_type": "code",
   "execution_count": 18,
   "id": "3238b207",
   "metadata": {},
   "outputs": [
    {
     "name": "stdout",
     "output_type": "stream",
     "text": [
      "4\n",
      "4\n",
      "(4,)\n"
     ]
    }
   ],
   "source": [
    "# Размер и форма\n",
    "print(len(series))\n",
    "print(series.size)\n",
    "print(series.shape) #будет иметь смысл для DataFrame,для series всегда одно значение"
   ]
  },
  {
   "cell_type": "code",
   "execution_count": 33,
   "id": "faefc59b",
   "metadata": {},
   "outputs": [
    {
     "data": {
      "text/plain": [
       "dtype('int64')"
      ]
     },
     "execution_count": 33,
     "metadata": {},
     "output_type": "execute_result"
    }
   ],
   "source": [
    "# Тип данных\n",
    "series = pd.Series([1, 2, 3, 4, 5, 6, 7, 8, 9], index=list('abcdefghi'))\n",
    "series.dtype"
   ]
  },
  {
   "attachments": {},
   "cell_type": "markdown",
   "id": "ec683b93",
   "metadata": {},
   "source": [
    "### Ограничение размера\n"
   ]
  },
  {
   "cell_type": "code",
   "execution_count": 9,
   "id": "1ed88d87",
   "metadata": {},
   "outputs": [
    {
     "data": {
      "text/plain": [
       "a    1\n",
       "b    2\n",
       "c    3\n",
       "d    4\n",
       "dtype: int64"
      ]
     },
     "execution_count": 9,
     "metadata": {},
     "output_type": "execute_result"
    }
   ],
   "source": [
    "# Первые n элементов\n",
    "series = pd.Series([1, 2, 3, 4, 5, 6, 7, 8, 9], index=list('abcdefghi'))\n",
    "series.head(4) # Можно вызвать без значения, по умолчанию n = 10"
   ]
  },
  {
   "cell_type": "code",
   "execution_count": 10,
   "id": "9e7f881c",
   "metadata": {},
   "outputs": [
    {
     "data": {
      "text/plain": [
       "f    6\n",
       "g    7\n",
       "h    8\n",
       "i    9\n",
       "dtype: int64"
      ]
     },
     "execution_count": 10,
     "metadata": {},
     "output_type": "execute_result"
    }
   ],
   "source": [
    "# Последние n элементов\n",
    "series = pd.Series([1, 2, 3, 4, 5, 6, 7, 8, 9], index=list('abcdefghi'))\n",
    "series.tail(4)"
   ]
  },
  {
   "cell_type": "code",
   "execution_count": 11,
   "id": "d6b767cc",
   "metadata": {},
   "outputs": [
    {
     "data": {
      "text/plain": [
       "b    1\n",
       "e    4\n",
       "f    5\n",
       "dtype: int64"
      ]
     },
     "execution_count": 11,
     "metadata": {},
     "output_type": "execute_result"
    }
   ],
   "source": [
    "# Выбрать конкретные знаения по позиции\n",
    "series = pd.Series([0, 1, 2, 3, 4, 5, 6, 7, 8], index=list('abcdefghi'))\n",
    "series.take((1, 4, 5)) # Порядковые имена элементов серии"
   ]
  },
  {
   "attachments": {},
   "cell_type": "markdown",
   "id": "a2fe1efc",
   "metadata": {},
   "source": [
    "### Работа с индексами"
   ]
  },
  {
   "attachments": {},
   "cell_type": "markdown",
   "id": "c6173a38",
   "metadata": {},
   "source": [
    "##### Множественные индексы"
   ]
  },
  {
   "cell_type": "code",
   "execution_count": 12,
   "id": "7a8da10c",
   "metadata": {},
   "outputs": [
    {
     "data": {
      "text/plain": [
       "one  foo    1\n",
       "     bar    2\n",
       "two  foo    3\n",
       "     bar    4\n",
       "dtype: int64"
      ]
     },
     "execution_count": 12,
     "metadata": {},
     "output_type": "execute_result"
    }
   ],
   "source": [
    "# из кортежа\n",
    "tuples = [('one', 'foo'),\n",
    "        ('one', 'bar'),\n",
    "        ('two', 'foo'),\n",
    "        ('two', 'bar')]\n",
    "index = pd.MultiIndex.from_tuples(tuples)\n",
    "pd.Series([1, 2, 3, 4], index=index)"
   ]
  },
  {
   "cell_type": "code",
   "execution_count": 13,
   "id": "21e6f3a1",
   "metadata": {},
   "outputs": [
    {
     "data": {
      "text/plain": [
       "one  foo    1\n",
       "     bar    2\n",
       "two  foo    3\n",
       "     bar    4\n",
       "dtype: int64"
      ]
     },
     "execution_count": 13,
     "metadata": {},
     "output_type": "execute_result"
    }
   ],
   "source": [
    "# из списка Iterable'ов\n",
    "iterables = [['one', 'two'], ['foo', 'bar']]\n",
    "#сопоставление всех элементов первого списка, всем элементам второго\n",
    "index = pd.MultiIndex.from_product(iterables)\n",
    "pd.Series([1, 2, 3, 4], index=index)"
   ]
  },
  {
   "attachments": {},
   "cell_type": "markdown",
   "id": "a417d438",
   "metadata": {},
   "source": [
    "##### Изменение индекса"
   ]
  },
  {
   "cell_type": "code",
   "execution_count": 14,
   "id": "5ebb2663",
   "metadata": {},
   "outputs": [
    {
     "data": {
      "text/plain": [
       "a    1\n",
       "b    2\n",
       "c    3\n",
       "d    4\n",
       "e    5\n",
       "dtype: int64"
      ]
     },
     "execution_count": 14,
     "metadata": {},
     "output_type": "execute_result"
    }
   ],
   "source": [
    "#изменение in-place\n",
    "series = pd.Series([1, 2, 3, 4, 5])\n",
    "series.index = list('abcde')\n",
    "series"
   ]
  },
  {
   "cell_type": "code",
   "execution_count": 15,
   "id": "5321bcb6",
   "metadata": {},
   "outputs": [
    {
     "data": {
      "text/plain": [
       "e    5.0\n",
       "d    4.0\n",
       "c    3.0\n",
       "b    2.0\n",
       "A    NaN\n",
       "dtype: float64"
      ]
     },
     "execution_count": 15,
     "metadata": {},
     "output_type": "execute_result"
    }
   ],
   "source": [
    "# .reindex() возвращает новый объект, меняя порядок индексов\n",
    "#если нового индекса нет в старом списке, подставится значение NaN\n",
    "series = pd.Series([1, 2, 3, 4, 5], index=list('abcde'))\n",
    "series.reindex(list('edcbA'))"
   ]
  },
  {
   "cell_type": "code",
   "execution_count": 16,
   "id": "9cfc28a5",
   "metadata": {},
   "outputs": [
    {
     "data": {
      "text/plain": [
       "e    5\n",
       "d    4\n",
       "c    3\n",
       "b    2\n",
       "A    0\n",
       "dtype: int64"
      ]
     },
     "execution_count": 16,
     "metadata": {},
     "output_type": "execute_result"
    }
   ],
   "source": [
    "series = pd.Series([1, 2, 3, 4, 5], index=list('abcde'))\n",
    "#можно выбрать значение, которым заполнить NaN\n",
    "series.reindex(list('edcbA'), fill_value=0)"
   ]
  },
  {
   "attachments": {},
   "cell_type": "markdown",
   "id": "02faec10",
   "metadata": {},
   "source": [
    "### Полезные методы series"
   ]
  },
  {
   "cell_type": "code",
   "execution_count": 17,
   "id": "609fc6ec",
   "metadata": {},
   "outputs": [
    {
     "data": {
      "text/plain": [
       "count    9.000000\n",
       "mean     4.000000\n",
       "std      2.738613\n",
       "min      0.000000\n",
       "25%      2.000000\n",
       "50%      4.000000\n",
       "75%      6.000000\n",
       "max      8.000000\n",
       "dtype: float64"
      ]
     },
     "execution_count": 17,
     "metadata": {},
     "output_type": "execute_result"
    }
   ],
   "source": [
    "series = pd.Series([0, 1, 2, 3, 4, 5, 6, 7, 8], index=list('abcdefghi'))\n",
    "series.describe() #выводит описательные статистики Series"
   ]
  },
  {
   "cell_type": "code",
   "execution_count": 18,
   "id": "78bf66e6",
   "metadata": {},
   "outputs": [
    {
     "data": {
      "text/plain": [
       "d    4\n",
       "c    3\n",
       "b    2\n",
       "a    1\n",
       "dtype: int64"
      ]
     },
     "execution_count": 18,
     "metadata": {},
     "output_type": "execute_result"
    }
   ],
   "source": [
    "series = pd.Series(['a', 'b', 'b', 'c', 'c', 'c', 'd', 'd', 'd', 'd'])\n",
    "series.value_counts() #количество каждого элемента в серии"
   ]
  },
  {
   "cell_type": "code",
   "execution_count": 19,
   "id": "50f0aaf9",
   "metadata": {},
   "outputs": [
    {
     "data": {
      "text/plain": [
       "0    3\n",
       "1    2\n",
       "2    1\n",
       "3    0\n",
       "4    1\n",
       "5    2\n",
       "6    3\n",
       "dtype: int64"
      ]
     },
     "execution_count": 19,
     "metadata": {},
     "output_type": "execute_result"
    }
   ],
   "source": [
    "series = pd.Series([-3, -2, -1, 0, 1, 2, 3])\n",
    "series.abs() #возвести все значения в абсолют"
   ]
  },
  {
   "cell_type": "code",
   "execution_count": 32,
   "id": "d804c2e9",
   "metadata": {},
   "outputs": [
    {
     "name": "stdout",
     "output_type": "stream",
     "text": [
      "0\n",
      "0.0\n",
      "-3\n",
      "3\n"
     ]
    }
   ],
   "source": [
    "series = pd.Series([-3, -2, -1, 0, 1, 2, 3])\n",
    "print(series.sum())#cумма значений\n",
    "print(series.mean())#среднее значение\n",
    "print(series.min())#минимальное значение\n",
    "print(series.max())#максимальное значение"
   ]
  },
  {
   "cell_type": "code",
   "execution_count": 53,
   "id": "93687869",
   "metadata": {},
   "outputs": [
    {
     "name": "stdout",
     "output_type": "stream",
     "text": [
      "True\n",
      "False\n"
     ]
    }
   ],
   "source": [
    "series = pd.Series([-3, -2, -1, 0, 1, 2, 3])\n",
    "# .any() возвращает True, если хотя бы один элемент True\n",
    "# .all() # возвращает True, если все элементы True\n",
    "print((series > 0).any())\n",
    "print((series > 0).all())"
   ]
  },
  {
   "cell_type": "code",
   "execution_count": 20,
   "id": "210c80de",
   "metadata": {},
   "outputs": [
    {
     "name": "stdout",
     "output_type": "stream",
     "text": [
      "4.995\n",
      "9.490499999999999\n"
     ]
    }
   ],
   "source": [
    "# Квантили с конкретным процентом\n",
    "series = pd.Series(np.arange(0, 10, 0.01))\n",
    "print(series.quantile(0.5))\n",
    "print(series.quantile(0.95))"
   ]
  },
  {
   "cell_type": "code",
   "execution_count": 40,
   "id": "248b3e6a",
   "metadata": {},
   "outputs": [
    {
     "name": "stdout",
     "output_type": "stream",
     "text": [
      "[1 2 3 4 5]\n",
      "5\n"
     ]
    }
   ],
   "source": [
    "series = pd.Series([1, 2, 2, 3, 3, 4, 4, 5, 5])\n",
    "print(series.unique())#все уникальные значения\n",
    "print(series.nunique())#количество уникальных значений"
   ]
  },
  {
   "cell_type": "code",
   "execution_count": 22,
   "id": "507e76b4",
   "metadata": {},
   "outputs": [
    {
     "data": {
      "text/plain": [
       "0    1\n",
       "1    2\n",
       "2    3\n",
       "dtype: int64"
      ]
     },
     "execution_count": 22,
     "metadata": {},
     "output_type": "execute_result"
    }
   ],
   "source": [
    "# Изменение типа данных Series\n",
    "series = pd.Series(list('123'))\n",
    "series.astype('int') #string -> int"
   ]
  },
  {
   "cell_type": "code",
   "execution_count": 43,
   "id": "23f23c51",
   "metadata": {},
   "outputs": [
    {
     "data": {
      "text/plain": [
       "'a'"
      ]
     },
     "execution_count": 43,
     "metadata": {},
     "output_type": "execute_result"
    }
   ],
   "source": [
    "series = pd.Series([3, 2, 1, 0, 1, 2, 3], index=list('abcdefg'))\n",
    "series.idxmin()#индекс минимального значения\n",
    "series.idxmax()#индекс максимального значения"
   ]
  },
  {
   "cell_type": "code",
   "execution_count": 47,
   "id": "f81d955f",
   "metadata": {},
   "outputs": [
    {
     "data": {
      "text/plain": [
       "0     True\n",
       "1     True\n",
       "2     True\n",
       "3    False\n",
       "4     True\n",
       "5     True\n",
       "6     True\n",
       "dtype: bool"
      ]
     },
     "execution_count": 47,
     "metadata": {},
     "output_type": "execute_result"
    }
   ],
   "source": [
    "series = pd.Series([3, 2, 1, 0, 1, 2, 3])\n",
    "series.isin([1, 2, 3]) #проверить каждое значение на принадлежность набору данных"
   ]
  },
  {
   "cell_type": "code",
   "execution_count": 50,
   "id": "86ee782c",
   "metadata": {},
   "outputs": [
    {
     "data": {
      "text/plain": [
       "24"
      ]
     },
     "execution_count": 50,
     "metadata": {},
     "output_type": "execute_result"
    }
   ],
   "source": [
    "series = pd.Series([1, 2, 3, 4])\n",
    "series.prod() #произведение элементов выборки"
   ]
  },
  {
   "cell_type": "code",
   "execution_count": 51,
   "id": "ed71c8da",
   "metadata": {},
   "outputs": [
    {
     "data": {
      "text/plain": [
       "array([3, 2, 1, 0, 1, 2, 3])"
      ]
     },
     "execution_count": 51,
     "metadata": {},
     "output_type": "execute_result"
    }
   ],
   "source": [
    "series = pd.Series([3, 2, 1, 0, 1, 2, 3])\n",
    "series.to_numpy() #преобразование в numpy массив"
   ]
  },
  {
   "cell_type": "code",
   "execution_count": 36,
   "id": "9f8bd4bf",
   "metadata": {},
   "outputs": [
    {
     "name": "stdout",
     "output_type": "stream",
     "text": [
      "0\n",
      "3\n"
     ]
    }
   ],
   "source": [
    "series = pd.Series([3, 2, 1, 0, 1, 2, 3])\n",
    "print(series.idxmax()) #индекс максимального значения\n",
    "print(series.idxmin()) #индекс минимального значения"
   ]
  },
  {
   "attachments": {},
   "cell_type": "markdown",
   "id": "b70615a1",
   "metadata": {},
   "source": [
    "### Получение данных из Series"
   ]
  },
  {
   "cell_type": "code",
   "execution_count": 25,
   "id": "5a35757a",
   "metadata": {
    "scrolled": true
   },
   "outputs": [
    {
     "data": {
      "text/plain": [
       "3"
      ]
     },
     "execution_count": 25,
     "metadata": {},
     "output_type": "execute_result"
    }
   ],
   "source": [
    "# .iloc (получение данных по позиции)\n",
    "series = pd.Series([3, 2, 1, 0, 1, 2, 3], index=list('abcdefg'))\n",
    "series.iloc[0]"
   ]
  },
  {
   "cell_type": "code",
   "execution_count": 26,
   "id": "dbb6172e",
   "metadata": {},
   "outputs": [
    {
     "data": {
      "text/plain": [
       "b    2\n",
       "c    1\n",
       "d    0\n",
       "e    1\n",
       "dtype: int64"
      ]
     },
     "execution_count": 26,
     "metadata": {},
     "output_type": "execute_result"
    }
   ],
   "source": [
    "series = pd.Series([3, 2, 1, 0, 1, 2, 3], index=list('abcdefg'))\n",
    "# можно доставать сразу несколько\n",
    "series.iloc[[1, 2, 3, 4]]"
   ]
  },
  {
   "cell_type": "code",
   "execution_count": 62,
   "id": "e9e49afc",
   "metadata": {},
   "outputs": [
    {
     "data": {
      "text/plain": [
       "a    3\n",
       "a    1\n",
       "b    2\n",
       "b    2\n",
       "c    1\n",
       "c    3\n",
       "d    0\n",
       "dtype: int64"
      ]
     },
     "execution_count": 62,
     "metadata": {},
     "output_type": "execute_result"
    }
   ],
   "source": [
    "# .loc (получение данных по индексу)\n",
    "series = pd.Series([3, 2, 1, 0, 1, 2, 3], index=list('abcdabc'))\n",
    "#выводятся все индексы, которые подходят под запрос\n",
    "series.loc[['a', 'b', 'c', 'd']]"
   ]
  },
  {
   "cell_type": "code",
   "execution_count": 27,
   "id": "006284e0",
   "metadata": {},
   "outputs": [
    {
     "data": {
      "text/plain": [
       "a    1\n",
       "b    2\n",
       "c    3\n",
       "d    4\n",
       "e    5\n",
       "dtype: int64"
      ]
     },
     "execution_count": 27,
     "metadata": {},
     "output_type": "execute_result"
    }
   ],
   "source": [
    "# Оператор [] c нецелочисленным индексом\n",
    "series = pd.Series([1, 2, 3, 4, 5], index=list('abcde'))\n",
    "series"
   ]
  },
  {
   "cell_type": "code",
   "execution_count": 59,
   "id": "67bf7143",
   "metadata": {},
   "outputs": [
    {
     "data": {
      "text/plain": [
       "2"
      ]
     },
     "execution_count": 59,
     "metadata": {},
     "output_type": "execute_result"
    }
   ],
   "source": [
    "# достает по позиции\n",
    "series[1]"
   ]
  },
  {
   "cell_type": "code",
   "execution_count": 61,
   "id": "856c47a6",
   "metadata": {},
   "outputs": [
    {
     "data": {
      "text/plain": [
       "2"
      ]
     },
     "execution_count": 61,
     "metadata": {},
     "output_type": "execute_result"
    }
   ],
   "source": [
    "# достает по индексу\n",
    "series['b']"
   ]
  },
  {
   "cell_type": "code",
   "execution_count": 62,
   "id": "7991f228",
   "metadata": {},
   "outputs": [
    {
     "data": {
      "text/plain": [
       "1    1\n",
       "2    2\n",
       "3    3\n",
       "4    4\n",
       "5    5\n",
       "dtype: int64"
      ]
     },
     "execution_count": 62,
     "metadata": {},
     "output_type": "execute_result"
    }
   ],
   "source": [
    "# Оператор [] c целочисленным индексом\n",
    "series = pd.Series([1, 2, 3, 4, 5], index=[1, 2, 3, 4, 5])\n",
    "series"
   ]
  },
  {
   "cell_type": "code",
   "execution_count": 28,
   "id": "2a4cd02e",
   "metadata": {},
   "outputs": [
    {
     "data": {
      "text/plain": [
       "2"
      ]
     },
     "execution_count": 28,
     "metadata": {},
     "output_type": "execute_result"
    }
   ],
   "source": [
    "# достает только по индексу\n",
    "series[1]"
   ]
  },
  {
   "cell_type": "code",
   "execution_count": null,
   "id": "a1d2623f",
   "metadata": {},
   "outputs": [],
   "source": [
    "# series[6] - ошибка"
   ]
  },
  {
   "attachments": {},
   "cell_type": "markdown",
   "id": "33f41f43",
   "metadata": {},
   "source": [
    "### Изменение данных Series"
   ]
  },
  {
   "cell_type": "code",
   "execution_count": 32,
   "id": "43839450",
   "metadata": {},
   "outputs": [
    {
     "data": {
      "text/plain": [
       "a    15\n",
       "b     2\n",
       "c     3\n",
       "d     4\n",
       "e     5\n",
       "a    15\n",
       "b     7\n",
       "dtype: int64"
      ]
     },
     "execution_count": 32,
     "metadata": {},
     "output_type": "execute_result"
    }
   ],
   "source": [
    "# По индексу\n",
    "series = pd.Series([1, 2, 3, 4, 5, 6, 7], index=list('abcdeab'))\n",
    "# изменяются также все индексы, которые подходят под запрос\n",
    "series.loc['a'] = 15\n",
    "series"
   ]
  },
  {
   "cell_type": "code",
   "execution_count": 31,
   "id": "4f43b5dc",
   "metadata": {},
   "outputs": [
    {
     "data": {
      "text/plain": [
       "1     1\n",
       "2    10\n",
       "3     3\n",
       "4     4\n",
       "5     5\n",
       "dtype: int64"
      ]
     },
     "execution_count": 31,
     "metadata": {},
     "output_type": "execute_result"
    }
   ],
   "source": [
    "# По позиции\n",
    "series = pd.Series([1, 2, 3, 4, 5], index=[1, 2, 3, 4, 5])\n",
    "series.iloc[1] = 10\n",
    "series"
   ]
  },
  {
   "cell_type": "code",
   "execution_count": 30,
   "id": "5b616e7b",
   "metadata": {},
   "outputs": [
    {
     "data": {
      "text/plain": [
       "a    10\n",
       "b     2\n",
       "c     3\n",
       "d     4\n",
       "e     5\n",
       "a    10\n",
       "b     7\n",
       "dtype: int64"
      ]
     },
     "execution_count": 30,
     "metadata": {},
     "output_type": "execute_result"
    }
   ],
   "source": [
    "# Оператор []\n",
    "series = pd.Series([1, 2, 3, 4, 5, 6, 7], index=list('abcdeab'))\n",
    "series['a'] = 10\n",
    "series"
   ]
  },
  {
   "attachments": {},
   "cell_type": "markdown",
   "id": "69d85cf9",
   "metadata": {},
   "source": [
    "### Срезы Series"
   ]
  },
  {
   "attachments": {},
   "cell_type": "markdown",
   "id": "a33d125d",
   "metadata": {},
   "source": [
    "##### Срезы по позиции"
   ]
  },
  {
   "cell_type": "code",
   "execution_count": null,
   "id": "9ee80d42",
   "metadata": {},
   "outputs": [],
   "source": [
    "series = pd.Series([1, 2, 3, 4, 5], index=[1, 2, 3, 4, 5])\n",
    "series.iloc[-1]"
   ]
  },
  {
   "cell_type": "code",
   "execution_count": 68,
   "id": "1fa9e5b3",
   "metadata": {},
   "outputs": [
    {
     "data": {
      "text/plain": [
       "2    2\n",
       "4    4\n",
       "dtype: int64"
      ]
     },
     "execution_count": 68,
     "metadata": {},
     "output_type": "execute_result"
    }
   ],
   "source": [
    "series = pd.Series([1, 2, 3, 4, 5], index=[1, 2, 3, 4, 5])\n",
    "series.iloc[1::2] #каждое второе начиная с 1-ой позиции (четные позиции)"
   ]
  },
  {
   "cell_type": "code",
   "execution_count": 69,
   "id": "5362b5a7",
   "metadata": {},
   "outputs": [
    {
     "data": {
      "text/plain": [
       "2    2\n",
       "3    3\n",
       "dtype: int64"
      ]
     },
     "execution_count": 69,
     "metadata": {},
     "output_type": "execute_result"
    }
   ],
   "source": [
    "series = pd.Series([1, 2, 3, 4, 5], index=[1, 2, 3, 4, 5])\n",
    "series.iloc[1:3:] #с 1 по 3 позицию (правая позиция не включается)"
   ]
  },
  {
   "attachments": {},
   "cell_type": "markdown",
   "id": "9629c9f2",
   "metadata": {},
   "source": [
    "##### Срезы по индексу"
   ]
  },
  {
   "cell_type": "code",
   "execution_count": 72,
   "id": "9fabf29b",
   "metadata": {},
   "outputs": [
    {
     "data": {
      "text/plain": [
       "a    1\n",
       "b    2\n",
       "c    3\n",
       "d    4\n",
       "dtype: int64"
      ]
     },
     "execution_count": 72,
     "metadata": {},
     "output_type": "execute_result"
    }
   ],
   "source": [
    "series = pd.Series([1, 2, 3, 4, 5], index=list('abcde'))\n",
    "series.loc['a':'d'] #с 'a' по 'd' (правая позиция включается)"
   ]
  },
  {
   "cell_type": "code",
   "execution_count": 74,
   "id": "e7edcd46",
   "metadata": {},
   "outputs": [
    {
     "data": {
      "text/plain": [
       "a    1\n",
       "c    3\n",
       "dtype: int64"
      ]
     },
     "execution_count": 74,
     "metadata": {},
     "output_type": "execute_result"
    }
   ],
   "source": [
    "series = pd.Series([1, 2, 3, 4, 5], index=list('abcde'))\n",
    "series.loc['a':'d':2] #также можно задавать шаг"
   ]
  },
  {
   "attachments": {},
   "cell_type": "markdown",
   "id": "45824e49",
   "metadata": {},
   "source": [
    "### Фильтрация значений Series"
   ]
  },
  {
   "cell_type": "code",
   "execution_count": 33,
   "id": "bf71fa7d",
   "metadata": {},
   "outputs": [
    {
     "data": {
      "text/plain": [
       "a    1\n",
       "b    2\n",
       "dtype: int64"
      ]
     },
     "execution_count": 33,
     "metadata": {},
     "output_type": "execute_result"
    }
   ],
   "source": [
    "# Можно использовать логические выражения для фильтрации значений Series\n",
    "series = pd.Series([1, 2, 3, 4, 5], index=list('abcde'))\n",
    "series[series < 3]"
   ]
  },
  {
   "cell_type": "code",
   "execution_count": 34,
   "id": "0f6a1281",
   "metadata": {},
   "outputs": [
    {
     "data": {
      "text/plain": [
       "b    2\n",
       "c    3\n",
       "dtype: int64"
      ]
     },
     "execution_count": 34,
     "metadata": {},
     "output_type": "execute_result"
    }
   ],
   "source": [
    "# Можно фильтровать по нескольким условиям\n",
    "series = pd.Series([1, 2, 3, 4, 5], index=list('abcde'))\n",
    "series[(series > 1) & (series <= series.mean())] #скобки обязательны из-за приоритета операторов"
   ]
  },
  {
   "attachments": {},
   "cell_type": "markdown",
   "id": "3bf2542b",
   "metadata": {},
   "source": [
    "### Математические операции над Series"
   ]
  },
  {
   "attachments": {},
   "cell_type": "markdown",
   "id": "9605734b",
   "metadata": {},
   "source": [
    "##### Операции с числами"
   ]
  },
  {
   "attachments": {},
   "cell_type": "markdown",
   "id": "02747624",
   "metadata": {},
   "source": [
    "Series поддерживает все математические операции Python, если его тип данных их поддерживает эту операцию\n"
   ]
  },
  {
   "cell_type": "code",
   "execution_count": 98,
   "id": "58d09ad7",
   "metadata": {},
   "outputs": [
    {
     "data": {
      "text/plain": [
       "0    0.5\n",
       "1    1.0\n",
       "2    1.5\n",
       "3    2.0\n",
       "4    2.5\n",
       "dtype: float64"
      ]
     },
     "execution_count": 98,
     "metadata": {},
     "output_type": "execute_result"
    }
   ],
   "source": [
    "series = pd.Series([1, 2, 3, 4, 5])\n",
    "series / 2 "
   ]
  },
  {
   "cell_type": "code",
   "execution_count": 95,
   "id": "1b795c68",
   "metadata": {},
   "outputs": [
    {
     "data": {
      "text/plain": [
       "0    11\n",
       "1    12\n",
       "2    13\n",
       "3    14\n",
       "4    15\n",
       "dtype: int64"
      ]
     },
     "execution_count": 95,
     "metadata": {},
     "output_type": "execute_result"
    }
   ],
   "source": [
    "series + 10"
   ]
  },
  {
   "cell_type": "code",
   "execution_count": 96,
   "id": "da9fec3e",
   "metadata": {},
   "outputs": [
    {
     "data": {
      "text/plain": [
       "0     1\n",
       "1     4\n",
       "2     9\n",
       "3    16\n",
       "4    25\n",
       "dtype: int64"
      ]
     },
     "execution_count": 96,
     "metadata": {},
     "output_type": "execute_result"
    }
   ],
   "source": [
    "series ** 2"
   ]
  },
  {
   "cell_type": "code",
   "execution_count": 99,
   "id": "aa943164",
   "metadata": {},
   "outputs": [
    {
     "data": {
      "text/plain": [
       "0    aaaa\n",
       "1    bbbb\n",
       "2    cccc\n",
       "3    dddd\n",
       "4    eeee\n",
       "dtype: object"
      ]
     },
     "execution_count": 99,
     "metadata": {},
     "output_type": "execute_result"
    }
   ],
   "source": [
    "series = pd.Series(list('abcde'))\n",
    "series * 4"
   ]
  },
  {
   "attachments": {},
   "cell_type": "markdown",
   "id": "b0de4df5",
   "metadata": {},
   "source": [
    "#####  Математические операции с другими Series"
   ]
  },
  {
   "cell_type": "code",
   "execution_count": 260,
   "id": "46e3226c",
   "metadata": {},
   "outputs": [
    {
     "data": {
      "text/plain": [
       "a     2.0\n",
       "b     4.0\n",
       "c     6.0\n",
       "d     8.0\n",
       "e    15.0\n",
       "f    15.0\n",
       "dtype: float64"
      ]
     },
     "execution_count": 260,
     "metadata": {},
     "output_type": "execute_result"
    }
   ],
   "source": [
    "series1 = pd.Series([1, 2, 3, 4, 5], index=list('abcde'))\n",
    "series2 = pd.Series([1, 2, 3, 4, 5], index=list('abcdf'))\n",
    "series1 + series2"
   ]
  },
  {
   "cell_type": "code",
   "execution_count": 104,
   "id": "ea548b79",
   "metadata": {},
   "outputs": [
    {
     "data": {
      "text/plain": [
       "a     NaN\n",
       "b     2.0\n",
       "c     6.0\n",
       "d    12.0\n",
       "e    20.0\n",
       "f     NaN\n",
       "dtype: float64"
      ]
     },
     "execution_count": 104,
     "metadata": {},
     "output_type": "execute_result"
    }
   ],
   "source": [
    "series1 = pd.Series([1, 2, 3, 4, 5], index=list('abcde'))\n",
    "series2 = pd.Series([1, 2, 3, 4, 5], index=list('bcdef'))\n",
    "series1 * series2"
   ]
  },
  {
   "cell_type": "code",
   "execution_count": 109,
   "id": "1c075a60",
   "metadata": {},
   "outputs": [
    {
     "data": {
      "text/plain": [
       "a    aa\n",
       "b    bb\n",
       "c    cc\n",
       "d    dd\n",
       "e    ee\n",
       "dtype: object"
      ]
     },
     "execution_count": 109,
     "metadata": {},
     "output_type": "execute_result"
    }
   ],
   "source": [
    "series1 = pd.Series(list('abcde'), index=list('abcde'))\n",
    "series2 = pd.Series(list('abcde'), index=list('abcde'))\n",
    "series1 + series2 #работает со строками"
   ]
  },
  {
   "attachments": {},
   "cell_type": "markdown",
   "id": "8a061bea",
   "metadata": {},
   "source": [
    "Помимо обычных математических операций, Series поддерживает их аналоговые математические методы, у которых есть дополнительный параметр fill_value – значение, которым заполнить возникающие при слиянии NaN значения (если в обоих структурах значение по индексу – NaN, то в результирующую Series также войдет NaN)\n",
    "|Математическая операция Python|Метод-аналог Series|\n",
    "|-|-|\n",
    "|+|add|\n",
    "|-|sub|\n",
    "|/|div|\n",
    "|*|mul|\n",
    "|//|floordiv|\n",
    "|%|mod|\n",
    "|**|pow|"
   ]
  },
  {
   "cell_type": "code",
   "execution_count": 37,
   "id": "77921c79",
   "metadata": {},
   "outputs": [
    {
     "data": {
      "text/plain": [
       "a    aa\n",
       "b    bb\n",
       "c    cc\n",
       "d    dd\n",
       "e    ee\n",
       "dtype: object"
      ]
     },
     "execution_count": 37,
     "metadata": {},
     "output_type": "execute_result"
    }
   ],
   "source": [
    "series1 = pd.Series(list('abcde'), index=list('abcde'))\n",
    "series2 = pd.Series(list('abcde'), index=list('abcde'))\n",
    "series1.add(series2, fill_value=10)"
   ]
  },
  {
   "attachments": {},
   "cell_type": "markdown",
   "id": "77a18adf",
   "metadata": {},
   "source": [
    "### Сортировка Series\n",
    "\n",
    "##### .sort_values()\n",
    "* *ascending* – если True, сортирует в возрастающем порядке, в противном случае – в убывающем (по умолчанию True)\n",
    "* *inplace* – если True, то сортировка не создает новую структуру Series, а проводится ‘in-place’ (по умолчанию False)\n",
    "* *na_position* – если ‘first’, помещает NaN значения в начало, если ‘last’, то в конец (по умолчанию last)\n",
    "* *ignore_index* – если True, выставит серии после сортировки индекс по умолчанию (0…n) (по умолчанию False)\n",
    "* *kind* : {‘quicksort’, ‘mergesort’, ‘heapsort’, ‘stable’} – выбор метода сортировки (по умолчанию ‘quicksort’). Здесь стоит обратить внимание на тип сортировки ‘stable’. Стабильная сортировка  сохраняет элементы с одним и тем же ключом в одном и том же относительном порядке. Это часто может быть полезно, если требуется провести сортировку не только по значениям, но и по индексам. Нестабильная сортировка, сломает порядок элементов первого этапа сортировки.\n",
    "* *key* – применяет переданную функцию перед началом сортировки, при этом не изменяя значения итоговой структуры Series."
   ]
  },
  {
   "cell_type": "code",
   "execution_count": 38,
   "id": "76185e85",
   "metadata": {},
   "outputs": [
    {
     "data": {
      "text/plain": [
       "2    A\n",
       "0    B\n",
       "3    C\n",
       "4    D\n",
       "1    a\n",
       "5    d\n",
       "dtype: object"
      ]
     },
     "execution_count": 38,
     "metadata": {},
     "output_type": "execute_result"
    }
   ],
   "source": [
    "# Сортировка по умолчанию\n",
    "series = pd.Series(['B', 'a', 'A', 'C', 'D', 'd'])\n",
    "series.sort_values()"
   ]
  },
  {
   "cell_type": "code",
   "execution_count": 39,
   "id": "316f60fb",
   "metadata": {},
   "outputs": [
    {
     "data": {
      "text/plain": [
       "0    D\n",
       "1    d\n",
       "2    C\n",
       "3    B\n",
       "4    a\n",
       "5    A\n",
       "dtype: object"
      ]
     },
     "execution_count": 39,
     "metadata": {},
     "output_type": "execute_result"
    }
   ],
   "source": [
    "# Применяем доступные параметры метода\n",
    "series.sort_values(\n",
    "    ascending = False, #сортируем по убыванию\n",
    "    ignore_index = True, #сбросим индекс\n",
    "    key = lambda col: col.str.lower() #приводим строку к нижнему регистру, \n",
    "                                      #чтобы сделать сортировку нерегистрозависимой\n",
    ")"
   ]
  },
  {
   "attachments": {},
   "cell_type": "markdown",
   "id": "ec20e6f4",
   "metadata": {},
   "source": [
    "##### .sort_index()\n",
    "* *level* – выполнить сортировку только по указанному уровню индекса (по умолчанию None)\n",
    "* *sort_remaining* – если True, сортировка будет производиться по всем индексам поочередно, после сортировки по указанному level (по умолчанию True)\n",
    "* Остальные параметры аналогичны .sort_values()"
   ]
  },
  {
   "cell_type": "code",
   "execution_count": 40,
   "id": "f076a716",
   "metadata": {},
   "outputs": [
    {
     "data": {
      "text/plain": [
       "A    3\n",
       "B    1\n",
       "C    4\n",
       "D    5\n",
       "a    2\n",
       "d    6\n",
       "dtype: int64"
      ]
     },
     "execution_count": 40,
     "metadata": {},
     "output_type": "execute_result"
    }
   ],
   "source": [
    "# Сортировка по умолчанию\n",
    "series = pd.Series([1, 2, 3, 4, 5, 6], index=list('BaACDd'))\n",
    "series.sort_index()"
   ]
  },
  {
   "cell_type": "code",
   "execution_count": 41,
   "id": "b853ef3c",
   "metadata": {},
   "outputs": [
    {
     "data": {
      "text/plain": [
       "one  foo    1\n",
       "     bar    2\n",
       "two  foo    3\n",
       "     bar    4\n",
       "dtype: int64"
      ]
     },
     "execution_count": 41,
     "metadata": {},
     "output_type": "execute_result"
    }
   ],
   "source": [
    "tuples = [('one', 'foo'),\n",
    "        ('one', 'bar'),\n",
    "        ('two', 'foo'),\n",
    "        ('two', 'bar')]\n",
    "index = pd.MultiIndex.from_tuples(tuples)\n",
    "series = pd.Series([1, 2, 3, 4], index = index)\n",
    "series"
   ]
  },
  {
   "cell_type": "code",
   "execution_count": 42,
   "id": "d4d3e942",
   "metadata": {},
   "outputs": [
    {
     "data": {
      "text/plain": [
       "one  bar    2\n",
       "two  bar    4\n",
       "one  foo    1\n",
       "two  foo    3\n",
       "dtype: int64"
      ]
     },
     "execution_count": 42,
     "metadata": {},
     "output_type": "execute_result"
    }
   ],
   "source": [
    "# Применение параметра level\n",
    "series.sort_index(level=1)"
   ]
  },
  {
   "cell_type": "code",
   "execution_count": 47,
   "id": "038bc69f",
   "metadata": {},
   "outputs": [
    {
     "data": {
      "text/plain": [
       "a     0\n",
       "a     3\n",
       "a    17\n",
       "a    15\n",
       "a    14\n",
       "a    13\n",
       "a    12\n",
       "a    11\n",
       "a     9\n",
       "a     7\n",
       "b     5\n",
       "b     6\n",
       "b    19\n",
       "b     1\n",
       "b     8\n",
       "b    10\n",
       "c    16\n",
       "c     4\n",
       "c    18\n",
       "c     2\n",
       "dtype: int64"
      ]
     },
     "execution_count": 47,
     "metadata": {},
     "output_type": "execute_result"
    }
   ],
   "source": [
    "# Применение параметра kind\n",
    "series = pd.Series([i for i in range(20)], index=[np.random.choice(['a', 'b', 'c']) for i in range(20)])\n",
    "series.sort_values(inplace=True, ascending=False)\n",
    "series.sort_index(inplace=True)\n",
    "series #сортировка по индексам успешна, но в рамках одного индекса, значения не отсортированы"
   ]
  },
  {
   "cell_type": "code",
   "execution_count": 48,
   "id": "c52b6871",
   "metadata": {},
   "outputs": [
    {
     "data": {
      "text/plain": [
       "a    17\n",
       "a    15\n",
       "a    14\n",
       "a    13\n",
       "a    12\n",
       "a    11\n",
       "a     9\n",
       "a     7\n",
       "a     3\n",
       "a     0\n",
       "b    19\n",
       "b    10\n",
       "b     8\n",
       "b     6\n",
       "b     5\n",
       "b     1\n",
       "c    18\n",
       "c    16\n",
       "c     4\n",
       "c     2\n",
       "dtype: int64"
      ]
     },
     "execution_count": 48,
     "metadata": {},
     "output_type": "execute_result"
    }
   ],
   "source": [
    "series.sort_values(inplace=True, ascending=False)\n",
    "series.sort_index(inplace=True, kind='stable')\n",
    "series #применяем стабильную сортировку"
   ]
  },
  {
   "attachments": {},
   "cell_type": "markdown",
   "id": "0fed5e68",
   "metadata": {},
   "source": [
    "### Методы apply и map"
   ]
  },
  {
   "attachments": {},
   "cell_type": "markdown",
   "id": "7d2eb8fd",
   "metadata": {},
   "source": [
    ".map() - используется для замены каждого значения в серии другим значением, которое может быть получено из функции, словаря или Series"
   ]
  },
  {
   "cell_type": "code",
   "execution_count": 53,
   "id": "dd6c6f3f",
   "metadata": {},
   "outputs": [
    {
     "data": {
      "text/plain": [
       "0      A\n",
       "1      A\n",
       "2      A\n",
       "3      B\n",
       "4      B\n",
       "5      B\n",
       "6    NaN\n",
       "dtype: object"
      ]
     },
     "execution_count": 53,
     "metadata": {},
     "output_type": "execute_result"
    }
   ],
   "source": [
    "# map со словарем\n",
    "series = pd.Series(list('aaabbbc'))\n",
    "series.map({'a': 'A', 'b': 'B'}) #нет соответствия для c => NaN"
   ]
  },
  {
   "cell_type": "code",
   "execution_count": 50,
   "id": "828985e0",
   "metadata": {},
   "outputs": [
    {
     "data": {
      "text/plain": [
       "0    aa\n",
       "1    aa\n",
       "2    aa\n",
       "3    bb\n",
       "4    bb\n",
       "5    bb\n",
       "6    cc\n",
       "dtype: object"
      ]
     },
     "execution_count": 50,
     "metadata": {},
     "output_type": "execute_result"
    }
   ],
   "source": [
    "# map с функцией\n",
    "def _map(value):\n",
    "    return value * 2\n",
    "series = pd.Series(list('aaabbbc'))\n",
    "series.map(_map)"
   ]
  },
  {
   "cell_type": "code",
   "execution_count": 51,
   "id": "f66380f3",
   "metadata": {},
   "outputs": [
    {
     "data": {
      "text/plain": [
       "0    Hello a\n",
       "1    Hello b\n",
       "2    Hello c\n",
       "dtype: object"
      ]
     },
     "execution_count": 51,
     "metadata": {},
     "output_type": "execute_result"
    }
   ],
   "source": [
    "# map со Series (аналогичен словарю)\n",
    "series = pd.Series(list('abc'))\n",
    "series.map(\"Hello {}\".format)"
   ]
  },
  {
   "cell_type": "code",
   "execution_count": null,
   "id": "3a03a861",
   "metadata": {},
   "outputs": [
    {
     "data": {
      "text/plain": [
       "0    A\n",
       "1    B\n",
       "2    C\n",
       "dtype: object"
      ]
     },
     "metadata": {},
     "output_type": "display_data"
    }
   ],
   "source": [
    "series = pd.Series(list('abc'))\n",
    "series_for_map = pd.Series(list('ABC'), index=list('abc'))\n",
    "series.map(series_for_map)"
   ]
  },
  {
   "cell_type": "code",
   "execution_count": null,
   "id": "c95b67d4",
   "metadata": {},
   "outputs": [
    {
     "data": {
      "text/plain": [
       "0      A\n",
       "1      B\n",
       "2    NaN\n",
       "dtype: object"
      ]
     },
     "metadata": {},
     "output_type": "display_data"
    }
   ],
   "source": [
    "series = pd.Series(list('abc'))\n",
    "series_for_map = pd.Series(list('ABC'), index=list('abd'))\n",
    "series.map(series_for_map) #нет соответствия для c => NaN"
   ]
  },
  {
   "attachments": {},
   "cell_type": "markdown",
   "id": "7a120dd9",
   "metadata": {},
   "source": [
    ".apply() – применяет ко всем значениям Series, переданную функцию. Может также принимать на вход параметры для этой функции"
   ]
  },
  {
   "cell_type": "code",
   "execution_count": 55,
   "id": "c0185f67",
   "metadata": {},
   "outputs": [
    {
     "data": {
      "text/plain": [
       "0     6\n",
       "1     7\n",
       "2     8\n",
       "3     9\n",
       "4    10\n",
       "5    11\n",
       "dtype: int64"
      ]
     },
     "execution_count": 55,
     "metadata": {},
     "output_type": "execute_result"
    }
   ],
   "source": [
    "def add_some_value(x, value):\n",
    "    return x + value\n",
    "\n",
    "series = pd.Series([1, 2, 3, 4, 5, 6])\n",
    "series.apply(add_some_value, args=(5,)) #необходимо передавать кортеж из-за особенности метода"
   ]
  },
  {
   "cell_type": "code",
   "execution_count": 56,
   "id": "fc6d1597",
   "metadata": {},
   "outputs": [
    {
     "data": {
      "text/plain": [
       "0     0\n",
       "1     3\n",
       "2     6\n",
       "3     9\n",
       "4    12\n",
       "5    15\n",
       "dtype: int64"
      ]
     },
     "execution_count": 56,
     "metadata": {},
     "output_type": "execute_result"
    }
   ],
   "source": [
    "def add_some_value(x, **kwargs):\n",
    "    x += kwargs['a']\n",
    "    x -= kwargs['b']\n",
    "    x *= kwargs['c']\n",
    "    return x\n",
    "\n",
    "series = pd.Series([1, 2, 3, 4, 5, 6])\n",
    "series.apply(add_some_value, a=1, b=2, c=3) #альтернативный способ передачи аргументов"
   ]
  },
  {
   "attachments": {},
   "cell_type": "markdown",
   "id": "453d1f4c",
   "metadata": {},
   "source": [
    "Также .apply() может принимать на вход numpy u-функции.\n",
    "* .apply(np.negative) – применить отрицание\n",
    "* .apply(np.log) – логарифмировать\n",
    "* .apply(np.sqrt) – взять корень\n",
    "* .apply(np.square) – возвести в квадрат\n",
    "* с полным списком можно ознакомиться здесь - [тык](https://numpy.org/doc/stable/reference/ufuncs.html)"
   ]
  },
  {
   "attachments": {},
   "cell_type": "markdown",
   "id": "21e1ea04",
   "metadata": {},
   "source": [
    "# Категориальный тип данных"
   ]
  },
  {
   "attachments": {},
   "cell_type": "markdown",
   "id": "8f9c7fb7",
   "metadata": {},
   "source": [
    "Категориальный тип данных в Pandas соответствует категориальным переменным в статистике. Категориальная переменная принимает ограниченное и обычно фиксированное число возможных значений (пол, национальность и пр.). Категориальный тип данных предоставляет возможность использовать ряд методов, удобных для работы с данными"
   ]
  },
  {
   "attachments": {},
   "cell_type": "markdown",
   "id": "2f1836a3",
   "metadata": {},
   "source": [
    "### Создание категориального типа данных"
   ]
  },
  {
   "cell_type": "code",
   "execution_count": 57,
   "id": "63671586",
   "metadata": {},
   "outputs": [
    {
     "data": {
      "text/plain": [
       "0    a\n",
       "1    b\n",
       "2    c\n",
       "3    a\n",
       "dtype: category\n",
       "Categories (3, object): ['a', 'b', 'c']"
      ]
     },
     "execution_count": 57,
     "metadata": {},
     "output_type": "execute_result"
    }
   ],
   "source": [
    "# Явное указание\n",
    "pd.Series(list('abca'), dtype='category')"
   ]
  },
  {
   "cell_type": "code",
   "execution_count": 58,
   "id": "0b3c5b99",
   "metadata": {},
   "outputs": [
    {
     "data": {
      "text/plain": [
       "0    a\n",
       "1    b\n",
       "2    c\n",
       "3    a\n",
       "dtype: category\n",
       "Categories (3, object): ['a', 'b', 'c']"
      ]
     },
     "execution_count": 58,
     "metadata": {},
     "output_type": "execute_result"
    }
   ],
   "source": [
    "# Приведение к типу\n",
    "pd.Series(list('abca')).astype('category')"
   ]
  },
  {
   "cell_type": "code",
   "execution_count": 65,
   "id": "2ad4622b",
   "metadata": {},
   "outputs": [
    {
     "data": {
      "text/plain": [
       "0    a\n",
       "1    b\n",
       "2    c\n",
       "3    a\n",
       "dtype: category\n",
       "Categories (3, object): ['a' < 'b' < 'c']"
      ]
     },
     "execution_count": 65,
     "metadata": {},
     "output_type": "execute_result"
    }
   ],
   "source": [
    "# Объект Categorical\n",
    "category = pd.Categorical(list('abca'), categories=list('abc'), ordered=True)\n",
    "# обратите внимание, что категории имеют порядок засчет аргумента ordered=True\n",
    "pd.Series(category)"
   ]
  },
  {
   "cell_type": "code",
   "execution_count": 66,
   "id": "02d58bf4",
   "metadata": {},
   "outputs": [
    {
     "data": {
      "text/plain": [
       "0     (-0.099, 24.75]\n",
       "1     (-0.099, 24.75]\n",
       "2     (-0.099, 24.75]\n",
       "3     (-0.099, 24.75]\n",
       "4     (-0.099, 24.75]\n",
       "           ...       \n",
       "95      (74.25, 99.0]\n",
       "96      (74.25, 99.0]\n",
       "97      (74.25, 99.0]\n",
       "98      (74.25, 99.0]\n",
       "99      (74.25, 99.0]\n",
       "Length: 100, dtype: category\n",
       "Categories (4, interval[float64, right]): [(-0.099, 24.75] < (24.75, 49.5] < (49.5, 74.25] < (74.25, 99.0]]"
      ]
     },
     "execution_count": 66,
     "metadata": {},
     "output_type": "execute_result"
    }
   ],
   "source": [
    "#  Использование специальных методов\n",
    "series = pd.Series([i for i in range(100)])\n",
    "pd.cut(series, bins=4)"
   ]
  },
  {
   "attachments": {},
   "cell_type": "markdown",
   "id": "d18386df",
   "metadata": {},
   "source": [
    "### Основные параметры категорий"
   ]
  },
  {
   "cell_type": "code",
   "execution_count": 3,
   "id": "3317515e",
   "metadata": {},
   "outputs": [
    {
     "data": {
      "text/plain": [
       "Index(['a', 'b', 'c'], dtype='object')"
      ]
     },
     "execution_count": 3,
     "metadata": {},
     "output_type": "execute_result"
    }
   ],
   "source": [
    "# Получение списка категорий\n",
    "series = pd.Series(list('abca')).astype('category')\n",
    "series.cat.categories"
   ]
  },
  {
   "cell_type": "code",
   "execution_count": 4,
   "id": "6f5e655e",
   "metadata": {},
   "outputs": [
    {
     "data": {
      "text/plain": [
       "False"
      ]
     },
     "execution_count": 4,
     "metadata": {},
     "output_type": "execute_result"
    }
   ],
   "source": [
    "# Является ли категориальный тип упорядоченным (используется для сравнения)\n",
    "series = pd.Series(list('abca')).astype('category')\n",
    "series.cat.ordered"
   ]
  },
  {
   "cell_type": "code",
   "execution_count": 5,
   "id": "e03f05b6",
   "metadata": {},
   "outputs": [
    {
     "data": {
      "text/plain": [
       "0    renamedA\n",
       "1    renamedB\n",
       "2    renamedC\n",
       "3    renamedA\n",
       "dtype: category\n",
       "Categories (3, object): ['renamedA', 'renamedB', 'renamedC']"
      ]
     },
     "execution_count": 5,
     "metadata": {},
     "output_type": "execute_result"
    }
   ],
   "source": [
    "# Смена наименований категорий с помощью списка\n",
    "category = pd.Categorical(list('abca'), categories=list('abc'))\n",
    "series = pd.Series(category)\n",
    "#значения тоже меняются\n",
    "series.cat.rename_categories(['renamedA', 'renamedB', 'renamedC'])"
   ]
  },
  {
   "cell_type": "code",
   "execution_count": 6,
   "id": "28673ce9",
   "metadata": {},
   "outputs": [
    {
     "data": {
      "text/plain": [
       "0    renamedA\n",
       "1    renamedB\n",
       "2           c\n",
       "3    renamedA\n",
       "dtype: category\n",
       "Categories (3, object): ['renamedA', 'renamedB', 'c']"
      ]
     },
     "execution_count": 6,
     "metadata": {},
     "output_type": "execute_result"
    }
   ],
   "source": [
    "# Смена наименований категорий с помощью словаря\n",
    "category = pd.Categorical(list('abca'), categories=list('abc'))\n",
    "series = pd.Series(category)\n",
    "#с помощью словаря\n",
    "series.cat.rename_categories({'a': 'renamedA', 'b': 'renamedB'})"
   ]
  },
  {
   "cell_type": "code",
   "execution_count": 7,
   "id": "96b217bf",
   "metadata": {},
   "outputs": [
    {
     "data": {
      "text/plain": [
       "Index(['a', 'b', 'c', 'd'], dtype='object')"
      ]
     },
     "execution_count": 7,
     "metadata": {},
     "output_type": "execute_result"
    }
   ],
   "source": [
    "# Добавление категорий\n",
    "category = pd.Categorical(list('abca'), categories=list('abc'))\n",
    "series = pd.Series(category)\n",
    "series = series.cat.add_categories(['d'])\n",
    "series.cat.categories"
   ]
  },
  {
   "cell_type": "code",
   "execution_count": 8,
   "id": "b78b0e3d",
   "metadata": {},
   "outputs": [
    {
     "data": {
      "text/plain": [
       "Index(['a', 'b', 'c'], dtype='object')"
      ]
     },
     "execution_count": 8,
     "metadata": {},
     "output_type": "execute_result"
    }
   ],
   "source": [
    "# Удаление категорий\n",
    "series = series.cat.remove_categories(['d'])\n",
    "series.cat.categories"
   ]
  },
  {
   "cell_type": "code",
   "execution_count": 9,
   "id": "6e32728c",
   "metadata": {},
   "outputs": [
    {
     "data": {
      "text/plain": [
       "Index(['a', 'b', 'c'], dtype='object')"
      ]
     },
     "execution_count": 9,
     "metadata": {},
     "output_type": "execute_result"
    }
   ],
   "source": [
    "# Удаление неиспользуемых категорий\n",
    "category = pd.Categorical(list('abca'), categories=list('abcd'))\n",
    "series = pd.Series(category)\n",
    "series = series.cat.remove_unused_categories()\n",
    "series.cat.categories"
   ]
  },
  {
   "cell_type": "code",
   "execution_count": 13,
   "id": "01643a3a",
   "metadata": {},
   "outputs": [
    {
     "data": {
      "text/plain": [
       "0    a\n",
       "1    b\n",
       "2    c\n",
       "3    a\n",
       "dtype: category\n",
       "Categories (4, object): ['a' < 'b' < 'c' < 'd']"
      ]
     },
     "execution_count": 13,
     "metadata": {},
     "output_type": "execute_result"
    }
   ],
   "source": [
    "# Добавить порядок категорий\n",
    "category = pd.Categorical(list('abca'), categories=list('abcd'))\n",
    "series = pd.Series(category)\n",
    "#появились явные отношения\n",
    "series = series.cat.as_ordered()\n",
    "series"
   ]
  },
  {
   "cell_type": "code",
   "execution_count": 14,
   "id": "5df7aa1e",
   "metadata": {},
   "outputs": [
    {
     "data": {
      "text/plain": [
       "0    a\n",
       "1    b\n",
       "2    c\n",
       "3    a\n",
       "dtype: category\n",
       "Categories (4, object): ['a', 'b', 'c', 'd']"
      ]
     },
     "execution_count": 14,
     "metadata": {},
     "output_type": "execute_result"
    }
   ],
   "source": [
    "# Удалить порядок категорий\n",
    "series = series.cat.as_unordered()\n",
    "series"
   ]
  },
  {
   "cell_type": "code",
   "execution_count": 15,
   "id": "857b0e84",
   "metadata": {},
   "outputs": [
    {
     "data": {
      "text/plain": [
       "0    a\n",
       "1    b\n",
       "2    c\n",
       "3    a\n",
       "dtype: category\n",
       "Categories (4, object): ['b' < 'c' < 'a' < 'd']"
      ]
     },
     "execution_count": 15,
     "metadata": {},
     "output_type": "execute_result"
    }
   ],
   "source": [
    "series = series.cat.as_ordered()\n",
    "# Изменить порядок категорий\n",
    "series = series.cat.reorder_categories(['b', 'c', 'a', 'd'])\n",
    "series"
   ]
  },
  {
   "attachments": {},
   "cell_type": "markdown",
   "id": "d3419018",
   "metadata": {},
   "source": [
    "# Методы строкового типа данных"
   ]
  },
  {
   "cell_type": "code",
   "execution_count": 16,
   "id": "fae8ace0",
   "metadata": {},
   "outputs": [
    {
     "data": {
      "text/plain": [
       "0    aa\n",
       "1    bb\n",
       "2    cc\n",
       "dtype: string"
      ]
     },
     "execution_count": 16,
     "metadata": {},
     "output_type": "execute_result"
    }
   ],
   "source": [
    "# Приведение к нижнему регистру всех символов строки\n",
    "series = pd.Series(['AA', 'BB', 'CC'], dtype='string')\n",
    "series.str.lower()"
   ]
  },
  {
   "cell_type": "code",
   "execution_count": 17,
   "id": "eb4769ee",
   "metadata": {},
   "outputs": [
    {
     "data": {
      "text/plain": [
       "0    AA\n",
       "1    BB\n",
       "2    CC\n",
       "dtype: string"
      ]
     },
     "execution_count": 17,
     "metadata": {},
     "output_type": "execute_result"
    }
   ],
   "source": [
    "# Приведение к верхнему регистру всех символов строки\n",
    "series = pd.Series(['aa', 'bb', 'cc'], dtype='string')\n",
    "series.str.upper()"
   ]
  },
  {
   "cell_type": "code",
   "execution_count": null,
   "id": "94f0cb36",
   "metadata": {},
   "outputs": [
    {
     "data": {
      "text/plain": [
       "0    1\n",
       "1    2\n",
       "2    3\n",
       "dtype: Int64"
      ]
     },
     "metadata": {},
     "output_type": "display_data"
    }
   ],
   "source": [
    "# Приведение к нижнему регистру всех символов строки\n",
    "series = pd.Series(['a', 'bb', 'ccc'], dtype='string')\n",
    "series.str.len()"
   ]
  },
  {
   "cell_type": "code",
   "execution_count": 18,
   "id": "e8b00141",
   "metadata": {},
   "outputs": [
    {
     "data": {
      "text/plain": [
       "<StringArray>\n",
       "['A', 'B', 'C']\n",
       "Length: 3, dtype: string"
      ]
     },
     "execution_count": 18,
     "metadata": {},
     "output_type": "execute_result"
    }
   ],
   "source": [
    "# Удаление всех пропусков\n",
    "series = pd.Series([' A ', ' B', 'C '], dtype='string')\n",
    "series.str.strip().values"
   ]
  },
  {
   "cell_type": "code",
   "execution_count": 19,
   "id": "7c1b38bf",
   "metadata": {},
   "outputs": [
    {
     "data": {
      "text/plain": [
       "<StringArray>\n",
       "[' A', ' B', 'C']\n",
       "Length: 3, dtype: string"
      ]
     },
     "execution_count": 19,
     "metadata": {},
     "output_type": "execute_result"
    }
   ],
   "source": [
    "# Удаление пропусков справа от строки\n",
    "series.str.rstrip().values"
   ]
  },
  {
   "cell_type": "code",
   "execution_count": 20,
   "id": "7d4e7ebe",
   "metadata": {},
   "outputs": [
    {
     "data": {
      "text/plain": [
       "<StringArray>\n",
       "['A ', 'B', 'C ']\n",
       "Length: 3, dtype: string"
      ]
     },
     "execution_count": 20,
     "metadata": {},
     "output_type": "execute_result"
    }
   ],
   "source": [
    "# Удаление пропусков слева от строки\n",
    "series.str.lstrip().values"
   ]
  },
  {
   "cell_type": "code",
   "execution_count": null,
   "id": "b6824b1d",
   "metadata": {},
   "outputs": [
    {
     "data": {
      "text/plain": [
       "0    Aa\n",
       "1    Bb\n",
       "2    Cc\n",
       "dtype: string"
      ]
     },
     "metadata": {},
     "output_type": "display_data"
    }
   ],
   "source": [
    "# Начать с большой буквы\n",
    "series = pd.Series(['aa', 'bb', 'cc'], dtype='string')\n",
    "series.str.capitalize()"
   ]
  },
  {
   "cell_type": "code",
   "execution_count": null,
   "id": "6922cf5c",
   "metadata": {},
   "outputs": [
    {
     "data": {
      "text/plain": [
       "0     True\n",
       "1     True\n",
       "2    False\n",
       "dtype: boolean"
      ]
     },
     "metadata": {},
     "output_type": "display_data"
    }
   ],
   "source": [
    "# Проверка на то, что оканчивается подстрокой\n",
    "series = pd.Series(['ab', 'bb', 'cc'], dtype='string')\n",
    "series.str.endswith('b')"
   ]
  },
  {
   "cell_type": "code",
   "execution_count": 21,
   "id": "ae6807fc",
   "metadata": {},
   "outputs": [
    {
     "data": {
      "text/plain": [
       "0     1\n",
       "1     0\n",
       "2     2\n",
       "3    -1\n",
       "dtype: Int64"
      ]
     },
     "execution_count": 21,
     "metadata": {},
     "output_type": "execute_result"
    }
   ],
   "source": [
    "# Поиск индекса вхождения подстроки в строку\n",
    "series = pd.Series(['aba', 'bbb', 'ccb', 'xxx'], dtype='string')\n",
    "series.str.find('b')"
   ]
  },
  {
   "cell_type": "code",
   "execution_count": 22,
   "id": "fc2b757a",
   "metadata": {},
   "outputs": [
    {
     "data": {
      "text/plain": [
       "0    a\n",
       "1    b\n",
       "2    c\n",
       "dtype: string"
      ]
     },
     "execution_count": 22,
     "metadata": {},
     "output_type": "execute_result"
    }
   ],
   "source": [
    "# Получение символа по индексу\n",
    "series = pd.Series(['aa', 'b', 'cc'], dtype='string')\n",
    "series.str.get(0)"
   ]
  },
  {
   "cell_type": "code",
   "execution_count": 23,
   "id": "16ed2a4d",
   "metadata": {},
   "outputs": [
    {
     "data": {
      "text/plain": [
       "0       a\n",
       "1    <NA>\n",
       "2       c\n",
       "dtype: string"
      ]
     },
     "execution_count": 23,
     "metadata": {},
     "output_type": "execute_result"
    }
   ],
   "source": [
    "# Получение символа по индексу при отсутствии этого индекса в строке\n",
    "series.str.get(1)"
   ]
  },
  {
   "cell_type": "code",
   "execution_count": 24,
   "id": "0be4d4ce",
   "metadata": {},
   "outputs": [
    {
     "data": {
      "text/plain": [
       "0     a\n",
       "1     b\n",
       "2    cc\n",
       "dtype: string"
      ]
     },
     "execution_count": 24,
     "metadata": {},
     "output_type": "execute_result"
    }
   ],
   "source": [
    "# Удаление префикса в строке\n",
    "series = pd.Series(['aa', 'ab', 'cc'], dtype='string')\n",
    "series.str.removeprefix('a')"
   ]
  },
  {
   "cell_type": "code",
   "execution_count": null,
   "id": "f5a785f2",
   "metadata": {},
   "outputs": [
    {
     "data": {
      "text/plain": [
       "0    aa\n",
       "1     a\n",
       "2    cc\n",
       "dtype: string"
      ]
     },
     "metadata": {},
     "output_type": "display_data"
    }
   ],
   "source": [
    "# Удаление суффикса в строке\n",
    "series = pd.Series(['aab', 'ab', 'cc'], dtype='string')\n",
    "series.str.removesuffix('b')"
   ]
  },
  {
   "cell_type": "code",
   "execution_count": null,
   "id": "0a02071d",
   "metadata": {},
   "outputs": [
    {
     "data": {
      "text/plain": [
       "0    aaa\n",
       "1    bbb\n",
       "2    ccc\n",
       "dtype: string"
      ]
     },
     "metadata": {},
     "output_type": "display_data"
    }
   ],
   "source": [
    "# Повторение строки n раз\n",
    "series = pd.Series(['a', 'b', 'c'], dtype='string')\n",
    "series.str.repeat(3)"
   ]
  },
  {
   "cell_type": "code",
   "execution_count": 25,
   "id": "8edffe42",
   "metadata": {},
   "outputs": [
    {
     "data": {
      "text/plain": [
       "0    A\n",
       "1    b\n",
       "2    c\n",
       "dtype: string"
      ]
     },
     "execution_count": 25,
     "metadata": {},
     "output_type": "execute_result"
    }
   ],
   "source": [
    "# Подмена символа/подстроки на другой символ/подстроку\n",
    "series = pd.Series(['a', 'b', 'c'], dtype='string')\n",
    "series.str.replace('a', 'A')"
   ]
  },
  {
   "cell_type": "code",
   "execution_count": 26,
   "id": "6a7145ad",
   "metadata": {},
   "outputs": [
    {
     "data": {
      "text/plain": [
       "0    False\n",
       "1     True\n",
       "2     True\n",
       "dtype: boolean"
      ]
     },
     "execution_count": 26,
     "metadata": {},
     "output_type": "execute_result"
    }
   ],
   "source": [
    "# Проверка на то, является ли строка числом\n",
    "series = pd.Series(['a', '1', '2'], dtype='string')\n",
    "series.str.isdigit()"
   ]
  },
  {
   "cell_type": "code",
   "execution_count": null,
   "id": "4c564072",
   "metadata": {},
   "outputs": [
    {
     "data": {
      "text/html": [
       "<div>\n",
       "<style scoped>\n",
       "    .dataframe tbody tr th:only-of-type {\n",
       "        vertical-align: middle;\n",
       "    }\n",
       "\n",
       "    .dataframe tbody tr th {\n",
       "        vertical-align: top;\n",
       "    }\n",
       "\n",
       "    .dataframe thead th {\n",
       "        text-align: right;\n",
       "    }\n",
       "</style>\n",
       "<table border=\"1\" class=\"dataframe\">\n",
       "  <thead>\n",
       "    <tr style=\"text-align: right;\">\n",
       "      <th></th>\n",
       "      <th>0</th>\n",
       "      <th>1</th>\n",
       "      <th>2</th>\n",
       "    </tr>\n",
       "  </thead>\n",
       "  <tbody>\n",
       "    <tr>\n",
       "      <th>0</th>\n",
       "      <td>a</td>\n",
       "      <td>b</td>\n",
       "      <td>c</td>\n",
       "    </tr>\n",
       "    <tr>\n",
       "      <th>1</th>\n",
       "      <td>c</td>\n",
       "      <td>d</td>\n",
       "      <td>e</td>\n",
       "    </tr>\n",
       "    <tr>\n",
       "      <th>2</th>\n",
       "      <td>&lt;NA&gt;</td>\n",
       "      <td>&lt;NA&gt;</td>\n",
       "      <td>&lt;NA&gt;</td>\n",
       "    </tr>\n",
       "    <tr>\n",
       "      <th>3</th>\n",
       "      <td>f</td>\n",
       "      <td>g</td>\n",
       "      <td>h</td>\n",
       "    </tr>\n",
       "  </tbody>\n",
       "</table>\n",
       "</div>"
      ],
      "text/plain": [
       "      0     1     2\n",
       "0     a     b     c\n",
       "1     c     d     e\n",
       "2  <NA>  <NA>  <NA>\n",
       "3     f     g     h"
      ]
     },
     "metadata": {},
     "output_type": "display_data"
    }
   ],
   "source": [
    "# Расщепление строки по символу\n",
    "series = pd.Series([\"a.b.c\", \"c.d.e\", np.nan, \"f.g.h\"], dtype=\"string\")\n",
    "series.str.split('.', expand=True)"
   ]
  },
  {
   "attachments": {},
   "cell_type": "markdown",
   "id": "b4839cd5",
   "metadata": {},
   "source": [
    "В большинстве представленных методов также можно пользоваться регулярными выражениями. Еще больше методов и примеров можно найти здесь - [тык](https://pandas.pydata.org/pandas-docs/stable/user_guide/text.html)"
   ]
  },
  {
   "attachments": {},
   "cell_type": "markdown",
   "id": "c61dc688",
   "metadata": {},
   "source": [
    "# Структура данных DataFrame"
   ]
  },
  {
   "attachments": {},
   "cell_type": "markdown",
   "id": "584597b4",
   "metadata": {},
   "source": [
    "### Создание DataFrame"
   ]
  },
  {
   "cell_type": "code",
   "execution_count": 27,
   "id": "e0f7c232",
   "metadata": {},
   "outputs": [
    {
     "data": {
      "text/html": [
       "<div>\n",
       "<style scoped>\n",
       "    .dataframe tbody tr th:only-of-type {\n",
       "        vertical-align: middle;\n",
       "    }\n",
       "\n",
       "    .dataframe tbody tr th {\n",
       "        vertical-align: top;\n",
       "    }\n",
       "\n",
       "    .dataframe thead th {\n",
       "        text-align: right;\n",
       "    }\n",
       "</style>\n",
       "<table border=\"1\" class=\"dataframe\">\n",
       "  <thead>\n",
       "    <tr style=\"text-align: right;\">\n",
       "      <th></th>\n",
       "      <th>a</th>\n",
       "      <th>b</th>\n",
       "      <th>c</th>\n",
       "    </tr>\n",
       "  </thead>\n",
       "  <tbody>\n",
       "    <tr>\n",
       "      <th>a</th>\n",
       "      <td>1</td>\n",
       "      <td>2</td>\n",
       "      <td>3</td>\n",
       "    </tr>\n",
       "    <tr>\n",
       "      <th>b</th>\n",
       "      <td>4</td>\n",
       "      <td>5</td>\n",
       "      <td>6</td>\n",
       "    </tr>\n",
       "  </tbody>\n",
       "</table>\n",
       "</div>"
      ],
      "text/plain": [
       "   a  b  c\n",
       "a  1  2  3\n",
       "b  4  5  6"
      ]
     },
     "execution_count": 27,
     "metadata": {},
     "output_type": "execute_result"
    }
   ],
   "source": [
    "# Из списка списков\n",
    "pd.DataFrame([[1, 2, 3], [4, 5, 6]], index=list('ab'), columns=list('abc'))"
   ]
  },
  {
   "cell_type": "code",
   "execution_count": 28,
   "id": "20aa0c9f",
   "metadata": {},
   "outputs": [
    {
     "data": {
      "text/html": [
       "<div>\n",
       "<style scoped>\n",
       "    .dataframe tbody tr th:only-of-type {\n",
       "        vertical-align: middle;\n",
       "    }\n",
       "\n",
       "    .dataframe tbody tr th {\n",
       "        vertical-align: top;\n",
       "    }\n",
       "\n",
       "    .dataframe thead th {\n",
       "        text-align: right;\n",
       "    }\n",
       "</style>\n",
       "<table border=\"1\" class=\"dataframe\">\n",
       "  <thead>\n",
       "    <tr style=\"text-align: right;\">\n",
       "      <th></th>\n",
       "      <th>0</th>\n",
       "      <th>1</th>\n",
       "      <th>2</th>\n",
       "    </tr>\n",
       "  </thead>\n",
       "  <tbody>\n",
       "    <tr>\n",
       "      <th>a</th>\n",
       "      <td>1</td>\n",
       "      <td>2</td>\n",
       "      <td>3</td>\n",
       "    </tr>\n",
       "    <tr>\n",
       "      <th>b</th>\n",
       "      <td>4</td>\n",
       "      <td>5</td>\n",
       "      <td>6</td>\n",
       "    </tr>\n",
       "  </tbody>\n",
       "</table>\n",
       "</div>"
      ],
      "text/plain": [
       "   0  1  2\n",
       "a  1  2  3\n",
       "b  4  5  6"
      ]
     },
     "execution_count": 28,
     "metadata": {},
     "output_type": "execute_result"
    }
   ],
   "source": [
    "# Из списка np.array\n",
    "pd.DataFrame([np.array([1, 2, 3]), np.array([4, 5, 6])], index=list('ab'))"
   ]
  },
  {
   "cell_type": "code",
   "execution_count": 29,
   "id": "52f7ea96",
   "metadata": {},
   "outputs": [
    {
     "data": {
      "text/html": [
       "<div>\n",
       "<style scoped>\n",
       "    .dataframe tbody tr th:only-of-type {\n",
       "        vertical-align: middle;\n",
       "    }\n",
       "\n",
       "    .dataframe tbody tr th {\n",
       "        vertical-align: top;\n",
       "    }\n",
       "\n",
       "    .dataframe thead th {\n",
       "        text-align: right;\n",
       "    }\n",
       "</style>\n",
       "<table border=\"1\" class=\"dataframe\">\n",
       "  <thead>\n",
       "    <tr style=\"text-align: right;\">\n",
       "      <th></th>\n",
       "      <th>a</th>\n",
       "      <th>b</th>\n",
       "      <th>c</th>\n",
       "    </tr>\n",
       "  </thead>\n",
       "  <tbody>\n",
       "    <tr>\n",
       "      <th>a</th>\n",
       "      <td>1</td>\n",
       "      <td>2</td>\n",
       "      <td>3</td>\n",
       "    </tr>\n",
       "    <tr>\n",
       "      <th>b</th>\n",
       "      <td>4</td>\n",
       "      <td>5</td>\n",
       "      <td>6</td>\n",
       "    </tr>\n",
       "  </tbody>\n",
       "</table>\n",
       "</div>"
      ],
      "text/plain": [
       "   a  b  c\n",
       "a  1  2  3\n",
       "b  4  5  6"
      ]
     },
     "execution_count": 29,
     "metadata": {},
     "output_type": "execute_result"
    }
   ],
   "source": [
    "# Из словаря\n",
    "# значение ключа становится наименованием столбца\n",
    "pd.DataFrame({'a': [1, 4], 'b': [2, 5], 'c': [3, 6]}, index=list('ab'))"
   ]
  },
  {
   "cell_type": "code",
   "execution_count": 30,
   "id": "5d7b0cdd",
   "metadata": {},
   "outputs": [
    {
     "data": {
      "text/html": [
       "<div>\n",
       "<style scoped>\n",
       "    .dataframe tbody tr th:only-of-type {\n",
       "        vertical-align: middle;\n",
       "    }\n",
       "\n",
       "    .dataframe tbody tr th {\n",
       "        vertical-align: top;\n",
       "    }\n",
       "\n",
       "    .dataframe thead th {\n",
       "        text-align: right;\n",
       "    }\n",
       "</style>\n",
       "<table border=\"1\" class=\"dataframe\">\n",
       "  <thead>\n",
       "    <tr style=\"text-align: right;\">\n",
       "      <th></th>\n",
       "      <th>0</th>\n",
       "      <th>1</th>\n",
       "      <th>2</th>\n",
       "    </tr>\n",
       "  </thead>\n",
       "  <tbody>\n",
       "    <tr>\n",
       "      <th>0</th>\n",
       "      <td>1</td>\n",
       "      <td>2</td>\n",
       "      <td>3.0</td>\n",
       "    </tr>\n",
       "    <tr>\n",
       "      <th>1</th>\n",
       "      <td>a</td>\n",
       "      <td>b</td>\n",
       "      <td>NaN</td>\n",
       "    </tr>\n",
       "  </tbody>\n",
       "</table>\n",
       "</div>"
      ],
      "text/plain": [
       "   0  1    2\n",
       "0  1  2  3.0\n",
       "1  a  b  NaN"
      ]
     },
     "execution_count": 30,
     "metadata": {},
     "output_type": "execute_result"
    }
   ],
   "source": [
    "# из списка Series\n",
    "# аналогично спискам\n",
    "pd.DataFrame([pd.Series([1, 2, 3]), pd.Series(list('ab'))])"
   ]
  },
  {
   "attachments": {},
   "cell_type": "markdown",
   "id": "4eda38d7",
   "metadata": {},
   "source": [
    "### Основные параметры DataFrame"
   ]
  },
  {
   "cell_type": "code",
   "execution_count": 31,
   "id": "473c4fcd",
   "metadata": {},
   "outputs": [
    {
     "data": {
      "text/plain": [
       "Index(['a', 'b'], dtype='object')"
      ]
     },
     "execution_count": 31,
     "metadata": {},
     "output_type": "execute_result"
    }
   ],
   "source": [
    "# Получение индекса\n",
    "df = pd.DataFrame([[1, 2, 3], [4, 5, 6]], index=list('ab'))\n",
    "df.index"
   ]
  },
  {
   "cell_type": "code",
   "execution_count": 32,
   "id": "8465cb79",
   "metadata": {},
   "outputs": [
    {
     "data": {
      "text/plain": [
       "array([[1, 2, 3],\n",
       "       [4, 5, 6]])"
      ]
     },
     "execution_count": 32,
     "metadata": {},
     "output_type": "execute_result"
    }
   ],
   "source": [
    "# Получение значений в виде двумерного np.array\n",
    "df = pd.DataFrame([[1, 2, 3], [4, 5, 6]], index=list('ab'))\n",
    "df.values"
   ]
  },
  {
   "cell_type": "code",
   "execution_count": 33,
   "id": "4e86cce2",
   "metadata": {},
   "outputs": [
    {
     "data": {
      "text/html": [
       "<div>\n",
       "<style scoped>\n",
       "    .dataframe tbody tr th:only-of-type {\n",
       "        vertical-align: middle;\n",
       "    }\n",
       "\n",
       "    .dataframe tbody tr th {\n",
       "        vertical-align: top;\n",
       "    }\n",
       "\n",
       "    .dataframe thead th {\n",
       "        text-align: right;\n",
       "    }\n",
       "</style>\n",
       "<table border=\"1\" class=\"dataframe\">\n",
       "  <thead>\n",
       "    <tr style=\"text-align: right;\">\n",
       "      <th></th>\n",
       "      <th>0</th>\n",
       "      <th>1</th>\n",
       "    </tr>\n",
       "  </thead>\n",
       "  <tbody>\n",
       "    <tr>\n",
       "      <th>0</th>\n",
       "      <td>1</td>\n",
       "      <td>2</td>\n",
       "    </tr>\n",
       "    <tr>\n",
       "      <th>1</th>\n",
       "      <td>3</td>\n",
       "      <td>4</td>\n",
       "    </tr>\n",
       "    <tr>\n",
       "      <th>2</th>\n",
       "      <td>5</td>\n",
       "      <td>6</td>\n",
       "    </tr>\n",
       "  </tbody>\n",
       "</table>\n",
       "</div>"
      ],
      "text/plain": [
       "   0  1\n",
       "0  1  2\n",
       "1  3  4\n",
       "2  5  6"
      ]
     },
     "execution_count": 33,
     "metadata": {},
     "output_type": "execute_result"
    }
   ],
   "source": [
    "df = pd.DataFrame([[1, 2], [3, 4], [5, 6]])\n",
    "df"
   ]
  },
  {
   "cell_type": "code",
   "execution_count": 34,
   "id": "cda73f57",
   "metadata": {},
   "outputs": [
    {
     "data": {
      "text/plain": [
       "3"
      ]
     },
     "execution_count": 34,
     "metadata": {},
     "output_type": "execute_result"
    }
   ],
   "source": [
    "# Размер столбца (количество строк)\n",
    "len(df)"
   ]
  },
  {
   "cell_type": "code",
   "execution_count": 35,
   "id": "98d333b0",
   "metadata": {},
   "outputs": [
    {
     "data": {
      "text/plain": [
       "6"
      ]
     },
     "execution_count": 35,
     "metadata": {},
     "output_type": "execute_result"
    }
   ],
   "source": [
    "# Полное количество элементов\n",
    "df.size"
   ]
  },
  {
   "cell_type": "code",
   "execution_count": 36,
   "id": "dafd7d42",
   "metadata": {},
   "outputs": [
    {
     "data": {
      "text/plain": [
       "(3, 2)"
      ]
     },
     "execution_count": 36,
     "metadata": {},
     "output_type": "execute_result"
    }
   ],
   "source": [
    "# Кортеж: количество строк; столбцов\n",
    "df.shape"
   ]
  },
  {
   "cell_type": "code",
   "execution_count": 37,
   "id": "6b4425e0",
   "metadata": {},
   "outputs": [
    {
     "data": {
      "text/plain": [
       "a     int64\n",
       "b    object\n",
       "dtype: object"
      ]
     },
     "execution_count": 37,
     "metadata": {},
     "output_type": "execute_result"
    }
   ],
   "source": [
    "# Получение типов данных столбцов\n",
    "df = pd.DataFrame({'a': [1, 2], 'b': ['c', 'd']})\n",
    "df.dtypes"
   ]
  },
  {
   "attachments": {},
   "cell_type": "markdown",
   "id": "8df0b261",
   "metadata": {},
   "source": [
    "### Работа с индексами"
   ]
  },
  {
   "cell_type": "code",
   "execution_count": 38,
   "id": "0dd56a85",
   "metadata": {},
   "outputs": [
    {
     "data": {
      "text/html": [
       "<div>\n",
       "<style scoped>\n",
       "    .dataframe tbody tr th:only-of-type {\n",
       "        vertical-align: middle;\n",
       "    }\n",
       "\n",
       "    .dataframe tbody tr th {\n",
       "        vertical-align: top;\n",
       "    }\n",
       "\n",
       "    .dataframe thead th {\n",
       "        text-align: right;\n",
       "    }\n",
       "</style>\n",
       "<table border=\"1\" class=\"dataframe\">\n",
       "  <thead>\n",
       "    <tr style=\"text-align: right;\">\n",
       "      <th></th>\n",
       "      <th>kcal</th>\n",
       "      <th>price</th>\n",
       "    </tr>\n",
       "    <tr>\n",
       "      <th>type</th>\n",
       "      <th></th>\n",
       "      <th></th>\n",
       "    </tr>\n",
       "  </thead>\n",
       "  <tbody>\n",
       "    <tr>\n",
       "      <th>fruit</th>\n",
       "      <td>130</td>\n",
       "      <td>100</td>\n",
       "    </tr>\n",
       "    <tr>\n",
       "      <th>vegetable</th>\n",
       "      <td>120</td>\n",
       "      <td>200</td>\n",
       "    </tr>\n",
       "    <tr>\n",
       "      <th>fruit</th>\n",
       "      <td>80</td>\n",
       "      <td>300</td>\n",
       "    </tr>\n",
       "    <tr>\n",
       "      <th>vegetable</th>\n",
       "      <td>70</td>\n",
       "      <td>111</td>\n",
       "    </tr>\n",
       "  </tbody>\n",
       "</table>\n",
       "</div>"
      ],
      "text/plain": [
       "           kcal  price\n",
       "type                  \n",
       "fruit       130    100\n",
       "vegetable   120    200\n",
       "fruit        80    300\n",
       "vegetable    70    111"
      ]
     },
     "execution_count": 38,
     "metadata": {},
     "output_type": "execute_result"
    }
   ],
   "source": [
    "# Перенос столбца в индекс\n",
    "df = pd.DataFrame({'kcal': [130, 120, 80, 70],\n",
    "                   'price': [100, 200, 300, 111],\n",
    "                   'type': ['fruit', 'vegetable', 'fruit', 'vegetable']})\n",
    "df = df.set_index('type')\n",
    "df"
   ]
  },
  {
   "cell_type": "code",
   "execution_count": 39,
   "id": "8bbc76d3",
   "metadata": {},
   "outputs": [
    {
     "data": {
      "text/html": [
       "<div>\n",
       "<style scoped>\n",
       "    .dataframe tbody tr th:only-of-type {\n",
       "        vertical-align: middle;\n",
       "    }\n",
       "\n",
       "    .dataframe tbody tr th {\n",
       "        vertical-align: top;\n",
       "    }\n",
       "\n",
       "    .dataframe thead th {\n",
       "        text-align: right;\n",
       "    }\n",
       "</style>\n",
       "<table border=\"1\" class=\"dataframe\">\n",
       "  <thead>\n",
       "    <tr style=\"text-align: right;\">\n",
       "      <th></th>\n",
       "      <th>type</th>\n",
       "      <th>kcal</th>\n",
       "      <th>price</th>\n",
       "    </tr>\n",
       "  </thead>\n",
       "  <tbody>\n",
       "    <tr>\n",
       "      <th>0</th>\n",
       "      <td>fruit</td>\n",
       "      <td>130</td>\n",
       "      <td>100</td>\n",
       "    </tr>\n",
       "    <tr>\n",
       "      <th>1</th>\n",
       "      <td>vegetable</td>\n",
       "      <td>120</td>\n",
       "      <td>200</td>\n",
       "    </tr>\n",
       "    <tr>\n",
       "      <th>2</th>\n",
       "      <td>fruit</td>\n",
       "      <td>80</td>\n",
       "      <td>300</td>\n",
       "    </tr>\n",
       "    <tr>\n",
       "      <th>3</th>\n",
       "      <td>vegetable</td>\n",
       "      <td>70</td>\n",
       "      <td>111</td>\n",
       "    </tr>\n",
       "  </tbody>\n",
       "</table>\n",
       "</div>"
      ],
      "text/plain": [
       "        type  kcal  price\n",
       "0      fruit   130    100\n",
       "1  vegetable   120    200\n",
       "2      fruit    80    300\n",
       "3  vegetable    70    111"
      ]
     },
     "execution_count": 39,
     "metadata": {},
     "output_type": "execute_result"
    }
   ],
   "source": [
    "# Перенос индекса в столбец\n",
    "df.reset_index()"
   ]
  },
  {
   "attachments": {},
   "cell_type": "markdown",
   "id": "07f89ffc",
   "metadata": {},
   "source": [
    "### Ограничение размера DataFrame"
   ]
  },
  {
   "cell_type": "code",
   "execution_count": 40,
   "id": "a17353da",
   "metadata": {},
   "outputs": [
    {
     "data": {
      "text/html": [
       "<div>\n",
       "<style scoped>\n",
       "    .dataframe tbody tr th:only-of-type {\n",
       "        vertical-align: middle;\n",
       "    }\n",
       "\n",
       "    .dataframe tbody tr th {\n",
       "        vertical-align: top;\n",
       "    }\n",
       "\n",
       "    .dataframe thead th {\n",
       "        text-align: right;\n",
       "    }\n",
       "</style>\n",
       "<table border=\"1\" class=\"dataframe\">\n",
       "  <thead>\n",
       "    <tr style=\"text-align: right;\">\n",
       "      <th></th>\n",
       "      <th>a</th>\n",
       "      <th>b</th>\n",
       "    </tr>\n",
       "  </thead>\n",
       "  <tbody>\n",
       "    <tr>\n",
       "      <th>0</th>\n",
       "      <td>1</td>\n",
       "      <td>1</td>\n",
       "    </tr>\n",
       "    <tr>\n",
       "      <th>1</th>\n",
       "      <td>2</td>\n",
       "      <td>2</td>\n",
       "    </tr>\n",
       "    <tr>\n",
       "      <th>2</th>\n",
       "      <td>3</td>\n",
       "      <td>3</td>\n",
       "    </tr>\n",
       "    <tr>\n",
       "      <th>3</th>\n",
       "      <td>4</td>\n",
       "      <td>4</td>\n",
       "    </tr>\n",
       "  </tbody>\n",
       "</table>\n",
       "</div>"
      ],
      "text/plain": [
       "   a  b\n",
       "0  1  1\n",
       "1  2  2\n",
       "2  3  3\n",
       "3  4  4"
      ]
     },
     "execution_count": 40,
     "metadata": {},
     "output_type": "execute_result"
    }
   ],
   "source": [
    "# Первые n элементов\n",
    "df = pd.DataFrame({'a': [1, 2, 3, 4, 5, 6, 7, 8, 9],\n",
    "                  'b': [1, 2, 3, 4, 5, 6, 7, 8, 9]})\n",
    "df.head(4)"
   ]
  },
  {
   "cell_type": "code",
   "execution_count": null,
   "id": "fa55169e",
   "metadata": {},
   "outputs": [
    {
     "data": {
      "text/html": [
       "<div>\n",
       "<style scoped>\n",
       "    .dataframe tbody tr th:only-of-type {\n",
       "        vertical-align: middle;\n",
       "    }\n",
       "\n",
       "    .dataframe tbody tr th {\n",
       "        vertical-align: top;\n",
       "    }\n",
       "\n",
       "    .dataframe thead th {\n",
       "        text-align: right;\n",
       "    }\n",
       "</style>\n",
       "<table border=\"1\" class=\"dataframe\">\n",
       "  <thead>\n",
       "    <tr style=\"text-align: right;\">\n",
       "      <th></th>\n",
       "      <th>a</th>\n",
       "      <th>b</th>\n",
       "    </tr>\n",
       "  </thead>\n",
       "  <tbody>\n",
       "    <tr>\n",
       "      <th>5</th>\n",
       "      <td>6</td>\n",
       "      <td>6</td>\n",
       "    </tr>\n",
       "    <tr>\n",
       "      <th>6</th>\n",
       "      <td>7</td>\n",
       "      <td>7</td>\n",
       "    </tr>\n",
       "    <tr>\n",
       "      <th>7</th>\n",
       "      <td>8</td>\n",
       "      <td>8</td>\n",
       "    </tr>\n",
       "    <tr>\n",
       "      <th>8</th>\n",
       "      <td>9</td>\n",
       "      <td>9</td>\n",
       "    </tr>\n",
       "  </tbody>\n",
       "</table>\n",
       "</div>"
      ],
      "text/plain": [
       "   a  b\n",
       "5  6  6\n",
       "6  7  7\n",
       "7  8  8\n",
       "8  9  9"
      ]
     },
     "metadata": {},
     "output_type": "display_data"
    }
   ],
   "source": [
    "# Последние n элементов\n",
    "df.tail(4)"
   ]
  },
  {
   "cell_type": "code",
   "execution_count": 41,
   "id": "2225e91a",
   "metadata": {},
   "outputs": [
    {
     "data": {
      "text/html": [
       "<div>\n",
       "<style scoped>\n",
       "    .dataframe tbody tr th:only-of-type {\n",
       "        vertical-align: middle;\n",
       "    }\n",
       "\n",
       "    .dataframe tbody tr th {\n",
       "        vertical-align: top;\n",
       "    }\n",
       "\n",
       "    .dataframe thead th {\n",
       "        text-align: right;\n",
       "    }\n",
       "</style>\n",
       "<table border=\"1\" class=\"dataframe\">\n",
       "  <thead>\n",
       "    <tr style=\"text-align: right;\">\n",
       "      <th></th>\n",
       "      <th>a</th>\n",
       "      <th>b</th>\n",
       "    </tr>\n",
       "  </thead>\n",
       "  <tbody>\n",
       "    <tr>\n",
       "      <th>1</th>\n",
       "      <td>2</td>\n",
       "      <td>2</td>\n",
       "    </tr>\n",
       "    <tr>\n",
       "      <th>4</th>\n",
       "      <td>5</td>\n",
       "      <td>5</td>\n",
       "    </tr>\n",
       "    <tr>\n",
       "      <th>5</th>\n",
       "      <td>6</td>\n",
       "      <td>6</td>\n",
       "    </tr>\n",
       "  </tbody>\n",
       "</table>\n",
       "</div>"
      ],
      "text/plain": [
       "   a  b\n",
       "1  2  2\n",
       "4  5  5\n",
       "5  6  6"
      ]
     },
     "execution_count": 41,
     "metadata": {},
     "output_type": "execute_result"
    }
   ],
   "source": [
    "# Получить конкретные строки по позиции\n",
    "df.take((1, 4, 5))"
   ]
  },
  {
   "attachments": {},
   "cell_type": "markdown",
   "id": "af1b9339",
   "metadata": {},
   "source": [
    "### Полезные методы DataFrame"
   ]
  },
  {
   "cell_type": "code",
   "execution_count": 42,
   "id": "3a0c1240",
   "metadata": {},
   "outputs": [
    {
     "data": {
      "text/html": [
       "<div>\n",
       "<style scoped>\n",
       "    .dataframe tbody tr th:only-of-type {\n",
       "        vertical-align: middle;\n",
       "    }\n",
       "\n",
       "    .dataframe tbody tr th {\n",
       "        vertical-align: top;\n",
       "    }\n",
       "\n",
       "    .dataframe thead th {\n",
       "        text-align: right;\n",
       "    }\n",
       "</style>\n",
       "<table border=\"1\" class=\"dataframe\">\n",
       "  <thead>\n",
       "    <tr style=\"text-align: right;\">\n",
       "      <th></th>\n",
       "      <th>a</th>\n",
       "      <th>b</th>\n",
       "    </tr>\n",
       "  </thead>\n",
       "  <tbody>\n",
       "    <tr>\n",
       "      <th>count</th>\n",
       "      <td>9.000000</td>\n",
       "      <td>9.000000</td>\n",
       "    </tr>\n",
       "    <tr>\n",
       "      <th>mean</th>\n",
       "      <td>5.000000</td>\n",
       "      <td>14.000000</td>\n",
       "    </tr>\n",
       "    <tr>\n",
       "      <th>std</th>\n",
       "      <td>2.738613</td>\n",
       "      <td>2.738613</td>\n",
       "    </tr>\n",
       "    <tr>\n",
       "      <th>min</th>\n",
       "      <td>1.000000</td>\n",
       "      <td>10.000000</td>\n",
       "    </tr>\n",
       "    <tr>\n",
       "      <th>25%</th>\n",
       "      <td>3.000000</td>\n",
       "      <td>12.000000</td>\n",
       "    </tr>\n",
       "    <tr>\n",
       "      <th>50%</th>\n",
       "      <td>5.000000</td>\n",
       "      <td>14.000000</td>\n",
       "    </tr>\n",
       "    <tr>\n",
       "      <th>75%</th>\n",
       "      <td>7.000000</td>\n",
       "      <td>16.000000</td>\n",
       "    </tr>\n",
       "    <tr>\n",
       "      <th>max</th>\n",
       "      <td>9.000000</td>\n",
       "      <td>18.000000</td>\n",
       "    </tr>\n",
       "  </tbody>\n",
       "</table>\n",
       "</div>"
      ],
      "text/plain": [
       "              a          b\n",
       "count  9.000000   9.000000\n",
       "mean   5.000000  14.000000\n",
       "std    2.738613   2.738613\n",
       "min    1.000000  10.000000\n",
       "25%    3.000000  12.000000\n",
       "50%    5.000000  14.000000\n",
       "75%    7.000000  16.000000\n",
       "max    9.000000  18.000000"
      ]
     },
     "execution_count": 42,
     "metadata": {},
     "output_type": "execute_result"
    }
   ],
   "source": [
    "# Описательные статистики для каждого столбца\n",
    "df = pd.DataFrame({'a': [1, 2, 3, 4, 5, 6, 7, 8, 9],\n",
    "                  'b': [10, 11, 12, 13, 14, 15, 16, 17, 18]})\n",
    "df.describe()"
   ]
  },
  {
   "attachments": {},
   "cell_type": "markdown",
   "id": "a32c7d53",
   "metadata": {},
   "source": [
    "Почти все основные методы Series применимы и к DataFrame (применяется ко всем столбцам и выводится информация относительно столбцов)"
   ]
  },
  {
   "cell_type": "code",
   "execution_count": 43,
   "id": "9c52d2bf",
   "metadata": {},
   "outputs": [
    {
     "data": {
      "text/plain": [
       "a     45\n",
       "b    126\n",
       "dtype: int64"
      ]
     },
     "execution_count": 43,
     "metadata": {},
     "output_type": "execute_result"
    }
   ],
   "source": [
    "# Сумма для каждого столбца\n",
    "df.sum()"
   ]
  },
  {
   "cell_type": "code",
   "execution_count": 44,
   "id": "1a38ca97",
   "metadata": {},
   "outputs": [
    {
     "data": {
      "text/plain": [
       "a     5.0\n",
       "b    14.0\n",
       "dtype: float64"
      ]
     },
     "execution_count": 44,
     "metadata": {},
     "output_type": "execute_result"
    }
   ],
   "source": [
    "# Среднее значение для каждого столбца\n",
    "df.mean()"
   ]
  },
  {
   "cell_type": "code",
   "execution_count": 45,
   "id": "978ba6d0",
   "metadata": {},
   "outputs": [
    {
     "data": {
      "text/plain": [
       "a  b\n",
       "3  3    2\n",
       "1  1    1\n",
       "2  2    1\n",
       "4  4    1\n",
       "dtype: int64"
      ]
     },
     "execution_count": 45,
     "metadata": {},
     "output_type": "execute_result"
    }
   ],
   "source": [
    "# Подсчет числа уникальных сочетаний всех столбцов\n",
    "df = pd.DataFrame({'a': [1, 2, 3, 3, 4],\n",
    "                  'b': [1, 2, 3, 3, 4]})\n",
    "df.value_counts()"
   ]
  },
  {
   "attachments": {},
   "cell_type": "markdown",
   "id": "25fcb32e",
   "metadata": {},
   "source": [
    "### Получение данных из DataFrame\n"
   ]
  },
  {
   "cell_type": "code",
   "execution_count": 47,
   "id": "5519e3d5",
   "metadata": {},
   "outputs": [
    {
     "data": {
      "text/plain": [
       "0    c\n",
       "1    d\n",
       "2    e\n",
       "3    f\n",
       "4    g\n",
       "Name: b, dtype: object"
      ]
     },
     "execution_count": 47,
     "metadata": {},
     "output_type": "execute_result"
    }
   ],
   "source": [
    "# Получение столбца\n",
    "df = pd.DataFrame({'a': [1, 2, 3, 4, 5], 'b': list('cdefg')})\n",
    "df['b'] "
   ]
  },
  {
   "cell_type": "code",
   "execution_count": 48,
   "id": "69ed2a46",
   "metadata": {},
   "outputs": [
    {
     "data": {
      "text/html": [
       "<div>\n",
       "<style scoped>\n",
       "    .dataframe tbody tr th:only-of-type {\n",
       "        vertical-align: middle;\n",
       "    }\n",
       "\n",
       "    .dataframe tbody tr th {\n",
       "        vertical-align: top;\n",
       "    }\n",
       "\n",
       "    .dataframe thead th {\n",
       "        text-align: right;\n",
       "    }\n",
       "</style>\n",
       "<table border=\"1\" class=\"dataframe\">\n",
       "  <thead>\n",
       "    <tr style=\"text-align: right;\">\n",
       "      <th></th>\n",
       "      <th>a</th>\n",
       "      <th>b</th>\n",
       "    </tr>\n",
       "  </thead>\n",
       "  <tbody>\n",
       "    <tr>\n",
       "      <th>0</th>\n",
       "      <td>1</td>\n",
       "      <td>c</td>\n",
       "    </tr>\n",
       "    <tr>\n",
       "      <th>1</th>\n",
       "      <td>2</td>\n",
       "      <td>d</td>\n",
       "    </tr>\n",
       "    <tr>\n",
       "      <th>2</th>\n",
       "      <td>3</td>\n",
       "      <td>e</td>\n",
       "    </tr>\n",
       "    <tr>\n",
       "      <th>3</th>\n",
       "      <td>4</td>\n",
       "      <td>f</td>\n",
       "    </tr>\n",
       "    <tr>\n",
       "      <th>4</th>\n",
       "      <td>5</td>\n",
       "      <td>g</td>\n",
       "    </tr>\n",
       "  </tbody>\n",
       "</table>\n",
       "</div>"
      ],
      "text/plain": [
       "   a  b\n",
       "0  1  c\n",
       "1  2  d\n",
       "2  3  e\n",
       "3  4  f\n",
       "4  5  g"
      ]
     },
     "execution_count": 48,
     "metadata": {},
     "output_type": "execute_result"
    }
   ],
   "source": [
    "# Получение нескольких столбцов\n",
    "df[['a', 'b']]"
   ]
  },
  {
   "cell_type": "code",
   "execution_count": 49,
   "id": "1a754abf",
   "metadata": {},
   "outputs": [
    {
     "data": {
      "text/plain": [
       "a    1\n",
       "b    c\n",
       "Name: 0, dtype: object"
      ]
     },
     "execution_count": 49,
     "metadata": {},
     "output_type": "execute_result"
    }
   ],
   "source": [
    "# В сравнении с Series позволяет отбирать не только по индексам, но и по столбцам\n",
    "df.loc[0, ['a', 'b']]"
   ]
  },
  {
   "cell_type": "code",
   "execution_count": 50,
   "id": "cd30cd06",
   "metadata": {},
   "outputs": [
    {
     "data": {
      "text/plain": [
       "'e'"
      ]
     },
     "execution_count": 50,
     "metadata": {},
     "output_type": "execute_result"
    }
   ],
   "source": [
    "# .iloc аналогично, может отбирать по позиции столбца.\n",
    "df.iloc[2, 1]"
   ]
  },
  {
   "cell_type": "code",
   "execution_count": null,
   "id": "bc37de62",
   "metadata": {},
   "outputs": [
    {
     "data": {
      "text/plain": [
       "a    3\n",
       "b    e\n",
       "Name: 2, dtype: object"
      ]
     },
     "metadata": {},
     "output_type": "display_data"
    }
   ],
   "source": [
    "df.iloc[2, [0, 1]]"
   ]
  },
  {
   "attachments": {},
   "cell_type": "markdown",
   "id": "c54f7360",
   "metadata": {},
   "source": [
    "### Срезы DataFrame"
   ]
  },
  {
   "attachments": {},
   "cell_type": "markdown",
   "id": "3f76d822",
   "metadata": {},
   "source": [
    "##### Срезы по позиции"
   ]
  },
  {
   "cell_type": "code",
   "execution_count": 51,
   "id": "36968ac1",
   "metadata": {},
   "outputs": [
    {
     "data": {
      "text/html": [
       "<div>\n",
       "<style scoped>\n",
       "    .dataframe tbody tr th:only-of-type {\n",
       "        vertical-align: middle;\n",
       "    }\n",
       "\n",
       "    .dataframe tbody tr th {\n",
       "        vertical-align: top;\n",
       "    }\n",
       "\n",
       "    .dataframe thead th {\n",
       "        text-align: right;\n",
       "    }\n",
       "</style>\n",
       "<table border=\"1\" class=\"dataframe\">\n",
       "  <thead>\n",
       "    <tr style=\"text-align: right;\">\n",
       "      <th></th>\n",
       "      <th>numbers</th>\n",
       "      <th>words</th>\n",
       "    </tr>\n",
       "  </thead>\n",
       "  <tbody>\n",
       "    <tr>\n",
       "      <th>a</th>\n",
       "      <td>10</td>\n",
       "      <td>ab</td>\n",
       "    </tr>\n",
       "    <tr>\n",
       "      <th>b</th>\n",
       "      <td>2</td>\n",
       "      <td>cd</td>\n",
       "    </tr>\n",
       "  </tbody>\n",
       "</table>\n",
       "</div>"
      ],
      "text/plain": [
       "   numbers words\n",
       "a       10    ab\n",
       "b        2    cd"
      ]
     },
     "execution_count": 51,
     "metadata": {},
     "output_type": "execute_result"
    }
   ],
   "source": [
    "# Оператор []\n",
    "df = pd.DataFrame({'numbers': [10, 2, 4, 6, 7], \n",
    "                   'words': ['ab', 'cd', 'ef', 'gh', 'ij']}, \n",
    "                  index = list('abcde'))\n",
    "# Правая граница не включается\n",
    "df[0:2] "
   ]
  },
  {
   "cell_type": "code",
   "execution_count": 52,
   "id": "c0290c8f",
   "metadata": {},
   "outputs": [
    {
     "data": {
      "text/html": [
       "<div>\n",
       "<style scoped>\n",
       "    .dataframe tbody tr th:only-of-type {\n",
       "        vertical-align: middle;\n",
       "    }\n",
       "\n",
       "    .dataframe tbody tr th {\n",
       "        vertical-align: top;\n",
       "    }\n",
       "\n",
       "    .dataframe thead th {\n",
       "        text-align: right;\n",
       "    }\n",
       "</style>\n",
       "<table border=\"1\" class=\"dataframe\">\n",
       "  <thead>\n",
       "    <tr style=\"text-align: right;\">\n",
       "      <th></th>\n",
       "      <th>a</th>\n",
       "      <th>b</th>\n",
       "    </tr>\n",
       "  </thead>\n",
       "  <tbody>\n",
       "    <tr>\n",
       "      <th>a</th>\n",
       "      <td>10</td>\n",
       "      <td>ab</td>\n",
       "    </tr>\n",
       "    <tr>\n",
       "      <th>b</th>\n",
       "      <td>2</td>\n",
       "      <td>cd</td>\n",
       "    </tr>\n",
       "  </tbody>\n",
       "</table>\n",
       "</div>"
      ],
      "text/plain": [
       "    a   b\n",
       "a  10  ab\n",
       "b   2  cd"
      ]
     },
     "execution_count": 52,
     "metadata": {},
     "output_type": "execute_result"
    }
   ],
   "source": [
    "# Метод .iloc\n",
    "df = pd.DataFrame({'a': [10, 2, 4, 6, 7], \n",
    "                   'b': ['ab', 'cd', 'ef', 'gh', 'ij'],\n",
    "                   'c': [0.1, 0.6, 0.8, 0.3, 0.5]}, \n",
    "                  index = list('abcde'))\n",
    "df.iloc[0:2, 0:2]"
   ]
  },
  {
   "attachments": {},
   "cell_type": "markdown",
   "id": "ca1b044c",
   "metadata": {},
   "source": [
    "##### Срезы по индексам/столбцам"
   ]
  },
  {
   "cell_type": "code",
   "execution_count": 53,
   "id": "6026ea82",
   "metadata": {},
   "outputs": [
    {
     "data": {
      "text/html": [
       "<div>\n",
       "<style scoped>\n",
       "    .dataframe tbody tr th:only-of-type {\n",
       "        vertical-align: middle;\n",
       "    }\n",
       "\n",
       "    .dataframe tbody tr th {\n",
       "        vertical-align: top;\n",
       "    }\n",
       "\n",
       "    .dataframe thead th {\n",
       "        text-align: right;\n",
       "    }\n",
       "</style>\n",
       "<table border=\"1\" class=\"dataframe\">\n",
       "  <thead>\n",
       "    <tr style=\"text-align: right;\">\n",
       "      <th></th>\n",
       "      <th>b</th>\n",
       "      <th>c</th>\n",
       "    </tr>\n",
       "  </thead>\n",
       "  <tbody>\n",
       "    <tr>\n",
       "      <th>a</th>\n",
       "      <td>ab</td>\n",
       "      <td>0.1</td>\n",
       "    </tr>\n",
       "    <tr>\n",
       "      <th>b</th>\n",
       "      <td>cd</td>\n",
       "      <td>0.6</td>\n",
       "    </tr>\n",
       "  </tbody>\n",
       "</table>\n",
       "</div>"
      ],
      "text/plain": [
       "    b    c\n",
       "a  ab  0.1\n",
       "b  cd  0.6"
      ]
     },
     "execution_count": 53,
     "metadata": {},
     "output_type": "execute_result"
    }
   ],
   "source": [
    "# Метод .loc\n",
    "df = pd.DataFrame({'a': [10, 2, 4, 6, 7], \n",
    "                   'b': ['ab', 'cd', 'ef', 'gh', 'ij'],\n",
    "                   'c': [0.1, 0.6, 0.8, 0.3, 0.5]}, \n",
    "                  index = list('abcde'))\n",
    "df.loc['a':'b', 'b':'c'] #границы включаются"
   ]
  },
  {
   "attachments": {},
   "cell_type": "markdown",
   "id": "8faf0018",
   "metadata": {},
   "source": [
    "### Добавление столбцов и строк"
   ]
  },
  {
   "attachments": {},
   "cell_type": "markdown",
   "id": "9d95b760",
   "metadata": {},
   "source": [
    "##### Добавление столбца"
   ]
  },
  {
   "cell_type": "code",
   "execution_count": 57,
   "id": "6100b79b",
   "metadata": {},
   "outputs": [
    {
     "data": {
      "text/html": [
       "<div>\n",
       "<style scoped>\n",
       "    .dataframe tbody tr th:only-of-type {\n",
       "        vertical-align: middle;\n",
       "    }\n",
       "\n",
       "    .dataframe tbody tr th {\n",
       "        vertical-align: top;\n",
       "    }\n",
       "\n",
       "    .dataframe thead th {\n",
       "        text-align: right;\n",
       "    }\n",
       "</style>\n",
       "<table border=\"1\" class=\"dataframe\">\n",
       "  <thead>\n",
       "    <tr style=\"text-align: right;\">\n",
       "      <th></th>\n",
       "      <th>a</th>\n",
       "      <th>b</th>\n",
       "      <th>c</th>\n",
       "    </tr>\n",
       "  </thead>\n",
       "  <tbody>\n",
       "    <tr>\n",
       "      <th>0</th>\n",
       "      <td>1</td>\n",
       "      <td>c</td>\n",
       "      <td>0.1</td>\n",
       "    </tr>\n",
       "    <tr>\n",
       "      <th>1</th>\n",
       "      <td>2</td>\n",
       "      <td>d</td>\n",
       "      <td>0.2</td>\n",
       "    </tr>\n",
       "  </tbody>\n",
       "</table>\n",
       "</div>"
      ],
      "text/plain": [
       "   a  b    c\n",
       "0  1  c  0.1\n",
       "1  2  d  0.2"
      ]
     },
     "execution_count": 57,
     "metadata": {},
     "output_type": "execute_result"
    }
   ],
   "source": [
    "# Список значений\n",
    "df = pd.DataFrame({'a': [1, 2], 'b': ['c', 'd']})\n",
    "df['c'] = [0.1, 0.2]\n",
    "df"
   ]
  },
  {
   "cell_type": "code",
   "execution_count": 62,
   "id": "7f2b7897",
   "metadata": {},
   "outputs": [
    {
     "data": {
      "text/html": [
       "<div>\n",
       "<style scoped>\n",
       "    .dataframe tbody tr th:only-of-type {\n",
       "        vertical-align: middle;\n",
       "    }\n",
       "\n",
       "    .dataframe tbody tr th {\n",
       "        vertical-align: top;\n",
       "    }\n",
       "\n",
       "    .dataframe thead th {\n",
       "        text-align: right;\n",
       "    }\n",
       "</style>\n",
       "<table border=\"1\" class=\"dataframe\">\n",
       "  <thead>\n",
       "    <tr style=\"text-align: right;\">\n",
       "      <th></th>\n",
       "      <th>a</th>\n",
       "      <th>b</th>\n",
       "      <th>c</th>\n",
       "    </tr>\n",
       "  </thead>\n",
       "  <tbody>\n",
       "    <tr>\n",
       "      <th>0</th>\n",
       "      <td>1</td>\n",
       "      <td>c</td>\n",
       "      <td>0.1</td>\n",
       "    </tr>\n",
       "    <tr>\n",
       "      <th>1</th>\n",
       "      <td>2</td>\n",
       "      <td>d</td>\n",
       "      <td>NaN</td>\n",
       "    </tr>\n",
       "  </tbody>\n",
       "</table>\n",
       "</div>"
      ],
      "text/plain": [
       "   a  b    c\n",
       "0  1  c  0.1\n",
       "1  2  d  NaN"
      ]
     },
     "execution_count": 62,
     "metadata": {},
     "output_type": "execute_result"
    }
   ],
   "source": [
    "df = pd.DataFrame({'a': [1, 2], 'b': ['c', 'd']})\n",
    "df['c'] = pd.Series([0.1, 0.2], index=[0, 2])\n",
    "df #Требуется совпадение индексов"
   ]
  },
  {
   "attachments": {},
   "cell_type": "markdown",
   "id": "c5c576a6",
   "metadata": {},
   "source": [
    "##### Добавление строки"
   ]
  },
  {
   "cell_type": "code",
   "execution_count": 64,
   "id": "5ebe7c10",
   "metadata": {},
   "outputs": [
    {
     "data": {
      "text/html": [
       "<div>\n",
       "<style scoped>\n",
       "    .dataframe tbody tr th:only-of-type {\n",
       "        vertical-align: middle;\n",
       "    }\n",
       "\n",
       "    .dataframe tbody tr th {\n",
       "        vertical-align: top;\n",
       "    }\n",
       "\n",
       "    .dataframe thead th {\n",
       "        text-align: right;\n",
       "    }\n",
       "</style>\n",
       "<table border=\"1\" class=\"dataframe\">\n",
       "  <thead>\n",
       "    <tr style=\"text-align: right;\">\n",
       "      <th></th>\n",
       "      <th>a</th>\n",
       "      <th>b</th>\n",
       "      <th>c</th>\n",
       "    </tr>\n",
       "  </thead>\n",
       "  <tbody>\n",
       "    <tr>\n",
       "      <th>0</th>\n",
       "      <td>1</td>\n",
       "      <td>c</td>\n",
       "      <td>0.1</td>\n",
       "    </tr>\n",
       "    <tr>\n",
       "      <th>1</th>\n",
       "      <td>3</td>\n",
       "      <td>e</td>\n",
       "      <td>4.0</td>\n",
       "    </tr>\n",
       "  </tbody>\n",
       "</table>\n",
       "</div>"
      ],
      "text/plain": [
       "   a  b    c\n",
       "0  1  c  0.1\n",
       "1  3  e  4.0"
      ]
     },
     "execution_count": 64,
     "metadata": {},
     "output_type": "execute_result"
    }
   ],
   "source": [
    "df.loc[1] = [3, 'e', 4]\n",
    "df"
   ]
  },
  {
   "attachments": {},
   "cell_type": "markdown",
   "id": "17a0c972",
   "metadata": {},
   "source": [
    "### Удаление столбцов и строк"
   ]
  },
  {
   "attachments": {},
   "cell_type": "markdown",
   "id": "1863f47a",
   "metadata": {},
   "source": [
    "##### Удаление столбцов"
   ]
  },
  {
   "cell_type": "code",
   "execution_count": 65,
   "id": "5f9a0236",
   "metadata": {},
   "outputs": [
    {
     "data": {
      "text/html": [
       "<div>\n",
       "<style scoped>\n",
       "    .dataframe tbody tr th:only-of-type {\n",
       "        vertical-align: middle;\n",
       "    }\n",
       "\n",
       "    .dataframe tbody tr th {\n",
       "        vertical-align: top;\n",
       "    }\n",
       "\n",
       "    .dataframe thead th {\n",
       "        text-align: right;\n",
       "    }\n",
       "</style>\n",
       "<table border=\"1\" class=\"dataframe\">\n",
       "  <thead>\n",
       "    <tr style=\"text-align: right;\">\n",
       "      <th></th>\n",
       "      <th>a</th>\n",
       "      <th>c</th>\n",
       "    </tr>\n",
       "  </thead>\n",
       "  <tbody>\n",
       "    <tr>\n",
       "      <th>0</th>\n",
       "      <td>10</td>\n",
       "      <td>0.1</td>\n",
       "    </tr>\n",
       "    <tr>\n",
       "      <th>1</th>\n",
       "      <td>2</td>\n",
       "      <td>0.6</td>\n",
       "    </tr>\n",
       "  </tbody>\n",
       "</table>\n",
       "</div>"
      ],
      "text/plain": [
       "    a    c\n",
       "0  10  0.1\n",
       "1   2  0.6"
      ]
     },
     "execution_count": 65,
     "metadata": {},
     "output_type": "execute_result"
    }
   ],
   "source": [
    "# .pop() – удаляет in-place и возвращает удаленный столбец\n",
    "df = pd.DataFrame({'a': [10, 2], 'b': ['ab', 'cd'], 'c': [0.1, 0.6]})\n",
    "series = df.pop('b') #в series записан столбец b\n",
    "df"
   ]
  },
  {
   "cell_type": "code",
   "execution_count": 66,
   "id": "9aa43ee1",
   "metadata": {},
   "outputs": [
    {
     "data": {
      "text/html": [
       "<div>\n",
       "<style scoped>\n",
       "    .dataframe tbody tr th:only-of-type {\n",
       "        vertical-align: middle;\n",
       "    }\n",
       "\n",
       "    .dataframe tbody tr th {\n",
       "        vertical-align: top;\n",
       "    }\n",
       "\n",
       "    .dataframe thead th {\n",
       "        text-align: right;\n",
       "    }\n",
       "</style>\n",
       "<table border=\"1\" class=\"dataframe\">\n",
       "  <thead>\n",
       "    <tr style=\"text-align: right;\">\n",
       "      <th></th>\n",
       "      <th>c</th>\n",
       "    </tr>\n",
       "  </thead>\n",
       "  <tbody>\n",
       "    <tr>\n",
       "      <th>0</th>\n",
       "      <td>0.1</td>\n",
       "    </tr>\n",
       "    <tr>\n",
       "      <th>1</th>\n",
       "      <td>0.6</td>\n",
       "    </tr>\n",
       "  </tbody>\n",
       "</table>\n",
       "</div>"
      ],
      "text/plain": [
       "     c\n",
       "0  0.1\n",
       "1  0.6"
      ]
     },
     "execution_count": 66,
     "metadata": {},
     "output_type": "execute_result"
    }
   ],
   "source": [
    "# .drop(axis=1) – удаляет столбец или список столбцов, можно выбрать in-place\n",
    "df = pd.DataFrame({'a': [10, 2], 'b': ['ab', 'cd'], 'c': [0.1, 0.6]})\n",
    "df.drop(\n",
    "    ['a', 'b', 'd'],\n",
    "    axis = 1,#удаление столбца\n",
    "    inplace = True,\n",
    "    errors = 'ignore'#игнорировать ошибку, если нет столбца с указанным именем\n",
    ")\n",
    "df"
   ]
  },
  {
   "attachments": {},
   "cell_type": "markdown",
   "id": "75eecb98",
   "metadata": {},
   "source": [
    "##### Удаление строки"
   ]
  },
  {
   "cell_type": "code",
   "execution_count": null,
   "id": "edc4a69c",
   "metadata": {},
   "outputs": [
    {
     "data": {
      "text/html": [
       "<div>\n",
       "<style scoped>\n",
       "    .dataframe tbody tr th:only-of-type {\n",
       "        vertical-align: middle;\n",
       "    }\n",
       "\n",
       "    .dataframe tbody tr th {\n",
       "        vertical-align: top;\n",
       "    }\n",
       "\n",
       "    .dataframe thead th {\n",
       "        text-align: right;\n",
       "    }\n",
       "</style>\n",
       "<table border=\"1\" class=\"dataframe\">\n",
       "  <thead>\n",
       "    <tr style=\"text-align: right;\">\n",
       "      <th></th>\n",
       "      <th>a</th>\n",
       "      <th>b</th>\n",
       "      <th>c</th>\n",
       "    </tr>\n",
       "  </thead>\n",
       "  <tbody>\n",
       "    <tr>\n",
       "      <th>1</th>\n",
       "      <td>2</td>\n",
       "      <td>cd</td>\n",
       "      <td>0.6</td>\n",
       "    </tr>\n",
       "  </tbody>\n",
       "</table>\n",
       "</div>"
      ],
      "text/plain": [
       "   a   b    c\n",
       "1  2  cd  0.6"
      ]
     },
     "metadata": {},
     "output_type": "display_data"
    }
   ],
   "source": [
    "df = pd.DataFrame({'a': [10, 2], 'b': ['ab', 'cd'], 'c': [0.1, 0.6]})\n",
    "df = df.drop(0, axis = 0)#удаление cтроки\n",
    "df"
   ]
  },
  {
   "attachments": {},
   "cell_type": "markdown",
   "id": "1a79007e",
   "metadata": {},
   "source": [
    "### Фильтрация данных DataFrame"
   ]
  },
  {
   "cell_type": "code",
   "execution_count": 67,
   "id": "559a4f1b",
   "metadata": {},
   "outputs": [
    {
     "data": {
      "text/html": [
       "<div>\n",
       "<style scoped>\n",
       "    .dataframe tbody tr th:only-of-type {\n",
       "        vertical-align: middle;\n",
       "    }\n",
       "\n",
       "    .dataframe tbody tr th {\n",
       "        vertical-align: top;\n",
       "    }\n",
       "\n",
       "    .dataframe thead th {\n",
       "        text-align: right;\n",
       "    }\n",
       "</style>\n",
       "<table border=\"1\" class=\"dataframe\">\n",
       "  <thead>\n",
       "    <tr style=\"text-align: right;\">\n",
       "      <th></th>\n",
       "      <th>a</th>\n",
       "      <th>c</th>\n",
       "    </tr>\n",
       "  </thead>\n",
       "  <tbody>\n",
       "    <tr>\n",
       "      <th>0</th>\n",
       "      <td>10</td>\n",
       "      <td>0.1</td>\n",
       "    </tr>\n",
       "    <tr>\n",
       "      <th>4</th>\n",
       "      <td>8</td>\n",
       "      <td>0.5</td>\n",
       "    </tr>\n",
       "  </tbody>\n",
       "</table>\n",
       "</div>"
      ],
      "text/plain": [
       "    a    c\n",
       "0  10  0.1\n",
       "4   8  0.5"
      ]
     },
     "execution_count": 67,
     "metadata": {},
     "output_type": "execute_result"
    }
   ],
   "source": [
    "# Фильтрация строк производится аналогично Series\n",
    "df = pd.DataFrame({'a': [10, 2, 4, 6, 8], 'c': [0.1, 0.6, 0.8, 0.13, 0.5]})\n",
    "df[df['a'] > 7]"
   ]
  },
  {
   "cell_type": "code",
   "execution_count": 68,
   "id": "8ee45139",
   "metadata": {},
   "outputs": [
    {
     "data": {
      "text/html": [
       "<div>\n",
       "<style scoped>\n",
       "    .dataframe tbody tr th:only-of-type {\n",
       "        vertical-align: middle;\n",
       "    }\n",
       "\n",
       "    .dataframe tbody tr th {\n",
       "        vertical-align: top;\n",
       "    }\n",
       "\n",
       "    .dataframe thead th {\n",
       "        text-align: right;\n",
       "    }\n",
       "</style>\n",
       "<table border=\"1\" class=\"dataframe\">\n",
       "  <thead>\n",
       "    <tr style=\"text-align: right;\">\n",
       "      <th></th>\n",
       "      <th>a</th>\n",
       "      <th>c</th>\n",
       "    </tr>\n",
       "  </thead>\n",
       "  <tbody>\n",
       "    <tr>\n",
       "      <th>0</th>\n",
       "      <td>10</td>\n",
       "      <td>0.10</td>\n",
       "    </tr>\n",
       "    <tr>\n",
       "      <th>3</th>\n",
       "      <td>6</td>\n",
       "      <td>0.13</td>\n",
       "    </tr>\n",
       "    <tr>\n",
       "      <th>4</th>\n",
       "      <td>8</td>\n",
       "      <td>0.50</td>\n",
       "    </tr>\n",
       "  </tbody>\n",
       "</table>\n",
       "</div>"
      ],
      "text/plain": [
       "    a     c\n",
       "0  10  0.10\n",
       "3   6  0.13\n",
       "4   8  0.50"
      ]
     },
     "execution_count": 68,
     "metadata": {},
     "output_type": "execute_result"
    }
   ],
   "source": [
    "df = pd.DataFrame({'a': [10, 2, 4, 6, 8], 'c': [0.1, 0.6, 0.8, 0.13, 0.5]})\n",
    "df[(df['a'] > 4) & (df['c'] <= 0.5)]"
   ]
  },
  {
   "cell_type": "code",
   "execution_count": 69,
   "id": "dedbabe4",
   "metadata": {},
   "outputs": [
    {
     "data": {
      "text/html": [
       "<div>\n",
       "<style scoped>\n",
       "    .dataframe tbody tr th:only-of-type {\n",
       "        vertical-align: middle;\n",
       "    }\n",
       "\n",
       "    .dataframe tbody tr th {\n",
       "        vertical-align: top;\n",
       "    }\n",
       "\n",
       "    .dataframe thead th {\n",
       "        text-align: right;\n",
       "    }\n",
       "</style>\n",
       "<table border=\"1\" class=\"dataframe\">\n",
       "  <thead>\n",
       "    <tr style=\"text-align: right;\">\n",
       "      <th></th>\n",
       "      <th>a</th>\n",
       "      <th>c</th>\n",
       "    </tr>\n",
       "  </thead>\n",
       "  <tbody>\n",
       "    <tr>\n",
       "      <th>d</th>\n",
       "      <td>6</td>\n",
       "      <td>0.13</td>\n",
       "    </tr>\n",
       "    <tr>\n",
       "      <th>e</th>\n",
       "      <td>8</td>\n",
       "      <td>0.50</td>\n",
       "    </tr>\n",
       "  </tbody>\n",
       "</table>\n",
       "</div>"
      ],
      "text/plain": [
       "   a     c\n",
       "d  6  0.13\n",
       "e  8  0.50"
      ]
     },
     "execution_count": 69,
     "metadata": {},
     "output_type": "execute_result"
    }
   ],
   "source": [
    "# Оператор ~\n",
    "df = pd.DataFrame({'a': [10, 2, 4, 6, 8], \n",
    "                   'c': [0.1, 0.6, 0.8, 0.13, 0.5]},\n",
    "                 index=list('abcde'))\n",
    "#отфильтровать индексы так, чтобы в итоговой структуре\n",
    "#НЕ БЫЛО индексов из списка недопустимых индексов\n",
    "df[~df.index.isin(list('abc'))]"
   ]
  },
  {
   "attachments": {},
   "cell_type": "markdown",
   "id": "e7e0fd8d",
   "metadata": {},
   "source": [
    "### Импортирование/экспортирование данных"
   ]
  },
  {
   "attachments": {},
   "cell_type": "markdown",
   "id": "92738201",
   "metadata": {},
   "source": [
    "|Формат|Чтение|Запись|\n",
    "|-|-|-|\n",
    "|csv|pd.read_csv|df.to_csv|\n",
    "|json|pd.read_json|df.to_json|\n",
    "|Fixed-Width Text file|pd.read_fwf|-|\n",
    "|html|pd.read_html|df.to_html|\n",
    "|latex|-|df.to_latex|\n",
    "|xml|pd.read_xml|df.to_xml|\n",
    "|excel|pd.read_excel|df.to_excel|\n",
    "|hdf5|pd.read_hdf|df.to_hdf|\n",
    "|sql|pd.read_sql|df.to_sql|\n",
    "|Parquet format|pd.read_parquet|df.to_parquet|\n",
    "|ORC|pd.read_orc|df.to_orc|\n",
    "|Stata|pd.read_stata|df.to_stata|"
   ]
  },
  {
   "cell_type": "code",
   "execution_count": 72,
   "id": "e5d49bba",
   "metadata": {},
   "outputs": [
    {
     "data": {
      "text/html": [
       "<div>\n",
       "<style scoped>\n",
       "    .dataframe tbody tr th:only-of-type {\n",
       "        vertical-align: middle;\n",
       "    }\n",
       "\n",
       "    .dataframe tbody tr th {\n",
       "        vertical-align: top;\n",
       "    }\n",
       "\n",
       "    .dataframe thead th {\n",
       "        text-align: right;\n",
       "    }\n",
       "</style>\n",
       "<table border=\"1\" class=\"dataframe\">\n",
       "  <thead>\n",
       "    <tr style=\"text-align: right;\">\n",
       "      <th></th>\n",
       "      <th>Country</th>\n",
       "      <th>Region</th>\n",
       "    </tr>\n",
       "  </thead>\n",
       "  <tbody>\n",
       "    <tr>\n",
       "      <th>0</th>\n",
       "      <td>Algeria</td>\n",
       "      <td>AFRICA</td>\n",
       "    </tr>\n",
       "    <tr>\n",
       "      <th>1</th>\n",
       "      <td>Angola</td>\n",
       "      <td>AFRICA</td>\n",
       "    </tr>\n",
       "    <tr>\n",
       "      <th>2</th>\n",
       "      <td>Benin</td>\n",
       "      <td>AFRICA</td>\n",
       "    </tr>\n",
       "    <tr>\n",
       "      <th>3</th>\n",
       "      <td>Botswana</td>\n",
       "      <td>AFRICA</td>\n",
       "    </tr>\n",
       "    <tr>\n",
       "      <th>4</th>\n",
       "      <td>Burkina</td>\n",
       "      <td>AFRICA</td>\n",
       "    </tr>\n",
       "    <tr>\n",
       "      <th>...</th>\n",
       "      <td>...</td>\n",
       "      <td>...</td>\n",
       "    </tr>\n",
       "    <tr>\n",
       "      <th>189</th>\n",
       "      <td>Paraguay</td>\n",
       "      <td>SOUTH AMERICA</td>\n",
       "    </tr>\n",
       "    <tr>\n",
       "      <th>190</th>\n",
       "      <td>Peru</td>\n",
       "      <td>SOUTH AMERICA</td>\n",
       "    </tr>\n",
       "    <tr>\n",
       "      <th>191</th>\n",
       "      <td>Suriname</td>\n",
       "      <td>SOUTH AMERICA</td>\n",
       "    </tr>\n",
       "    <tr>\n",
       "      <th>192</th>\n",
       "      <td>Uruguay</td>\n",
       "      <td>SOUTH AMERICA</td>\n",
       "    </tr>\n",
       "    <tr>\n",
       "      <th>193</th>\n",
       "      <td>Venezuela</td>\n",
       "      <td>SOUTH AMERICA</td>\n",
       "    </tr>\n",
       "  </tbody>\n",
       "</table>\n",
       "<p>194 rows × 2 columns</p>\n",
       "</div>"
      ],
      "text/plain": [
       "       Country         Region\n",
       "0      Algeria         AFRICA\n",
       "1       Angola         AFRICA\n",
       "2        Benin         AFRICA\n",
       "3     Botswana         AFRICA\n",
       "4      Burkina         AFRICA\n",
       "..         ...            ...\n",
       "189   Paraguay  SOUTH AMERICA\n",
       "190       Peru  SOUTH AMERICA\n",
       "191   Suriname  SOUTH AMERICA\n",
       "192    Uruguay  SOUTH AMERICA\n",
       "193  Venezuela  SOUTH AMERICA\n",
       "\n",
       "[194 rows x 2 columns]"
      ]
     },
     "execution_count": 72,
     "metadata": {},
     "output_type": "execute_result"
    }
   ],
   "source": [
    "df = pd.read_csv('https://raw.githubusercontent.com/cs109/2014_data/master/countries.csv')\n",
    "df"
   ]
  },
  {
   "attachments": {},
   "cell_type": "markdown",
   "id": "25d9d19a",
   "metadata": {},
   "source": [
    "##### Аргументы функций импорта"
   ]
  },
  {
   "attachments": {},
   "cell_type": "markdown",
   "id": "90c1239e",
   "metadata": {},
   "source": [
    "* *filepath_or_buffer* – путь к файлу, URL или любой другой объект с методом read()\n",
    "* *sep* – строка-разделитель для чтения из текстовых файлов\n",
    "* *header* – номер строки заголовка (по умолчанию 0)\n",
    "* *names* – список имен столбцов (тогда header = None)\n",
    "* *index_col* – номера или названия столбцов, которые будут использоваться, как индекс DataFrame’а\n",
    "* *usecols* – список строк или функция для отбора конкретных столбцов\n",
    "* *dtype* – словарь с соответствием столбца и типа данных\n",
    "* *skiprows* – список строк, которые необходимо пропустить при чтении\n",
    "* *skipfooter* – количество строк, которые отбрасываем из конца файла\n",
    "* *nrows* – количество строк для считывания\n",
    "* *na_values* – какие строки необходимо считать, как NaN\n",
    "* [И др](https://pandas.pydata.org/pandas-docs/stable/reference/api/pandas.read_csv.html)"
   ]
  },
  {
   "attachments": {},
   "cell_type": "markdown",
   "id": "1a2c99bb",
   "metadata": {},
   "source": [
    "### Сортировка DataFrame"
   ]
  },
  {
   "attachments": {},
   "cell_type": "markdown",
   "id": "ec33ed8b",
   "metadata": {},
   "source": [
    "##### sort_values\n",
    "* *axis* – ось подлежащая сортировке (‘index’/0 (сортировка строк) или ‘columns’/1(сортировка столбцов)) (по умолчанию 0)\n",
    "* *by* – имя или список имен для сортировки (если axis=‘index’, то наименование столбца или имя индекса, если axis=‘columns’, то индекс) \n",
    "* Остальные параметры аналогичны Series"
   ]
  },
  {
   "cell_type": "code",
   "execution_count": 73,
   "id": "07592c15",
   "metadata": {},
   "outputs": [
    {
     "data": {
      "text/html": [
       "<div>\n",
       "<style scoped>\n",
       "    .dataframe tbody tr th:only-of-type {\n",
       "        vertical-align: middle;\n",
       "    }\n",
       "\n",
       "    .dataframe tbody tr th {\n",
       "        vertical-align: top;\n",
       "    }\n",
       "\n",
       "    .dataframe thead th {\n",
       "        text-align: right;\n",
       "    }\n",
       "</style>\n",
       "<table border=\"1\" class=\"dataframe\">\n",
       "  <thead>\n",
       "    <tr style=\"text-align: right;\">\n",
       "      <th></th>\n",
       "      <th>a</th>\n",
       "      <th>c</th>\n",
       "    </tr>\n",
       "  </thead>\n",
       "  <tbody>\n",
       "    <tr>\n",
       "      <th>a</th>\n",
       "      <td>10</td>\n",
       "      <td>0.10</td>\n",
       "    </tr>\n",
       "    <tr>\n",
       "      <th>d</th>\n",
       "      <td>6</td>\n",
       "      <td>0.13</td>\n",
       "    </tr>\n",
       "    <tr>\n",
       "      <th>e</th>\n",
       "      <td>8</td>\n",
       "      <td>0.50</td>\n",
       "    </tr>\n",
       "    <tr>\n",
       "      <th>b</th>\n",
       "      <td>2</td>\n",
       "      <td>0.60</td>\n",
       "    </tr>\n",
       "    <tr>\n",
       "      <th>c</th>\n",
       "      <td>4</td>\n",
       "      <td>0.80</td>\n",
       "    </tr>\n",
       "  </tbody>\n",
       "</table>\n",
       "</div>"
      ],
      "text/plain": [
       "    a     c\n",
       "a  10  0.10\n",
       "d   6  0.13\n",
       "e   8  0.50\n",
       "b   2  0.60\n",
       "c   4  0.80"
      ]
     },
     "execution_count": 73,
     "metadata": {},
     "output_type": "execute_result"
    }
   ],
   "source": [
    "# Сортировка выбранного столбца по строкам\n",
    "df = pd.DataFrame({'a': [10, 2, 4, 6, 8], \n",
    "                   'c': [0.1, 0.6, 0.8, 0.13, 0.5]},\n",
    "                 index=list('abcde'))\n",
    "df.sort_values(by='c', axis='index')"
   ]
  },
  {
   "cell_type": "code",
   "execution_count": 74,
   "id": "fc5147f2",
   "metadata": {},
   "outputs": [
    {
     "data": {
      "text/html": [
       "<div>\n",
       "<style scoped>\n",
       "    .dataframe tbody tr th:only-of-type {\n",
       "        vertical-align: middle;\n",
       "    }\n",
       "\n",
       "    .dataframe tbody tr th {\n",
       "        vertical-align: top;\n",
       "    }\n",
       "\n",
       "    .dataframe thead th {\n",
       "        text-align: right;\n",
       "    }\n",
       "</style>\n",
       "<table border=\"1\" class=\"dataframe\">\n",
       "  <thead>\n",
       "    <tr style=\"text-align: right;\">\n",
       "      <th></th>\n",
       "      <th>a</th>\n",
       "      <th>d</th>\n",
       "      <th>e</th>\n",
       "      <th>b</th>\n",
       "      <th>c</th>\n",
       "    </tr>\n",
       "  </thead>\n",
       "  <tbody>\n",
       "    <tr>\n",
       "      <th>a</th>\n",
       "      <td>10.0</td>\n",
       "      <td>6.00</td>\n",
       "      <td>8.0</td>\n",
       "      <td>2.0</td>\n",
       "      <td>4.0</td>\n",
       "    </tr>\n",
       "    <tr>\n",
       "      <th>b</th>\n",
       "      <td>0.1</td>\n",
       "      <td>0.13</td>\n",
       "      <td>0.5</td>\n",
       "      <td>0.6</td>\n",
       "      <td>0.8</td>\n",
       "    </tr>\n",
       "  </tbody>\n",
       "</table>\n",
       "</div>"
      ],
      "text/plain": [
       "      a     d    e    b    c\n",
       "a  10.0  6.00  8.0  2.0  4.0\n",
       "b   0.1  0.13  0.5  0.6  0.8"
      ]
     },
     "execution_count": 74,
     "metadata": {},
     "output_type": "execute_result"
    }
   ],
   "source": [
    "# Сортировка выбранного столбца по столбцам\n",
    "df = pd.DataFrame([[10, 2, 4, 6, 8],\n",
    "                   [0.1, 0.6, 0.8, 0.13, 0.5]], \n",
    "                  index=list('ab'), \n",
    "                  columns=list('abcde'))\n",
    "df.sort_values(by='b', axis='columns')"
   ]
  },
  {
   "attachments": {},
   "cell_type": "markdown",
   "id": "b345fead",
   "metadata": {},
   "source": [
    "##### sort_index()\n",
    "* *axis* – ось, по которой производится сортировка (‘index’ или ‘columns’)\n",
    "* Остальные параметры аналогично Series"
   ]
  },
  {
   "cell_type": "code",
   "execution_count": 75,
   "id": "c75da031",
   "metadata": {},
   "outputs": [
    {
     "data": {
      "text/html": [
       "<div>\n",
       "<style scoped>\n",
       "    .dataframe tbody tr th:only-of-type {\n",
       "        vertical-align: middle;\n",
       "    }\n",
       "\n",
       "    .dataframe tbody tr th {\n",
       "        vertical-align: top;\n",
       "    }\n",
       "\n",
       "    .dataframe thead th {\n",
       "        text-align: right;\n",
       "    }\n",
       "</style>\n",
       "<table border=\"1\" class=\"dataframe\">\n",
       "  <thead>\n",
       "    <tr style=\"text-align: right;\">\n",
       "      <th></th>\n",
       "      <th>a</th>\n",
       "      <th>b</th>\n",
       "      <th>c</th>\n",
       "      <th>d</th>\n",
       "      <th>e</th>\n",
       "    </tr>\n",
       "  </thead>\n",
       "  <tbody>\n",
       "    <tr>\n",
       "      <th>a</th>\n",
       "      <td>8.0</td>\n",
       "      <td>4.0</td>\n",
       "      <td>10.0</td>\n",
       "      <td>2.0</td>\n",
       "      <td>6.00</td>\n",
       "    </tr>\n",
       "    <tr>\n",
       "      <th>b</th>\n",
       "      <td>0.5</td>\n",
       "      <td>0.8</td>\n",
       "      <td>0.1</td>\n",
       "      <td>0.6</td>\n",
       "      <td>0.13</td>\n",
       "    </tr>\n",
       "  </tbody>\n",
       "</table>\n",
       "</div>"
      ],
      "text/plain": [
       "     a    b     c    d     e\n",
       "a  8.0  4.0  10.0  2.0  6.00\n",
       "b  0.5  0.8   0.1  0.6  0.13"
      ]
     },
     "execution_count": 75,
     "metadata": {},
     "output_type": "execute_result"
    }
   ],
   "source": [
    "\n",
    "# Cортировка столбцов в лексикографическом порядке\n",
    "df = pd.DataFrame([[10, 2, 4, 6, 8],\n",
    "                   [0.1, 0.6, 0.8, 0.13, 0.5]], \n",
    "                  index=list('ab'), \n",
    "                  columns=list('cdbea'))\n",
    "df.sort_index(axis='columns')"
   ]
  },
  {
   "cell_type": "code",
   "execution_count": 76,
   "id": "7d286ed5",
   "metadata": {},
   "outputs": [
    {
     "data": {
      "text/html": [
       "<div>\n",
       "<style scoped>\n",
       "    .dataframe tbody tr th:only-of-type {\n",
       "        vertical-align: middle;\n",
       "    }\n",
       "\n",
       "    .dataframe tbody tr th {\n",
       "        vertical-align: top;\n",
       "    }\n",
       "\n",
       "    .dataframe thead th {\n",
       "        text-align: right;\n",
       "    }\n",
       "</style>\n",
       "<table border=\"1\" class=\"dataframe\">\n",
       "  <thead>\n",
       "    <tr style=\"text-align: right;\">\n",
       "      <th></th>\n",
       "      <th>a</th>\n",
       "      <th>c</th>\n",
       "    </tr>\n",
       "  </thead>\n",
       "  <tbody>\n",
       "    <tr>\n",
       "      <th>a</th>\n",
       "      <td>8</td>\n",
       "      <td>0.50</td>\n",
       "    </tr>\n",
       "    <tr>\n",
       "      <th>b</th>\n",
       "      <td>6</td>\n",
       "      <td>0.13</td>\n",
       "    </tr>\n",
       "    <tr>\n",
       "      <th>c</th>\n",
       "      <td>10</td>\n",
       "      <td>0.10</td>\n",
       "    </tr>\n",
       "    <tr>\n",
       "      <th>d</th>\n",
       "      <td>2</td>\n",
       "      <td>0.60</td>\n",
       "    </tr>\n",
       "    <tr>\n",
       "      <th>e</th>\n",
       "      <td>4</td>\n",
       "      <td>0.80</td>\n",
       "    </tr>\n",
       "  </tbody>\n",
       "</table>\n",
       "</div>"
      ],
      "text/plain": [
       "    a     c\n",
       "a   8  0.50\n",
       "b   6  0.13\n",
       "c  10  0.10\n",
       "d   2  0.60\n",
       "e   4  0.80"
      ]
     },
     "execution_count": 76,
     "metadata": {},
     "output_type": "execute_result"
    }
   ],
   "source": [
    "# Cортировка строк в лексикографическом порядке\n",
    "df = pd.DataFrame({'a': [10, 2, 4, 6, 8], \n",
    "                   'c': [0.1, 0.6, 0.8, 0.13, 0.5]},\n",
    "                 index=list('cdeba'))\n",
    "\n",
    "df.sort_index(axis='index')"
   ]
  },
  {
   "attachments": {},
   "cell_type": "markdown",
   "id": "673f0ee4",
   "metadata": {},
   "source": [
    "### Очистка DataFrame от NaN"
   ]
  },
  {
   "attachments": {},
   "cell_type": "markdown",
   "id": "ae037835",
   "metadata": {},
   "source": [
    "##### dropna() – удаление столбца/строки, содержащей NaN значение\n",
    "* *axis* – ‘index’/0(удаление строк) или ‘columns’/1(удаление столбцов) (по умолчанию 0) \n",
    "* *how* – ‘any’(удалить, если хотя бы одно значение NaN) или ‘all’ (удалить, если все значения NaN)(по умолчанию ‘any’)\n",
    "* *thresh* – сколько не NaN значений требуется, чтобы избежать удаления (не комбинируется с how)\n",
    "* *subset* – метки вдоль другой оси, которые следует учитывать, например, если вы удаляете строки, это будет список столбцов, которые стоит проверять на наличие NaN.\n",
    "* *inplace* – ‘in-place’ очистка от NaN\n",
    "* *ignore_index* – заменить в результирующей таблице индекс на последовательность 0..n\n"
   ]
  },
  {
   "cell_type": "code",
   "execution_count": 77,
   "id": "781bd827",
   "metadata": {},
   "outputs": [
    {
     "data": {
      "text/html": [
       "<div>\n",
       "<style scoped>\n",
       "    .dataframe tbody tr th:only-of-type {\n",
       "        vertical-align: middle;\n",
       "    }\n",
       "\n",
       "    .dataframe tbody tr th {\n",
       "        vertical-align: top;\n",
       "    }\n",
       "\n",
       "    .dataframe thead th {\n",
       "        text-align: right;\n",
       "    }\n",
       "</style>\n",
       "<table border=\"1\" class=\"dataframe\">\n",
       "  <thead>\n",
       "    <tr style=\"text-align: right;\">\n",
       "      <th></th>\n",
       "      <th>a</th>\n",
       "    </tr>\n",
       "  </thead>\n",
       "  <tbody>\n",
       "    <tr>\n",
       "      <th>c</th>\n",
       "      <td>10.0</td>\n",
       "    </tr>\n",
       "    <tr>\n",
       "      <th>d</th>\n",
       "      <td>2.0</td>\n",
       "    </tr>\n",
       "    <tr>\n",
       "      <th>e</th>\n",
       "      <td>4.0</td>\n",
       "    </tr>\n",
       "    <tr>\n",
       "      <th>b</th>\n",
       "      <td>6.0</td>\n",
       "    </tr>\n",
       "    <tr>\n",
       "      <th>a</th>\n",
       "      <td>NaN</td>\n",
       "    </tr>\n",
       "  </tbody>\n",
       "</table>\n",
       "</div>"
      ],
      "text/plain": [
       "      a\n",
       "c  10.0\n",
       "d   2.0\n",
       "e   4.0\n",
       "b   6.0\n",
       "a   NaN"
      ]
     },
     "execution_count": 77,
     "metadata": {},
     "output_type": "execute_result"
    }
   ],
   "source": [
    "df = pd.DataFrame({'a': [10, 2, 4, 6, np.nan], \n",
    "                   'c': [0.1, np.nan, 0.8, np.nan, 0.5]},\n",
    "                 index=list('cdeba'))\n",
    "#удаляем столбцы, где больше одного значения NaN\n",
    "df.dropna(axis=1, thresh=df.shape[0] - 1)"
   ]
  },
  {
   "cell_type": "code",
   "execution_count": 78,
   "id": "0df14b99",
   "metadata": {},
   "outputs": [
    {
     "data": {
      "text/html": [
       "<div>\n",
       "<style scoped>\n",
       "    .dataframe tbody tr th:only-of-type {\n",
       "        vertical-align: middle;\n",
       "    }\n",
       "\n",
       "    .dataframe tbody tr th {\n",
       "        vertical-align: top;\n",
       "    }\n",
       "\n",
       "    .dataframe thead th {\n",
       "        text-align: right;\n",
       "    }\n",
       "</style>\n",
       "<table border=\"1\" class=\"dataframe\">\n",
       "  <thead>\n",
       "    <tr style=\"text-align: right;\">\n",
       "      <th></th>\n",
       "      <th>a</th>\n",
       "      <th>b</th>\n",
       "      <th>c</th>\n",
       "    </tr>\n",
       "  </thead>\n",
       "  <tbody>\n",
       "    <tr>\n",
       "      <th>b</th>\n",
       "      <td>1.0</td>\n",
       "      <td>2.0</td>\n",
       "      <td>NaN</td>\n",
       "    </tr>\n",
       "  </tbody>\n",
       "</table>\n",
       "</div>"
      ],
      "text/plain": [
       "     a    b   c\n",
       "b  1.0  2.0 NaN"
      ]
     },
     "execution_count": 78,
     "metadata": {},
     "output_type": "execute_result"
    }
   ],
   "source": [
    "df = pd.DataFrame([[np.nan, 1, 2], \n",
    "                   [1, 2, np.nan], \n",
    "                   [1, np.nan, 2]],\n",
    "                  index=list('abc'),\n",
    "                  columns=list('abc'))\n",
    "# Удаляем все строки, где есть np.nan, но не учитываем столбец 'c'\n",
    "df.dropna(axis=0, subset=['a', 'b'])"
   ]
  },
  {
   "attachments": {},
   "cell_type": "markdown",
   "id": "6c96559c",
   "metadata": {},
   "source": [
    "#### fillna() – заполнение NaN другим значением\n",
    "* *value* – значение, которым заполняются NaN. Можно также передавать словарь, Series или DataFrame, указывая какое значение использовать для каждого индекса (для Series) или столбца (для DataFrame).\n",
    "* *method* – альтернативный метод заполнения. Если ‘bfil’ – используется следующее достоверное наблюдение, чтобы заполнить NaN, если ‘ffil’ – распространяется последнее достоверное наблюдение (по умолчанию None). Не комбинируется с value.\n",
    "* *axis* – ось вдоль которой заполняем значения (используется при заполнении с параметром method != None), ‘index’/0 или ‘columns’/1 (по умолчанию 0).\n",
    "* *inplace* – ‘in-place’ заполнение NaN\n",
    "* *limit* – если указан method, то это максимальное количество NaN значений, на которое может распространиться достоверное наблюдение. Если указан value, то это максимальное число значений, которое может заполнить метод вдоль указанной оси.\n"
   ]
  },
  {
   "cell_type": "code",
   "execution_count": null,
   "id": "0208557e",
   "metadata": {},
   "outputs": [
    {
     "data": {
      "text/html": [
       "<div>\n",
       "<style scoped>\n",
       "    .dataframe tbody tr th:only-of-type {\n",
       "        vertical-align: middle;\n",
       "    }\n",
       "\n",
       "    .dataframe tbody tr th {\n",
       "        vertical-align: top;\n",
       "    }\n",
       "\n",
       "    .dataframe thead th {\n",
       "        text-align: right;\n",
       "    }\n",
       "</style>\n",
       "<table border=\"1\" class=\"dataframe\">\n",
       "  <thead>\n",
       "    <tr style=\"text-align: right;\">\n",
       "      <th></th>\n",
       "      <th>0</th>\n",
       "      <th>1</th>\n",
       "      <th>2</th>\n",
       "    </tr>\n",
       "  </thead>\n",
       "  <tbody>\n",
       "    <tr>\n",
       "      <th>0</th>\n",
       "      <td>2.0</td>\n",
       "      <td>1.0</td>\n",
       "      <td>2</td>\n",
       "    </tr>\n",
       "    <tr>\n",
       "      <th>1</th>\n",
       "      <td>1.0</td>\n",
       "      <td>2.0</td>\n",
       "      <td>2</td>\n",
       "    </tr>\n",
       "    <tr>\n",
       "      <th>2</th>\n",
       "      <td>1.0</td>\n",
       "      <td>NaN</td>\n",
       "      <td>2</td>\n",
       "    </tr>\n",
       "  </tbody>\n",
       "</table>\n",
       "</div>"
      ],
      "text/plain": [
       "     0    1  2\n",
       "0  2.0  1.0  2\n",
       "1  1.0  2.0  2\n",
       "2  1.0  NaN  2"
      ]
     },
     "metadata": {},
     "output_type": "display_data"
    }
   ],
   "source": [
    "df = pd.DataFrame([[np.nan, 1, 2], \n",
    "                   [1, np.nan, 2], \n",
    "                   [1, np.nan, 2]])\n",
    "# Заполняем все NaN значением 2, но не больше 2-ух раз\n",
    "df.fillna(2, limit=1)"
   ]
  },
  {
   "cell_type": "code",
   "execution_count": null,
   "id": "69ef7d6f",
   "metadata": {},
   "outputs": [
    {
     "data": {
      "text/html": [
       "<div>\n",
       "<style scoped>\n",
       "    .dataframe tbody tr th:only-of-type {\n",
       "        vertical-align: middle;\n",
       "    }\n",
       "\n",
       "    .dataframe tbody tr th {\n",
       "        vertical-align: top;\n",
       "    }\n",
       "\n",
       "    .dataframe thead th {\n",
       "        text-align: right;\n",
       "    }\n",
       "</style>\n",
       "<table border=\"1\" class=\"dataframe\">\n",
       "  <thead>\n",
       "    <tr style=\"text-align: right;\">\n",
       "      <th></th>\n",
       "      <th>0</th>\n",
       "      <th>1</th>\n",
       "      <th>2</th>\n",
       "    </tr>\n",
       "  </thead>\n",
       "  <tbody>\n",
       "    <tr>\n",
       "      <th>0</th>\n",
       "      <td>1.0</td>\n",
       "      <td>1.0</td>\n",
       "      <td>NaN</td>\n",
       "    </tr>\n",
       "    <tr>\n",
       "      <th>1</th>\n",
       "      <td>1.0</td>\n",
       "      <td>1.0</td>\n",
       "      <td>2.0</td>\n",
       "    </tr>\n",
       "    <tr>\n",
       "      <th>2</th>\n",
       "      <td>1.0</td>\n",
       "      <td>2.0</td>\n",
       "      <td>2.0</td>\n",
       "    </tr>\n",
       "  </tbody>\n",
       "</table>\n",
       "</div>"
      ],
      "text/plain": [
       "     0    1    2\n",
       "0  1.0  1.0  NaN\n",
       "1  1.0  1.0  2.0\n",
       "2  1.0  2.0  2.0"
      ]
     },
     "metadata": {},
     "output_type": "display_data"
    }
   ],
   "source": [
    "df = pd.DataFrame([[np.nan, 1, np.nan], \n",
    "                   [np.nan, 1, 2], \n",
    "                   [1, np.nan, 2]])\n",
    "# Заполняем NaN следующим валидным значением в СТОЛБЦЕ\n",
    "df.fillna(method=\"bfill\", axis=1)"
   ]
  },
  {
   "cell_type": "code",
   "execution_count": null,
   "id": "c653b10e",
   "metadata": {},
   "outputs": [
    {
     "data": {
      "text/html": [
       "<div>\n",
       "<style scoped>\n",
       "    .dataframe tbody tr th:only-of-type {\n",
       "        vertical-align: middle;\n",
       "    }\n",
       "\n",
       "    .dataframe tbody tr th {\n",
       "        vertical-align: top;\n",
       "    }\n",
       "\n",
       "    .dataframe thead th {\n",
       "        text-align: right;\n",
       "    }\n",
       "</style>\n",
       "<table border=\"1\" class=\"dataframe\">\n",
       "  <thead>\n",
       "    <tr style=\"text-align: right;\">\n",
       "      <th></th>\n",
       "      <th>0</th>\n",
       "      <th>1</th>\n",
       "      <th>2</th>\n",
       "    </tr>\n",
       "  </thead>\n",
       "  <tbody>\n",
       "    <tr>\n",
       "      <th>0</th>\n",
       "      <td>2.0</td>\n",
       "      <td>1.0</td>\n",
       "      <td>4.0</td>\n",
       "    </tr>\n",
       "    <tr>\n",
       "      <th>1</th>\n",
       "      <td>NaN</td>\n",
       "      <td>1.0</td>\n",
       "      <td>2.0</td>\n",
       "    </tr>\n",
       "    <tr>\n",
       "      <th>2</th>\n",
       "      <td>1.0</td>\n",
       "      <td>3.0</td>\n",
       "      <td>2.0</td>\n",
       "    </tr>\n",
       "  </tbody>\n",
       "</table>\n",
       "</div>"
      ],
      "text/plain": [
       "     0    1    2\n",
       "0  2.0  1.0  4.0\n",
       "1  NaN  1.0  2.0\n",
       "2  1.0  3.0  2.0"
      ]
     },
     "metadata": {},
     "output_type": "display_data"
    }
   ],
   "source": [
    "df = pd.DataFrame([[np.nan, 1, np.nan], \n",
    "                   [np.nan, 1, 2], \n",
    "                   [1, np.nan, 2]])\n",
    "# Заполняем NaN своим значением для каждого столбца\n",
    "# но не более 1-го раза за столбец\n",
    "df.fillna({0:2, 1:3, 2:4}, limit=1)"
   ]
  },
  {
   "attachments": {},
   "cell_type": "markdown",
   "id": "7fc9fa2f",
   "metadata": {},
   "source": [
    "##### drop_duplicates() – удаление дублирующихся строк. \n",
    "* *subset* – cтолбцы которые следует учитывать при поиске дубликатов (по умолчанию – все столбцы)\n",
    "* *keep* – какое из дублирующихся вхождений необходимо сохранить. ‘first’ – первое, ‘last’ – последнее, False – удалить все.\n",
    "* *inplace* – ‘in-place’ очистка от дубликатов\n",
    "* *ignore_index* – заменить в результирующей таблице индекс на последовательность 0..n\n"
   ]
  },
  {
   "cell_type": "code",
   "execution_count": null,
   "id": "667e1baa",
   "metadata": {},
   "outputs": [
    {
     "data": {
      "text/html": [
       "<div>\n",
       "<style scoped>\n",
       "    .dataframe tbody tr th:only-of-type {\n",
       "        vertical-align: middle;\n",
       "    }\n",
       "\n",
       "    .dataframe tbody tr th {\n",
       "        vertical-align: top;\n",
       "    }\n",
       "\n",
       "    .dataframe thead th {\n",
       "        text-align: right;\n",
       "    }\n",
       "</style>\n",
       "<table border=\"1\" class=\"dataframe\">\n",
       "  <thead>\n",
       "    <tr style=\"text-align: right;\">\n",
       "      <th></th>\n",
       "      <th>0</th>\n",
       "      <th>1</th>\n",
       "      <th>2</th>\n",
       "    </tr>\n",
       "  </thead>\n",
       "  <tbody>\n",
       "    <tr>\n",
       "      <th>0</th>\n",
       "      <td>1</td>\n",
       "      <td>2</td>\n",
       "      <td>3</td>\n",
       "    </tr>\n",
       "    <tr>\n",
       "      <th>3</th>\n",
       "      <td>1</td>\n",
       "      <td>3</td>\n",
       "      <td>5</td>\n",
       "    </tr>\n",
       "  </tbody>\n",
       "</table>\n",
       "</div>"
      ],
      "text/plain": [
       "   0  1  2\n",
       "0  1  2  3\n",
       "3  1  3  5"
      ]
     },
     "metadata": {},
     "output_type": "display_data"
    }
   ],
   "source": [
    "df = pd.DataFrame([[1, 2, 3], [1, 2, 3], [1, 2, 4], [1, 3, 5]])\n",
    "# Удалить дубликаты (дубликаты рассчитываются по первым двум столбцам)\n",
    "df.drop_duplicates(subset=[0, 1])"
   ]
  },
  {
   "cell_type": "code",
   "execution_count": null,
   "id": "cca81091",
   "metadata": {},
   "outputs": [
    {
     "data": {
      "text/html": [
       "<div>\n",
       "<style scoped>\n",
       "    .dataframe tbody tr th:only-of-type {\n",
       "        vertical-align: middle;\n",
       "    }\n",
       "\n",
       "    .dataframe tbody tr th {\n",
       "        vertical-align: top;\n",
       "    }\n",
       "\n",
       "    .dataframe thead th {\n",
       "        text-align: right;\n",
       "    }\n",
       "</style>\n",
       "<table border=\"1\" class=\"dataframe\">\n",
       "  <thead>\n",
       "    <tr style=\"text-align: right;\">\n",
       "      <th></th>\n",
       "      <th>0</th>\n",
       "      <th>1</th>\n",
       "      <th>2</th>\n",
       "    </tr>\n",
       "  </thead>\n",
       "  <tbody>\n",
       "    <tr>\n",
       "      <th>2</th>\n",
       "      <td>1</td>\n",
       "      <td>2</td>\n",
       "      <td>4</td>\n",
       "    </tr>\n",
       "    <tr>\n",
       "      <th>3</th>\n",
       "      <td>1</td>\n",
       "      <td>3</td>\n",
       "      <td>5</td>\n",
       "    </tr>\n",
       "  </tbody>\n",
       "</table>\n",
       "</div>"
      ],
      "text/plain": [
       "   0  1  2\n",
       "2  1  2  4\n",
       "3  1  3  5"
      ]
     },
     "metadata": {},
     "output_type": "display_data"
    }
   ],
   "source": [
    "df = pd.DataFrame([[1, 2, 3], [1, 2, 3], [1, 2, 4], [1, 3, 5]])\n",
    "# Берем последнее вхождение\n",
    "df.drop_duplicates(subset=[0, 1], keep='last')"
   ]
  }
 ],
 "metadata": {
  "kernelspec": {
   "display_name": "Python 3 (ipykernel)",
   "language": "python",
   "name": "python3"
  },
  "language_info": {
   "codemirror_mode": {
    "name": "ipython",
    "version": 3
   },
   "file_extension": ".py",
   "mimetype": "text/x-python",
   "name": "python",
   "nbconvert_exporter": "python",
   "pygments_lexer": "ipython3",
   "version": "3.10.6"
  }
 },
 "nbformat": 4,
 "nbformat_minor": 5
}
